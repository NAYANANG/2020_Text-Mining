{
 "cells": [
  {
   "cell_type": "code",
   "execution_count": 1,
   "metadata": {},
   "outputs": [],
   "source": [
    "from selenium import webdriver\n",
    "import os\n",
    "from bs4 import BeautifulSoup\n",
    "import bs4\n",
    "import pandas as pd\n",
    "import time\n",
    "import csv\n",
    "import urllib.request as u"
   ]
  },
  {
   "cell_type": "code",
   "execution_count": 5,
   "metadata": {},
   "outputs": [],
   "source": [
    "browser=webdriver.Chrome('chromedriver.exe')\n",
    "browser.get('http://www.ichannela.com/com/cmm/total_search.do?search='+'코로나방역')"
   ]
  },
  {
   "cell_type": "code",
   "execution_count": 22,
   "metadata": {},
   "outputs": [],
   "source": [
    "url=[]\n",
    "p=0\n",
    "browser.get('http://www.ichannela.com/com/cmm/total_search.do?search='+'코로나방역')\n",
    "while p < 51:\n",
    "    browser.find_element_by_xpath('//*[@id=\"btnMore1\"]').click()\n",
    "    time.sleep(4)\n",
    "    p += 1"
   ]
  },
  {
   "cell_type": "code",
   "execution_count": 24,
   "metadata": {},
   "outputs": [],
   "source": [
    "url=[]\n",
    "html=browser.page_source\n",
    "soup=BeautifulSoup(html,'html.parser')\n",
    "attr=soup.select('div>ul>li> a')\n",
    "for urls in attr:\n",
    "    url.append(urls['href'])\n",
    "#browser.find_element_by_xpath('//*[@id=\"btnMore1\"]').click()"
   ]
  },
  {
   "cell_type": "code",
   "execution_count": 25,
   "metadata": {},
   "outputs": [
    {
     "data": {
      "text/plain": [
       "211"
      ]
     },
     "execution_count": 25,
     "metadata": {},
     "output_type": "execute_result"
    }
   ],
   "source": [
    "len(url)"
   ]
  },
  {
   "cell_type": "code",
   "execution_count": 30,
   "metadata": {},
   "outputs": [],
   "source": [
    "url=url[5:135]"
   ]
  },
  {
   "cell_type": "code",
   "execution_count": 37,
   "metadata": {},
   "outputs": [],
   "source": [
    "dict={}\n",
    "for i in range(len(url)):\n",
    "    browser.get('http://www.ichannela.com'+url[i])\n",
    "    html=browser.page_source\n",
    "    soup=BeautifulSoup(html,'html.parser')\n",
    "    title=soup.find('strong',{'class':'subject_pg'}).text\n",
    "    title=title.replace('\\r','').replace('\\n','').replace('\\t','')\n",
    "    text=soup.find('div',{'id':'articleSection'}).text\n",
    "    text=text.replace('\\n','').replace('\\t','').replace('\\r','').replace('■','').replace('-','').replace('*','')\n",
    "    dict[title]=text"
   ]
  },
  {
   "cell_type": "code",
   "execution_count": 38,
   "metadata": {},
   "outputs": [
    {
     "data": {
      "text/plain": [
       "130"
      ]
     },
     "execution_count": 38,
     "metadata": {},
     "output_type": "execute_result"
    }
   ],
   "source": [
    "len(dict)"
   ]
  },
  {
   "cell_type": "code",
   "execution_count": 39,
   "metadata": {},
   "outputs": [],
   "source": [
    "with open('COVID_채널A.csv','w',-1,encoding='utf-8') as f:\n",
    "        w=csv.writer(f)\n",
    "        w.writerow(dict.keys())\n",
    "        w.writerow(dict.values()) "
   ]
  },
  {
   "cell_type": "code",
   "execution_count": 40,
   "metadata": {},
   "outputs": [],
   "source": [
    "chosun=pd.read_csv('./COVID_채널A.csv',encoding='utf-8')\n",
    "chosun=chosun.transpose()\n",
    "list_b=list\n",
    "title=list_b(chosun.index)\n",
    "list_c=list\n",
    "text=chosun[0]\n",
    "text=list_c(text)\n",
    "source=pd.DataFrame({'Title':title,'Text':text})\n",
    "source=source.iloc[:100]\n",
    "source['Press']='채널A'\n",
    "source=source[['Press','Title','Text']]\n",
    "source.to_csv('COVID_채녈A.csv',encoding='utf-8-sig')"
   ]
  }
 ],
 "metadata": {
  "kernelspec": {
   "display_name": "Python 3",
   "language": "python",
   "name": "python3"
  },
  "language_info": {
   "codemirror_mode": {
    "name": "ipython",
    "version": 3
   },
   "file_extension": ".py",
   "mimetype": "text/x-python",
   "name": "python",
   "nbconvert_exporter": "python",
   "pygments_lexer": "ipython3",
   "version": "3.7.9"
  }
 },
 "nbformat": 4,
 "nbformat_minor": 4
}
