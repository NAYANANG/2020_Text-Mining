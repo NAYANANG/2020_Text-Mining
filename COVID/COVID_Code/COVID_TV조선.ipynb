{
 "cells": [
  {
   "cell_type": "code",
   "execution_count": 1,
   "metadata": {},
   "outputs": [],
   "source": [
    "from selenium import webdriver\n",
    "import os\n",
    "from bs4 import BeautifulSoup\n",
    "import pandas as pd\n",
    "import time\n",
    "import csv\n",
    "import urllib.request as ur"
   ]
  },
  {
   "cell_type": "code",
   "execution_count": 2,
   "metadata": {},
   "outputs": [],
   "source": [
    "browser=webdriver.Chrome('chromedriver.exe')\n",
    "browser.get('http://search.tvchosun.com/tvchosun/news.search?query={0}&starget=&scomplex=or&sdate=&categoryname=&categoryd2=&pageno=1&orderby=news&skind=&requery={1}&cont5=&category=\"{2}\"&kind=&cont4=tab&sline=Y'.format(\"코로나방역\",\"코로나방역\",'뉴스'))"
   ]
  },
  {
   "cell_type": "code",
   "execution_count": 5,
   "metadata": {},
   "outputs": [],
   "source": [
    "url=[]\n",
    "html=browser.page_source\n",
    "soup=BeautifulSoup(html,'html.parser')\n",
    "attr=soup.select('div.detail > p.article_tit > a')\n",
    "for urls in attr:\n",
    "    url.append(urls['href'])\n",
    "browser.find_element_by_xpath('//*[@id=\"wrap\"]/div[2]/div[3]/span/a[1]').click()\n",
    "\n",
    "html=browser.page_source\n",
    "soup=BeautifulSoup(html,'html.parser')\n",
    "attr=soup.select('div.detail > p.article_tit > a')\n",
    "for urls in attr:\n",
    "    url.append(urls['href'])\n",
    "browser.find_element_by_xpath('//*[@id=\"wrap\"]/div[2]/div[3]/span/a[2]').click()\n",
    "\n",
    "html=browser.page_source\n",
    "soup=BeautifulSoup(html,'html.parser')\n",
    "attr=soup.select('div.detail > p.article_tit > a')\n",
    "for urls in attr:\n",
    "    url.append(urls['href'])\n",
    "browser.find_element_by_xpath('//*[@id=\"wrap\"]/div[2]/div[3]/span/a[3]').click()\n",
    "\n",
    "html=browser.page_source\n",
    "soup=BeautifulSoup(html,'html.parser')\n",
    "attr=soup.select('div.detail > p.article_tit > a')\n",
    "for urls in attr:\n",
    "    url.append(urls['href'])\n",
    "browser.find_element_by_xpath('//*[@id=\"wrap\"]/div[2]/div[3]/span/a[4]').click()\n",
    "\n",
    "html=browser.page_source\n",
    "soup=BeautifulSoup(html,'html.parser')\n",
    "attr=soup.select('div.detail > p.article_tit > a')\n",
    "for urls in attr:\n",
    "    url.append(urls['href'])\n",
    "browser.find_element_by_xpath('//*[@id=\"wrap\"]/div[2]/div[3]/span/a[5]').click()\n",
    "html=browser.page_source\n",
    "soup=BeautifulSoup(html,'html.parser')\n",
    "attr=soup.select('div.detail > p.article_tit > a')\n",
    "for urls in attr:\n",
    "    url.append(urls['href'])\n",
    "browser.find_element_by_xpath('//*[@id=\"wrap\"]/div[2]/div[3]/span/a[6]').click()\n",
    "html=browser.page_source\n",
    "soup=BeautifulSoup(html,'html.parser')\n",
    "attr=soup.select('div.detail > p.article_tit > a')\n",
    "for urls in attr:\n",
    "    url.append(urls['href'])"
   ]
  },
  {
   "cell_type": "code",
   "execution_count": 9,
   "metadata": {},
   "outputs": [
    {
     "data": {
      "text/plain": [
       "130"
      ]
     },
     "execution_count": 9,
     "metadata": {},
     "output_type": "execute_result"
    }
   ],
   "source": [
    "len(url)"
   ]
  },
  {
   "cell_type": "code",
   "execution_count": 10,
   "metadata": {},
   "outputs": [],
   "source": [
    "browser=webdriver.Chrome('chromedriver.exe')\n",
    "dict={}\n",
    "for i in range(len(url)):\n",
    "    browser.get(url[i])\n",
    "    html=browser.page_source\n",
    "    soup=BeautifulSoup(html,'html.parser')\n",
    "    title=soup.find('h3',{'class':'title'}).text\n",
    "    title=title.replace('\\r','').replace('\\n','').replace('\\t','')\n",
    "    text=soup.find('div',{'class':'article_detail_body'}).text\n",
    "    text=text.replace('\\n','').replace('\\t','').replace('\\r','')\n",
    "    dict[title]=text"
   ]
  },
  {
   "cell_type": "code",
   "execution_count": 11,
   "metadata": {},
   "outputs": [
    {
     "data": {
      "text/plain": [
       "110"
      ]
     },
     "execution_count": 11,
     "metadata": {},
     "output_type": "execute_result"
    }
   ],
   "source": [
    "len(dict)"
   ]
  },
  {
   "cell_type": "code",
   "execution_count": 12,
   "metadata": {},
   "outputs": [],
   "source": [
    "with open('COVID_TV조선.csv','w',-1,encoding='utf-8') as f:\n",
    "        w=csv.writer(f)\n",
    "        w.writerow(dict.keys())\n",
    "        w.writerow(dict.values()) "
   ]
  },
  {
   "cell_type": "code",
   "execution_count": 13,
   "metadata": {},
   "outputs": [],
   "source": [
    "chosun=pd.read_csv('./COVID_TV조선.csv',encoding='utf-8')\n",
    "chosun=chosun.transpose()\n",
    "list_b=list\n",
    "title=list_b(chosun.index)\n",
    "list_c=list\n",
    "text=chosun[0]\n",
    "text=list_c(text)\n",
    "source=pd.DataFrame({'Title':title,'Text':text})\n",
    "source=source.iloc[:100]\n",
    "source['Press']='TV조선'\n",
    "source=source[['Press','Title','Text']]\n",
    "source.to_csv('COVID_TV조선.csv',encoding='utf-8-sig')"
   ]
  },
  {
   "cell_type": "code",
   "execution_count": 14,
   "metadata": {},
   "outputs": [
    {
     "data": {
      "text/html": [
       "<div>\n",
       "<style scoped>\n",
       "    .dataframe tbody tr th:only-of-type {\n",
       "        vertical-align: middle;\n",
       "    }\n",
       "\n",
       "    .dataframe tbody tr th {\n",
       "        vertical-align: top;\n",
       "    }\n",
       "\n",
       "    .dataframe thead th {\n",
       "        text-align: right;\n",
       "    }\n",
       "</style>\n",
       "<table border=\"1\" class=\"dataframe\">\n",
       "  <thead>\n",
       "    <tr style=\"text-align: right;\">\n",
       "      <th></th>\n",
       "      <th>Unnamed: 0</th>\n",
       "      <th>Press</th>\n",
       "      <th>Title</th>\n",
       "      <th>Text</th>\n",
       "    </tr>\n",
       "  </thead>\n",
       "  <tbody>\n",
       "    <tr>\n",
       "      <th>0</th>\n",
       "      <td>0</td>\n",
       "      <td>TV조선</td>\n",
       "      <td>文대통령 국회 시정연설…\"방역과 경제의 동반 성공, 기필코 잡겠다\"</td>\n",
       "      <td>play-rounded-fillplay-rounded-outli...</td>\n",
       "    </tr>\n",
       "    <tr>\n",
       "      <th>1</th>\n",
       "      <td>1</td>\n",
       "      <td>TV조선</td>\n",
       "      <td>文, 수험생들에 \"안쓰럽고 미안한 마음\" 격려 메시지</td>\n",
       "      <td>문재인 대통령은 오늘(2일) 오후 SNS 메시지를 통해 수능 시험을 ...</td>\n",
       "    </tr>\n",
       "    <tr>\n",
       "      <th>2</th>\n",
       "      <td>2</td>\n",
       "      <td>TV조선</td>\n",
       "      <td>'3밀' 핼러윈 행사 감염 우려…방역당국 \"모임 등 자제해달라\"</td>\n",
       "      <td>방역당국이 오는 31일 '핼러윈 데이'로 인한 코로나19 재확산을 우려해 다중이용시...</td>\n",
       "    </tr>\n",
       "    <tr>\n",
       "      <th>3</th>\n",
       "      <td>3</td>\n",
       "      <td>TV조선</td>\n",
       "      <td>남양주 요양원서 35명 무더기 확진…건물 전체 코호트 격리</td>\n",
       "      <td>경기도 남양주의 한 요양원에서 입소자와 종사자 등 35명이 무더기로 코로나19 확진...</td>\n",
       "    </tr>\n",
       "    <tr>\n",
       "      <th>4</th>\n",
       "      <td>4</td>\n",
       "      <td>TV조선</td>\n",
       "      <td>[취재후 Talk] 우리경제①…올해 결정적 장면 2가지 '추경·코로나 재확산'</td>\n",
       "      <td>올해 우리 경제는 기록을 참 많이도 세웠습니다. 마이너스 성장률, 사...</td>\n",
       "    </tr>\n",
       "    <tr>\n",
       "      <th>...</th>\n",
       "      <td>...</td>\n",
       "      <td>...</td>\n",
       "      <td>...</td>\n",
       "      <td>...</td>\n",
       "    </tr>\n",
       "    <tr>\n",
       "      <th>95</th>\n",
       "      <td>95</td>\n",
       "      <td>TV조선</td>\n",
       "      <td>내년 서울시 예산 사상 첫 40조원 돌파…\"코로나 극복에 집중\"</td>\n",
       "      <td>서울시는 올해보다 5120억원(1.3%) 증액된 40조 479억원을 내년 예산안으로...</td>\n",
       "    </tr>\n",
       "    <tr>\n",
       "      <th>96</th>\n",
       "      <td>96</td>\n",
       "      <td>TV조선</td>\n",
       "      <td>'세한도' 기증한 손창근 씨, 금관문화훈장 수상…문화유산 정부포상 이래 최초</td>\n",
       "      <td>금관문화훈장 수상자 손창근 씨/문화재청 제공        미술품 소장가 손창근 씨가...</td>\n",
       "    </tr>\n",
       "    <tr>\n",
       "      <th>97</th>\n",
       "      <td>97</td>\n",
       "      <td>TV조선</td>\n",
       "      <td>코로나19 신규확진 114명…지역발생 94명·해외유입 21명</td>\n",
       "      <td>선별진료소 모습 / 연합뉴스중앙방역대책본부는 30일 0시 기준으로 코로나19 신규확...</td>\n",
       "    </tr>\n",
       "    <tr>\n",
       "      <th>98</th>\n",
       "      <td>98</td>\n",
       "      <td>TV조선</td>\n",
       "      <td>北, 코로나 백신 개발 제약사 해킹 시도…국내 4곳도 공격</td>\n",
       "      <td>play-rounded-fillplay-rounded-outli...</td>\n",
       "    </tr>\n",
       "    <tr>\n",
       "      <th>99</th>\n",
       "      <td>99</td>\n",
       "      <td>TV조선</td>\n",
       "      <td>12월 3일 '뉴스 9' 헤드라인</td>\n",
       "      <td>play-rounded-fillplay-rounded-outli...</td>\n",
       "    </tr>\n",
       "  </tbody>\n",
       "</table>\n",
       "<p>100 rows × 4 columns</p>\n",
       "</div>"
      ],
      "text/plain": [
       "    Unnamed: 0 Press                                        Title  \\\n",
       "0            0  TV조선        文대통령 국회 시정연설…\"방역과 경제의 동반 성공, 기필코 잡겠다\"   \n",
       "1            1  TV조선                文, 수험생들에 \"안쓰럽고 미안한 마음\" 격려 메시지   \n",
       "2            2  TV조선          '3밀' 핼러윈 행사 감염 우려…방역당국 \"모임 등 자제해달라\"   \n",
       "3            3  TV조선             남양주 요양원서 35명 무더기 확진…건물 전체 코호트 격리   \n",
       "4            4  TV조선  [취재후 Talk] 우리경제①…올해 결정적 장면 2가지 '추경·코로나 재확산'   \n",
       "..         ...   ...                                          ...   \n",
       "95          95  TV조선          내년 서울시 예산 사상 첫 40조원 돌파…\"코로나 극복에 집중\"   \n",
       "96          96  TV조선   '세한도' 기증한 손창근 씨, 금관문화훈장 수상…문화유산 정부포상 이래 최초   \n",
       "97          97  TV조선            코로나19 신규확진 114명…지역발생 94명·해외유입 21명   \n",
       "98          98  TV조선             北, 코로나 백신 개발 제약사 해킹 시도…국내 4곳도 공격   \n",
       "99          99  TV조선                          12월 3일 '뉴스 9' 헤드라인    \n",
       "\n",
       "                                                 Text  \n",
       "0              play-rounded-fillplay-rounded-outli...  \n",
       "1           문재인 대통령은 오늘(2일) 오후 SNS 메시지를 통해 수능 시험을 ...  \n",
       "2   방역당국이 오는 31일 '핼러윈 데이'로 인한 코로나19 재확산을 우려해 다중이용시...  \n",
       "3   경기도 남양주의 한 요양원에서 입소자와 종사자 등 35명이 무더기로 코로나19 확진...  \n",
       "4           올해 우리 경제는 기록을 참 많이도 세웠습니다. 마이너스 성장률, 사...  \n",
       "..                                                ...  \n",
       "95  서울시는 올해보다 5120억원(1.3%) 증액된 40조 479억원을 내년 예산안으로...  \n",
       "96  금관문화훈장 수상자 손창근 씨/문화재청 제공        미술품 소장가 손창근 씨가...  \n",
       "97  선별진료소 모습 / 연합뉴스중앙방역대책본부는 30일 0시 기준으로 코로나19 신규확...  \n",
       "98             play-rounded-fillplay-rounded-outli...  \n",
       "99             play-rounded-fillplay-rounded-outli...  \n",
       "\n",
       "[100 rows x 4 columns]"
      ]
     },
     "execution_count": 14,
     "metadata": {},
     "output_type": "execute_result"
    }
   ],
   "source": [
    "pd.read_csv('./COVID_TV조선.csv',encoding='utf-8')"
   ]
  }
 ],
 "metadata": {
  "kernelspec": {
   "display_name": "Python 3",
   "language": "python",
   "name": "python3"
  },
  "language_info": {
   "codemirror_mode": {
    "name": "ipython",
    "version": 3
   },
   "file_extension": ".py",
   "mimetype": "text/x-python",
   "name": "python",
   "nbconvert_exporter": "python",
   "pygments_lexer": "ipython3",
   "version": "3.7.9"
  }
 },
 "nbformat": 4,
 "nbformat_minor": 4
}
