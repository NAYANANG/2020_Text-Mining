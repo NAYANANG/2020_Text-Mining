{
 "cells": [
  {
   "cell_type": "code",
   "execution_count": 1,
   "metadata": {},
   "outputs": [],
   "source": [
    "from sklearn.feature_extraction.text import TfidfVectorizer\n",
    "from sklearn.metrics.pairwise import cosine_similarity\n",
    "import matplotlib.pyplot as plt"
   ]
  },
  {
   "cell_type": "code",
   "execution_count": 2,
   "metadata": {},
   "outputs": [],
   "source": [
    "def COVID_doc(doc):\n",
    "    import pickle\n",
    "    with open('./COVID_Doc/COVID_{0}_Doc.txt'.format(doc),'rb') as f:\n",
    "            data=pickle.load(f)\n",
    "    char=''\n",
    "    for i in range(len(data)):\n",
    "        char+=data[i]\n",
    "    with open('./COVID_Total/COVID_{0}_Total.txt'.format(doc),'wb') as f:\n",
    "             pickle.dump(char,f)"
   ]
  },
  {
   "cell_type": "code",
   "execution_count": 3,
   "metadata": {},
   "outputs": [],
   "source": [
    "COVID_doc('JTBC')"
   ]
  },
  {
   "cell_type": "code",
   "execution_count": 4,
   "metadata": {},
   "outputs": [],
   "source": [
    "COVID_doc('SBS')"
   ]
  },
  {
   "cell_type": "code",
   "execution_count": 5,
   "metadata": {},
   "outputs": [],
   "source": [
    "COVID_doc('MBC')"
   ]
  },
  {
   "cell_type": "code",
   "execution_count": 6,
   "metadata": {},
   "outputs": [],
   "source": [
    "COVID_doc('MBN')"
   ]
  },
  {
   "cell_type": "code",
   "execution_count": 7,
   "metadata": {},
   "outputs": [],
   "source": [
    "COVID_doc('국민일보')"
   ]
  },
  {
   "cell_type": "code",
   "execution_count": 8,
   "metadata": {},
   "outputs": [],
   "source": [
    "COVID_doc('문화일보')"
   ]
  },
  {
   "cell_type": "code",
   "execution_count": 21,
   "metadata": {},
   "outputs": [],
   "source": [
    "import pickle\n",
    "with open('./COVID_Total/COVID_JTBC_Total.txt','rb') as f:\n",
    "        JTBC=pickle.load(f)"
   ]
  },
  {
   "cell_type": "code",
   "execution_count": 22,
   "metadata": {},
   "outputs": [],
   "source": [
    "import pickle\n",
    "with open('./COVID_Total/COVID_SBS_Total.txt','rb') as f:\n",
    "        SBS=pickle.load(f)"
   ]
  },
  {
   "cell_type": "code",
   "execution_count": 23,
   "metadata": {},
   "outputs": [],
   "source": [
    "import pickle\n",
    "with open('./COVID_Total/COVID_MBC_Total.txt','rb') as f:\n",
    "        MBC=pickle.load(f)"
   ]
  },
  {
   "cell_type": "code",
   "execution_count": 24,
   "metadata": {},
   "outputs": [],
   "source": [
    "import pickle\n",
    "with open('./COVID_Total/COVID_MBN_Total.txt','rb') as f:\n",
    "        MBN=pickle.load(f)"
   ]
  },
  {
   "cell_type": "code",
   "execution_count": 25,
   "metadata": {},
   "outputs": [],
   "source": [
    "import pickle\n",
    "with open('./COVID_Total/COVID_국민일보_Total.txt','rb') as f:\n",
    "        kmbi=pickle.load(f)"
   ]
  },
  {
   "cell_type": "code",
   "execution_count": 26,
   "metadata": {},
   "outputs": [],
   "source": [
    "import pickle\n",
    "with open('./COVID_Total/COVID_문화일보_Total.txt','rb') as f:\n",
    "         munhwa=pickle.load(f)"
   ]
  },
  {
   "cell_type": "code",
   "execution_count": 27,
   "metadata": {},
   "outputs": [],
   "source": [
    "import pickle\n",
    "with open('./COVID_Total/COVID_KTV국민방송_Total.txt','rb') as f:\n",
    "        KTV=pickle.load(f)"
   ]
  },
  {
   "cell_type": "code",
   "execution_count": 28,
   "metadata": {},
   "outputs": [],
   "source": [
    "text=[]\n",
    "text.append(KTV)\n",
    "text.append(JTBC)\n",
    "text.append(SBS)\n",
    "text.append(MBC)\n",
    "text.append(MBN)\n",
    "text.append(kmbi)\n",
    "text.append(munhwa)"
   ]
  },
  {
   "cell_type": "code",
   "execution_count": 29,
   "metadata": {},
   "outputs": [
    {
     "name": "stdout",
     "output_type": "stream",
     "text": [
      "(7, 7)\n"
     ]
    }
   ],
   "source": [
    "vect=TfidfVectorizer()\n",
    "data=vect.fit_transform(text)\n",
    "cosine_similarity_matrix=(data*data.T)\n",
    "print(cosine_similarity_matrix.shape)\n",
    "cosine_array=cosine_similarity_matrix.toarray()"
   ]
  },
  {
   "cell_type": "code",
   "execution_count": 30,
   "metadata": {},
   "outputs": [],
   "source": [
    "import pandas as pd\n",
    "vect_dict=['KTV','JTBC','SBS','MBC','MBN','kmbi','munhwa']\n",
    "cosine_df=pd.DataFrame(cosine_array,columns=vect_dict)\n",
    "cosine_df.index=['KTV','JTBC','SBS','MBC','MBN','kmbi','munhwa']"
   ]
  },
  {
   "cell_type": "code",
   "execution_count": 31,
   "metadata": {},
   "outputs": [
    {
     "data": {
      "text/html": [
       "<div>\n",
       "<style scoped>\n",
       "    .dataframe tbody tr th:only-of-type {\n",
       "        vertical-align: middle;\n",
       "    }\n",
       "\n",
       "    .dataframe tbody tr th {\n",
       "        vertical-align: top;\n",
       "    }\n",
       "\n",
       "    .dataframe thead th {\n",
       "        text-align: right;\n",
       "    }\n",
       "</style>\n",
       "<table border=\"1\" class=\"dataframe\">\n",
       "  <thead>\n",
       "    <tr style=\"text-align: right;\">\n",
       "      <th></th>\n",
       "      <th>KTV</th>\n",
       "      <th>JTBC</th>\n",
       "      <th>SBS</th>\n",
       "      <th>MBC</th>\n",
       "      <th>MBN</th>\n",
       "      <th>kmbi</th>\n",
       "      <th>munhwa</th>\n",
       "    </tr>\n",
       "  </thead>\n",
       "  <tbody>\n",
       "    <tr>\n",
       "      <td>KTV</td>\n",
       "      <td>1.000000</td>\n",
       "      <td>0.557875</td>\n",
       "      <td>0.563696</td>\n",
       "      <td>0.699214</td>\n",
       "      <td>0.634614</td>\n",
       "      <td>0.470096</td>\n",
       "      <td>0.605309</td>\n",
       "    </tr>\n",
       "    <tr>\n",
       "      <td>JTBC</td>\n",
       "      <td>0.557875</td>\n",
       "      <td>1.000000</td>\n",
       "      <td>0.658128</td>\n",
       "      <td>0.629445</td>\n",
       "      <td>0.648150</td>\n",
       "      <td>0.641799</td>\n",
       "      <td>0.634995</td>\n",
       "    </tr>\n",
       "    <tr>\n",
       "      <td>SBS</td>\n",
       "      <td>0.563696</td>\n",
       "      <td>0.658128</td>\n",
       "      <td>1.000000</td>\n",
       "      <td>0.616272</td>\n",
       "      <td>0.729217</td>\n",
       "      <td>0.618366</td>\n",
       "      <td>0.782020</td>\n",
       "    </tr>\n",
       "    <tr>\n",
       "      <td>MBC</td>\n",
       "      <td>0.699214</td>\n",
       "      <td>0.629445</td>\n",
       "      <td>0.616272</td>\n",
       "      <td>1.000000</td>\n",
       "      <td>0.635092</td>\n",
       "      <td>0.487529</td>\n",
       "      <td>0.669821</td>\n",
       "    </tr>\n",
       "    <tr>\n",
       "      <td>MBN</td>\n",
       "      <td>0.634614</td>\n",
       "      <td>0.648150</td>\n",
       "      <td>0.729217</td>\n",
       "      <td>0.635092</td>\n",
       "      <td>1.000000</td>\n",
       "      <td>0.632519</td>\n",
       "      <td>0.749056</td>\n",
       "    </tr>\n",
       "    <tr>\n",
       "      <td>kmbi</td>\n",
       "      <td>0.470096</td>\n",
       "      <td>0.641799</td>\n",
       "      <td>0.618366</td>\n",
       "      <td>0.487529</td>\n",
       "      <td>0.632519</td>\n",
       "      <td>1.000000</td>\n",
       "      <td>0.591740</td>\n",
       "    </tr>\n",
       "    <tr>\n",
       "      <td>munhwa</td>\n",
       "      <td>0.605309</td>\n",
       "      <td>0.634995</td>\n",
       "      <td>0.782020</td>\n",
       "      <td>0.669821</td>\n",
       "      <td>0.749056</td>\n",
       "      <td>0.591740</td>\n",
       "      <td>1.000000</td>\n",
       "    </tr>\n",
       "  </tbody>\n",
       "</table>\n",
       "</div>"
      ],
      "text/plain": [
       "             KTV      JTBC       SBS       MBC       MBN      kmbi    munhwa\n",
       "KTV     1.000000  0.557875  0.563696  0.699214  0.634614  0.470096  0.605309\n",
       "JTBC    0.557875  1.000000  0.658128  0.629445  0.648150  0.641799  0.634995\n",
       "SBS     0.563696  0.658128  1.000000  0.616272  0.729217  0.618366  0.782020\n",
       "MBC     0.699214  0.629445  0.616272  1.000000  0.635092  0.487529  0.669821\n",
       "MBN     0.634614  0.648150  0.729217  0.635092  1.000000  0.632519  0.749056\n",
       "kmbi    0.470096  0.641799  0.618366  0.487529  0.632519  1.000000  0.591740\n",
       "munhwa  0.605309  0.634995  0.782020  0.669821  0.749056  0.591740  1.000000"
      ]
     },
     "execution_count": 31,
     "metadata": {},
     "output_type": "execute_result"
    }
   ],
   "source": [
    "cosine_df"
   ]
  }
 ],
 "metadata": {
  "kernelspec": {
   "display_name": "Python 3",
   "language": "python",
   "name": "python3"
  },
  "language_info": {
   "codemirror_mode": {
    "name": "ipython",
    "version": 3
   },
   "file_extension": ".py",
   "mimetype": "text/x-python",
   "name": "python",
   "nbconvert_exporter": "python",
   "pygments_lexer": "ipython3",
   "version": "3.6.8"
  }
 },
 "nbformat": 4,
 "nbformat_minor": 4
}
