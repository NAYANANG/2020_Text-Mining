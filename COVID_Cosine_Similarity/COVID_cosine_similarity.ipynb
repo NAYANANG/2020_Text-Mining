{
 "cells": [
  {
   "cell_type": "code",
   "execution_count": 1,
   "metadata": {},
   "outputs": [],
   "source": [
    "from sklearn.feature_extraction.text import TfidfVectorizer\n",
    "from sklearn.metrics.pairwise import cosine_similarity\n",
    "import matplotlib.pyplot as plt"
   ]
  },
  {
   "cell_type": "code",
   "execution_count": 5,
   "metadata": {},
   "outputs": [],
   "source": [
    "def COVID_doc(doc):\n",
    "    import pickle\n",
    "    with open('./COVID_Doc/COVID_{0}_Doc.txt'.format(doc),'rb') as f:\n",
    "            data=pickle.load(f)\n",
    "    char=''\n",
    "    for i in range(len(data)):\n",
    "        char+=data[i]\n",
    "    with open('./COVID_Total/COVID_{0}_Doc.txt'.format(doc),'wb') as f:\n",
    "             pickle.dump(char,f)"
   ]
  },
  {
   "cell_type": "code",
   "execution_count": 6,
   "metadata": {},
   "outputs": [],
   "source": [
    "COVID_doc('한겨례')"
   ]
  },
  {
   "cell_type": "code",
   "execution_count": 7,
   "metadata": {},
   "outputs": [],
   "source": [
    "COVID_doc('KTV국민방송')"
   ]
  },
  {
   "cell_type": "code",
   "execution_count": 8,
   "metadata": {},
   "outputs": [],
   "source": [
    "COVID_doc('NEWS1')"
   ]
  },
  {
   "cell_type": "code",
   "execution_count": 9,
   "metadata": {},
   "outputs": [],
   "source": [
    "COVID_doc('세계일보')"
   ]
  },
  {
   "cell_type": "code",
   "execution_count": 10,
   "metadata": {},
   "outputs": [],
   "source": [
    "COVID_doc('연합뉴스TV')"
   ]
  },
  {
   "cell_type": "code",
   "execution_count": 11,
   "metadata": {},
   "outputs": [],
   "source": [
    "COVID_doc('한국경제')"
   ]
  },
  {
   "cell_type": "code",
   "execution_count": 41,
   "metadata": {},
   "outputs": [],
   "source": [
    "import pickle\n",
    "with open('./COVID_Total/COVID_한겨례_Doc.txt','rb') as f:\n",
    "        hang=pickle.load(f)"
   ]
  },
  {
   "cell_type": "code",
   "execution_count": 42,
   "metadata": {},
   "outputs": [],
   "source": [
    "import pickle\n",
    "with open('./COVID_Total/COVID_KTV국민방송_Doc.txt','rb') as f:\n",
    "        KTV=pickle.load(f)"
   ]
  },
  {
   "cell_type": "code",
   "execution_count": 43,
   "metadata": {},
   "outputs": [],
   "source": [
    "import pickle\n",
    "with open('./COVID_Total/COVID_NEWS1_Doc.txt','rb') as f:\n",
    "        news1=pickle.load(f)"
   ]
  },
  {
   "cell_type": "code",
   "execution_count": 44,
   "metadata": {},
   "outputs": [],
   "source": [
    "import pickle\n",
    "with open('./COVID_Total/COVID_세계일보_Doc.txt','rb') as f:\n",
    "        world=pickle.load(f)"
   ]
  },
  {
   "cell_type": "code",
   "execution_count": 45,
   "metadata": {},
   "outputs": [],
   "source": [
    "import pickle\n",
    "with open('./COVID_Total/COVID_연합뉴스TV_Doc.txt','rb') as f:\n",
    "        Yonhap=pickle.load(f)"
   ]
  },
  {
   "cell_type": "code",
   "execution_count": 46,
   "metadata": {},
   "outputs": [],
   "source": [
    "import pickle\n",
    "with open('./COVID_Total/COVID_한국경제_Doc.txt','rb') as f:\n",
    "        korea_eco=pickle.load(f)"
   ]
  },
  {
   "cell_type": "code",
   "execution_count": 47,
   "metadata": {},
   "outputs": [],
   "source": [
    "text=[]\n",
    "text.append(KTV)\n",
    "text.append(hang)\n",
    "text.append(news1)\n",
    "text.append(world)\n",
    "text.append(Yonhap)\n",
    "text.append(korea_eco)"
   ]
  },
  {
   "cell_type": "code",
   "execution_count": 48,
   "metadata": {},
   "outputs": [
    {
     "name": "stdout",
     "output_type": "stream",
     "text": [
      "(6, 6)\n"
     ]
    }
   ],
   "source": [
    "vect=TfidfVectorizer()\n",
    "data=vect.fit_transform(text)\n",
    "cosine_similarity_matrix=(data*data.T)\n",
    "print(cosine_similarity_matrix.shape)\n",
    "cosine_array=cosine_similarity_matrix.toarray()"
   ]
  },
  {
   "cell_type": "code",
   "execution_count": 49,
   "metadata": {},
   "outputs": [],
   "source": [
    "import pandas as pd\n",
    "vect_dict=['KTV','Hangyeorye','news1','Segye','Yonhap_News','Korea_Eco']\n",
    "cosine_df=pd.DataFrame(cosine_array,columns=vect_dict)\n",
    "cosine_df.index=['KTV','Hangyeorye','news1','Segye','Yonhap_News','Korea_Eco']"
   ]
  },
  {
   "cell_type": "code",
   "execution_count": 50,
   "metadata": {},
   "outputs": [
    {
     "data": {
      "text/html": [
       "<div>\n",
       "<style scoped>\n",
       "    .dataframe tbody tr th:only-of-type {\n",
       "        vertical-align: middle;\n",
       "    }\n",
       "\n",
       "    .dataframe tbody tr th {\n",
       "        vertical-align: top;\n",
       "    }\n",
       "\n",
       "    .dataframe thead th {\n",
       "        text-align: right;\n",
       "    }\n",
       "</style>\n",
       "<table border=\"1\" class=\"dataframe\">\n",
       "  <thead>\n",
       "    <tr style=\"text-align: right;\">\n",
       "      <th></th>\n",
       "      <th>KTV</th>\n",
       "      <th>Hangyeorye</th>\n",
       "      <th>news1</th>\n",
       "      <th>Segye</th>\n",
       "      <th>Yonhap_News</th>\n",
       "      <th>Korea_Eco</th>\n",
       "    </tr>\n",
       "  </thead>\n",
       "  <tbody>\n",
       "    <tr>\n",
       "      <th>KTV</th>\n",
       "      <td>1.000000</td>\n",
       "      <td>0.602657</td>\n",
       "      <td>0.581268</td>\n",
       "      <td>0.530845</td>\n",
       "      <td>0.740112</td>\n",
       "      <td>0.648328</td>\n",
       "    </tr>\n",
       "    <tr>\n",
       "      <th>Hangyeorye</th>\n",
       "      <td>0.602657</td>\n",
       "      <td>1.000000</td>\n",
       "      <td>0.781139</td>\n",
       "      <td>0.688894</td>\n",
       "      <td>0.736036</td>\n",
       "      <td>0.753144</td>\n",
       "    </tr>\n",
       "    <tr>\n",
       "      <th>news1</th>\n",
       "      <td>0.581268</td>\n",
       "      <td>0.781139</td>\n",
       "      <td>1.000000</td>\n",
       "      <td>0.673859</td>\n",
       "      <td>0.754124</td>\n",
       "      <td>0.772597</td>\n",
       "    </tr>\n",
       "    <tr>\n",
       "      <th>Segye</th>\n",
       "      <td>0.530845</td>\n",
       "      <td>0.688894</td>\n",
       "      <td>0.673859</td>\n",
       "      <td>1.000000</td>\n",
       "      <td>0.630269</td>\n",
       "      <td>0.664948</td>\n",
       "    </tr>\n",
       "    <tr>\n",
       "      <th>Yonhap_News</th>\n",
       "      <td>0.740112</td>\n",
       "      <td>0.736036</td>\n",
       "      <td>0.754124</td>\n",
       "      <td>0.630269</td>\n",
       "      <td>1.000000</td>\n",
       "      <td>0.770943</td>\n",
       "    </tr>\n",
       "    <tr>\n",
       "      <th>Korea_Eco</th>\n",
       "      <td>0.648328</td>\n",
       "      <td>0.753144</td>\n",
       "      <td>0.772597</td>\n",
       "      <td>0.664948</td>\n",
       "      <td>0.770943</td>\n",
       "      <td>1.000000</td>\n",
       "    </tr>\n",
       "  </tbody>\n",
       "</table>\n",
       "</div>"
      ],
      "text/plain": [
       "                  KTV  Hangyeorye     news1     Segye  Yonhap_News  Korea_Eco\n",
       "KTV          1.000000    0.602657  0.581268  0.530845     0.740112   0.648328\n",
       "Hangyeorye   0.602657    1.000000  0.781139  0.688894     0.736036   0.753144\n",
       "news1        0.581268    0.781139  1.000000  0.673859     0.754124   0.772597\n",
       "Segye        0.530845    0.688894  0.673859  1.000000     0.630269   0.664948\n",
       "Yonhap_News  0.740112    0.736036  0.754124  0.630269     1.000000   0.770943\n",
       "Korea_Eco    0.648328    0.753144  0.772597  0.664948     0.770943   1.000000"
      ]
     },
     "execution_count": 50,
     "metadata": {},
     "output_type": "execute_result"
    }
   ],
   "source": [
    "cosine_df"
   ]
  },
  {
   "cell_type": "code",
   "execution_count": null,
   "metadata": {},
   "outputs": [],
   "source": []
  }
 ],
 "metadata": {
  "kernelspec": {
   "display_name": "Python 3",
   "language": "python",
   "name": "python3"
  },
  "language_info": {
   "codemirror_mode": {
    "name": "ipython",
    "version": 3
   },
   "file_extension": ".py",
   "mimetype": "text/x-python",
   "name": "python",
   "nbconvert_exporter": "python",
   "pygments_lexer": "ipython3",
   "version": "3.6.8"
  }
 },
 "nbformat": 4,
 "nbformat_minor": 4
}
