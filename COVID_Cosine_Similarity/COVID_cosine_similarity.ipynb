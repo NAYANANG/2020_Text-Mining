{
 "cells": [
  {
   "cell_type": "code",
   "execution_count": 2,
   "metadata": {},
   "outputs": [],
   "source": [
    "from sklearn.feature_extraction.text import TfidfVectorizer\n",
    "from sklearn.metrics.pairwise import cosine_similarity\n",
    "import matplotlib.pyplot as plt"
   ]
  },
  {
   "cell_type": "code",
   "execution_count": 3,
   "metadata": {},
   "outputs": [],
   "source": [
    "def COVID_doc(doc):\n",
    "    import pickle\n",
    "    with open('./COVID_Doc/COVID_{0}_Doc.txt'.format(doc),'rb') as f:\n",
    "            data=pickle.load(f)\n",
    "    char=''\n",
    "    for i in range(len(data)):\n",
    "        char+=data[i]\n",
    "    with open('./COVID_Total/COVID_{0}_Total.txt'.format(doc),'wb') as f:\n",
    "             pickle.dump(char,f)"
   ]
  },
  {
   "cell_type": "code",
   "execution_count": 4,
   "metadata": {},
   "outputs": [],
   "source": [
    "COVID_doc('한겨례')"
   ]
  },
  {
   "cell_type": "code",
   "execution_count": 5,
   "metadata": {},
   "outputs": [],
   "source": [
    "COVID_doc('KTV국민방송')"
   ]
  },
  {
   "cell_type": "code",
   "execution_count": 6,
   "metadata": {},
   "outputs": [],
   "source": [
    "COVID_doc('NEWS1')"
   ]
  },
  {
   "cell_type": "code",
   "execution_count": 7,
   "metadata": {},
   "outputs": [],
   "source": [
    "COVID_doc('세계일보')"
   ]
  },
  {
   "cell_type": "code",
   "execution_count": 8,
   "metadata": {},
   "outputs": [],
   "source": [
    "COVID_doc('연합뉴스TV')"
   ]
  },
  {
   "cell_type": "code",
   "execution_count": 9,
   "metadata": {},
   "outputs": [],
   "source": [
    "COVID_doc('한국경제')"
   ]
  },
  {
   "cell_type": "code",
   "execution_count": 10,
   "metadata": {},
   "outputs": [],
   "source": [
    "COVID_doc('TV조선')"
   ]
  },
  {
   "cell_type": "code",
   "execution_count": 11,
   "metadata": {},
   "outputs": [],
   "source": [
    "COVID_doc('채널A')"
   ]
  },
  {
   "cell_type": "code",
   "execution_count": 12,
   "metadata": {},
   "outputs": [],
   "source": [
    "import pickle\n",
    "with open('./COVID_Total/COVID_한겨례_Total.txt','rb') as f:\n",
    "        hang=pickle.load(f)"
   ]
  },
  {
   "cell_type": "code",
   "execution_count": 13,
   "metadata": {},
   "outputs": [],
   "source": [
    "import pickle\n",
    "with open('./COVID_Total/COVID_KTV국민방송_Total.txt','rb') as f:\n",
    "        KTV=pickle.load(f)"
   ]
  },
  {
   "cell_type": "code",
   "execution_count": 14,
   "metadata": {},
   "outputs": [],
   "source": [
    "import pickle\n",
    "with open('./COVID_Total/COVID_NEWS1_Total.txt','rb') as f:\n",
    "        news1=pickle.load(f)"
   ]
  },
  {
   "cell_type": "code",
   "execution_count": 15,
   "metadata": {},
   "outputs": [],
   "source": [
    "import pickle\n",
    "with open('./COVID_Total/COVID_세계일보_Total.txt','rb') as f:\n",
    "        world=pickle.load(f)"
   ]
  },
  {
   "cell_type": "code",
   "execution_count": 16,
   "metadata": {},
   "outputs": [],
   "source": [
    "import pickle\n",
    "with open('./COVID_Total/COVID_연합뉴스TV_Total.txt','rb') as f:\n",
    "        Yonhap=pickle.load(f)"
   ]
  },
  {
   "cell_type": "code",
   "execution_count": 17,
   "metadata": {},
   "outputs": [],
   "source": [
    "import pickle\n",
    "with open('./COVID_Total/COVID_한국경제_Total.txt','rb') as f:\n",
    "        korea_eco=pickle.load(f)"
   ]
  },
  {
   "cell_type": "code",
   "execution_count": 18,
   "metadata": {},
   "outputs": [],
   "source": [
    "import pickle\n",
    "with open('./COVID_Total/COVID_TV조선_Total.txt','rb') as f:\n",
    "        TVchosun=pickle.load(f)"
   ]
  },
  {
   "cell_type": "code",
   "execution_count": 19,
   "metadata": {},
   "outputs": [],
   "source": [
    "import pickle\n",
    "with open('./COVID_Total/COVID_채널A_Total.txt','rb') as f:\n",
    "        channel_A=pickle.load(f)"
   ]
  },
  {
   "cell_type": "code",
   "execution_count": 20,
   "metadata": {},
   "outputs": [],
   "source": [
    "text=[]\n",
    "text.append(KTV)\n",
    "text.append(hang)\n",
    "text.append(news1)\n",
    "text.append(world)\n",
    "text.append(Yonhap)\n",
    "text.append(korea_eco)\n",
    "text.append(TVchosun)\n",
    "text.append(channel_A)"
   ]
  },
  {
   "cell_type": "code",
   "execution_count": 21,
   "metadata": {},
   "outputs": [
    {
     "name": "stdout",
     "output_type": "stream",
     "text": [
      "(8, 8)\n"
     ]
    }
   ],
   "source": [
    "vect=TfidfVectorizer()\n",
    "data=vect.fit_transform(text)\n",
    "cosine_similarity_matrix=(data*data.T)\n",
    "print(cosine_similarity_matrix.shape)\n",
    "cosine_array=cosine_similarity_matrix.toarray()"
   ]
  },
  {
   "cell_type": "code",
   "execution_count": 22,
   "metadata": {},
   "outputs": [],
   "source": [
    "import pandas as pd\n",
    "vect_dict=['KTV','Hangyeorye','news1','Segye','Yonhap_News','Korea_Eco','TVchosun','channel_A']\n",
    "cosine_df=pd.DataFrame(cosine_array,columns=vect_dict)\n",
    "cosine_df.index=['KTV','Hangyeorye','news1','Segye','Yonhap_News','Korea_Eco','TVchosun','channel_A']"
   ]
  },
  {
   "cell_type": "code",
   "execution_count": 23,
   "metadata": {},
   "outputs": [
    {
     "data": {
      "text/html": [
       "<div>\n",
       "<style scoped>\n",
       "    .dataframe tbody tr th:only-of-type {\n",
       "        vertical-align: middle;\n",
       "    }\n",
       "\n",
       "    .dataframe tbody tr th {\n",
       "        vertical-align: top;\n",
       "    }\n",
       "\n",
       "    .dataframe thead th {\n",
       "        text-align: right;\n",
       "    }\n",
       "</style>\n",
       "<table border=\"1\" class=\"dataframe\">\n",
       "  <thead>\n",
       "    <tr style=\"text-align: right;\">\n",
       "      <th></th>\n",
       "      <th>KTV</th>\n",
       "      <th>Hangyeorye</th>\n",
       "      <th>news1</th>\n",
       "      <th>Segye</th>\n",
       "      <th>Yonhap_News</th>\n",
       "      <th>Korea_Eco</th>\n",
       "      <th>TVchosun</th>\n",
       "      <th>channel_A</th>\n",
       "    </tr>\n",
       "  </thead>\n",
       "  <tbody>\n",
       "    <tr>\n",
       "      <th>KTV</th>\n",
       "      <td>1.000000</td>\n",
       "      <td>0.588730</td>\n",
       "      <td>0.570432</td>\n",
       "      <td>0.528250</td>\n",
       "      <td>0.726920</td>\n",
       "      <td>0.637750</td>\n",
       "      <td>0.608235</td>\n",
       "      <td>0.640451</td>\n",
       "    </tr>\n",
       "    <tr>\n",
       "      <th>Hangyeorye</th>\n",
       "      <td>0.588730</td>\n",
       "      <td>1.000000</td>\n",
       "      <td>0.765854</td>\n",
       "      <td>0.674226</td>\n",
       "      <td>0.725375</td>\n",
       "      <td>0.741201</td>\n",
       "      <td>0.687694</td>\n",
       "      <td>0.672792</td>\n",
       "    </tr>\n",
       "    <tr>\n",
       "      <th>news1</th>\n",
       "      <td>0.570432</td>\n",
       "      <td>0.765854</td>\n",
       "      <td>1.000000</td>\n",
       "      <td>0.663447</td>\n",
       "      <td>0.745476</td>\n",
       "      <td>0.764170</td>\n",
       "      <td>0.683844</td>\n",
       "      <td>0.658446</td>\n",
       "    </tr>\n",
       "    <tr>\n",
       "      <th>Segye</th>\n",
       "      <td>0.528250</td>\n",
       "      <td>0.674226</td>\n",
       "      <td>0.663447</td>\n",
       "      <td>1.000000</td>\n",
       "      <td>0.622690</td>\n",
       "      <td>0.655862</td>\n",
       "      <td>0.693196</td>\n",
       "      <td>0.586991</td>\n",
       "    </tr>\n",
       "    <tr>\n",
       "      <th>Yonhap_News</th>\n",
       "      <td>0.726920</td>\n",
       "      <td>0.725375</td>\n",
       "      <td>0.745476</td>\n",
       "      <td>0.622690</td>\n",
       "      <td>1.000000</td>\n",
       "      <td>0.766157</td>\n",
       "      <td>0.719584</td>\n",
       "      <td>0.726034</td>\n",
       "    </tr>\n",
       "    <tr>\n",
       "      <th>Korea_Eco</th>\n",
       "      <td>0.637750</td>\n",
       "      <td>0.741201</td>\n",
       "      <td>0.764170</td>\n",
       "      <td>0.655862</td>\n",
       "      <td>0.766157</td>\n",
       "      <td>1.000000</td>\n",
       "      <td>0.747284</td>\n",
       "      <td>0.766063</td>\n",
       "    </tr>\n",
       "    <tr>\n",
       "      <th>TVchosun</th>\n",
       "      <td>0.608235</td>\n",
       "      <td>0.687694</td>\n",
       "      <td>0.683844</td>\n",
       "      <td>0.693196</td>\n",
       "      <td>0.719584</td>\n",
       "      <td>0.747284</td>\n",
       "      <td>1.000000</td>\n",
       "      <td>0.711134</td>\n",
       "    </tr>\n",
       "    <tr>\n",
       "      <th>channel_A</th>\n",
       "      <td>0.640451</td>\n",
       "      <td>0.672792</td>\n",
       "      <td>0.658446</td>\n",
       "      <td>0.586991</td>\n",
       "      <td>0.726034</td>\n",
       "      <td>0.766063</td>\n",
       "      <td>0.711134</td>\n",
       "      <td>1.000000</td>\n",
       "    </tr>\n",
       "  </tbody>\n",
       "</table>\n",
       "</div>"
      ],
      "text/plain": [
       "                  KTV  Hangyeorye     news1     Segye  Yonhap_News  Korea_Eco  \\\n",
       "KTV          1.000000    0.588730  0.570432  0.528250     0.726920   0.637750   \n",
       "Hangyeorye   0.588730    1.000000  0.765854  0.674226     0.725375   0.741201   \n",
       "news1        0.570432    0.765854  1.000000  0.663447     0.745476   0.764170   \n",
       "Segye        0.528250    0.674226  0.663447  1.000000     0.622690   0.655862   \n",
       "Yonhap_News  0.726920    0.725375  0.745476  0.622690     1.000000   0.766157   \n",
       "Korea_Eco    0.637750    0.741201  0.764170  0.655862     0.766157   1.000000   \n",
       "TVchosun     0.608235    0.687694  0.683844  0.693196     0.719584   0.747284   \n",
       "channel_A    0.640451    0.672792  0.658446  0.586991     0.726034   0.766063   \n",
       "\n",
       "             TVchosun  channel_A  \n",
       "KTV          0.608235   0.640451  \n",
       "Hangyeorye   0.687694   0.672792  \n",
       "news1        0.683844   0.658446  \n",
       "Segye        0.693196   0.586991  \n",
       "Yonhap_News  0.719584   0.726034  \n",
       "Korea_Eco    0.747284   0.766063  \n",
       "TVchosun     1.000000   0.711134  \n",
       "channel_A    0.711134   1.000000  "
      ]
     },
     "execution_count": 23,
     "metadata": {},
     "output_type": "execute_result"
    }
   ],
   "source": [
    "cosine_df"
   ]
  },
  {
   "cell_type": "code",
   "execution_count": null,
   "metadata": {},
   "outputs": [],
   "source": []
  }
 ],
 "metadata": {
  "kernelspec": {
   "display_name": "Python 3",
   "language": "python",
   "name": "python3"
  },
  "language_info": {
   "codemirror_mode": {
    "name": "ipython",
    "version": 3
   },
   "file_extension": ".py",
   "mimetype": "text/x-python",
   "name": "python",
   "nbconvert_exporter": "python",
   "pygments_lexer": "ipython3",
   "version": "3.6.8"
  }
 },
 "nbformat": 4,
 "nbformat_minor": 4
}
