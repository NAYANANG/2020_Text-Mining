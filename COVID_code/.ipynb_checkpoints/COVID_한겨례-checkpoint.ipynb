{
 "cells": [
  {
   "cell_type": "code",
   "execution_count": null,
   "metadata": {},
   "outputs": [],
   "source": [
    "from selenium import webdriver\n",
    "import os\n",
    "from bs4 import BeautifulSoup\n",
    "import pandas as pd\n",
    "import time\n",
    "import csv\n",
    "import urllib.request as ur"
   ]
  },
  {
   "cell_type": "code",
   "execution_count": null,
   "metadata": {},
   "outputs": [],
   "source": [
    "browser=webdriver.Chrome('chromedriver.exe')\n",
    "url=[]\n",
    "for i in range(12):\n",
    "    browser.get('http://search.hani.co.kr/Search?command=query&keyword=%EC%BD%94%EB%A1%9C%EB%82%98%EB%B0%A9%EC%97%AD&media=news&submedia=&sort=s&period=year&datefrom=20191212&dateto=20201212&pageseq={}'.format(i))\n",
    "    html=browser.page_source\n",
    "    soup=BeautifulSoup(html,'html.parser')\n",
    "    attr=soup.select('div>ul>li>dl>dt>a')\n",
    "    for urls in attr:\n",
    "        url.append(urls['href'])"
   ]
  },
  {
   "cell_type": "code",
   "execution_count": null,
   "metadata": {},
   "outputs": [],
   "source": [
    "for i in range(len(url)):\n",
    "    url[i]='http://'+url[i]"
   ]
  },
  {
   "cell_type": "code",
   "execution_count": null,
   "metadata": {},
   "outputs": [],
   "source": [
    "dict={}\n",
    "browser=webdriver.Chrome('chromedriver.exe')\n",
    "for i in range(len(url)):\n",
    "    browser.get(url[i])\n",
    "    time.sleep(5)\n",
    "    html=browser.page_source\n",
    "    soup=BeautifulSoup(html,'html.parser')\n",
    "    title=soup.find('span',{'class':'title'}).text\n",
    "    title=title.replace('\\r','').replace('\\n','').replace('\\t','')\n",
    "    text=soup.find('div',{'class':'text'}).text\n",
    "    text=text.replace('\\n','').replace('\\t','').replace('\\r','').replace('\\xa0','')\n",
    "    dict[title]=text"
   ]
  },
  {
   "cell_type": "code",
   "execution_count": null,
   "metadata": {},
   "outputs": [],
   "source": [
    "with open('COVID_한겨례.csv','w',-1,encoding='utf-8') as f:\n",
    "    w=csv.writer(f)\n",
    "    w.writerow(dict.keys())\n",
    "    w.writerow(dict.values())"
   ]
  },
  {
   "cell_type": "code",
   "execution_count": null,
   "metadata": {},
   "outputs": [],
   "source": [
    "a=pd.read_csv(\"./COVID_한겨례.csv\",encoding='utf-8')\n",
    "a=a.transpose()\n",
    "b=list\n",
    "title=b(a.index)\n",
    "c=list\n",
    "text=a[0]\n",
    "text=c(text)\n",
    "source=pd.DataFrame({'Title':title,'Text':text})\n",
    "source=source.iloc[:100]\n",
    "source['Press'] = '한겨례'\n",
    "source=source[['Press','Title','Text']]\n",
    "source.to_csv('COVID_한겨례.csv',encoding='utf-8-sig')"
   ]
  }
 ],
 "metadata": {
  "kernelspec": {
   "display_name": "Python 3",
   "language": "python",
   "name": "python3"
  },
  "language_info": {
   "codemirror_mode": {
    "name": "ipython",
    "version": 3
   },
   "file_extension": ".py",
   "mimetype": "text/x-python",
   "name": "python",
   "nbconvert_exporter": "python",
   "pygments_lexer": "ipython3",
   "version": "3.6.8"
  }
 },
 "nbformat": 4,
 "nbformat_minor": 4
}
