{
 "cells": [
  {
   "cell_type": "code",
   "execution_count": null,
   "metadata": {},
   "outputs": [],
   "source": [
    "#필요한 모듈 불러오기\n",
    "import pandas as pd\n",
    "import numpy as np\n",
    "import os\n",
    "import matplotlib.pyplot as plt"
   ]
  },
  {
   "cell_type": "code",
   "execution_count": null,
   "metadata": {},
   "outputs": [
    {
     "name": "stderr",
     "output_type": "stream",
     "text": [
      "/home/u1009/.local/lib/python3.6/site-packages/jpype/_core.py:210: UserWarning: \n",
      "-------------------------------------------------------------------------------\n",
      "Deprecated: convertStrings was not specified when starting the JVM. The default\n",
      "behavior in JPype will be False starting in JPype 0.8. The recommended setting\n",
      "for new code is convertStrings=False.  The legacy value of True was assumed for\n",
      "this session. If you are a user of an application that reported this warning,\n",
      "please file a ticket with the developer.\n",
      "-------------------------------------------------------------------------------\n",
      "\n",
      "  \"\"\")\n"
     ]
    }
   ],
   "source": [
    "#토크나이져 관련 모듈\n",
    "from konlpy.tag import Komoran\n",
    "\n",
    "tokenizer=Komoran()"
   ]
  },
  {
   "cell_type": "code",
   "execution_count": 13,
   "metadata": {},
   "outputs": [],
   "source": [
    "#기사 본문에서 명사로만 가져오기\n",
    "def Corona_POS_tag(x):\n",
    "    Corona=pd.read_csv('/home/u1009/schtm_osy_lsm_kjh/COVID/COVID_Dataset/{0}'.format(x),encoding='utf-8')\n",
    "    Corona=Corona.drop('Unnamed: 0',axis=1)\n",
    "    Corona['Text'] = Corona['Text'].str.replace(\"[^ㄱ-ㅎㅏ-ㅣ가-힣 ]\",\"\")\n",
    "    Corona_text=np.array(Corona.loc[:,'Text'].tolist())\n",
    "    Corona_pos_words=[]\n",
    "    for i in range(len(Corona)):\n",
    "        list=[]\n",
    "        list+=tokenizer.pos(Corona_text[i])\n",
    "        Corona_pos_words.append(list)\n",
    "    total_text=[]\n",
    "    pos_text=[]\n",
    "    keyword=['코로나','코로나방역','방역','코로나바이러스','19', '소리', '유튜브', '캡처', '기자']\n",
    "    for j in range(len(Corona)):\n",
    "        text_list=Corona_pos_words[j]\n",
    "        for i in range(len(text_list)):\n",
    "            if text_list[i][1] not in ('SF','SP','SS','SE','SO','SW') and text_list[i][0] not in keyword:\n",
    "                pos_text.append(text_list[i][:])\n",
    "        total_text.append(pos_text)\n",
    "        pos_text=[]\n",
    "    sub_pos=[]\n",
    "    selected_pos=[]\n",
    "    for j in range(len(total_text)):\n",
    "        pos_list=total_text[j]\n",
    "        for i in range(len(pos_list)):\n",
    "            if pos_list[i][1] in ('NNG','NNP'):\n",
    "                sub_pos.append(pos_list[i][0])\n",
    "        selected_pos.append(sub_pos)\n",
    "        sub_pos=[]\n",
    "    for z in range(len(selected_pos)):\n",
    "        selected_pos[z]=\" \".join(selected_pos[z])\n",
    "    return selected_pos"
   ]
  },
  {
   "cell_type": "code",
   "execution_count": 14,
   "metadata": {},
   "outputs": [],
   "source": [
    "#데이터를 넣어 Corona_POS_tag함수 실행\n",
    "tag=Corona_POS_tag('COVID_NEWS1.csv')"
   ]
  }
 ],
 "metadata": {
  "kernelspec": {
   "display_name": "Python 3",
   "language": "python",
   "name": "python3"
  },
  "language_info": {
   "codemirror_mode": {
    "name": "ipython",
    "version": 3
   },
   "file_extension": ".py",
   "mimetype": "text/x-python",
   "name": "python",
   "nbconvert_exporter": "python",
   "pygments_lexer": "ipython3",
   "version": "3.6.8"
  }
 },
 "nbformat": 4,
 "nbformat_minor": 2
}
