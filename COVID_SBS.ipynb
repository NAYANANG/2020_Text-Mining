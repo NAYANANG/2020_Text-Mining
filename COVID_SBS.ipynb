{
 "cells": [
  {
   "cell_type": "code",
   "execution_count": 1,
   "metadata": {},
   "outputs": [],
   "source": [
    "from selenium import webdriver\n",
    "import os\n",
    "from bs4 import BeautifulSoup\n",
    "import bs4\n",
    "import pandas as pd\n",
    "import time\n",
    "import csv\n",
    "import urllib.request as ur"
   ]
  },
  {
   "cell_type": "code",
   "execution_count": 3,
   "metadata": {},
   "outputs": [],
   "source": [
    "browserx=webdriver.Chrome('chromedriver.exe')\n",
    "browserx.get('https://news.sbs.co.kr/news/search/main.do?pageIdx=1&searchTermStartDate=&searchTermEndDate=&searchSection=01%7C02%7C03%7C07%7C08%7C09%7C14&searchCategory=&searchMode=&query={}&collection=nnews&searchOption=1&sort=RANK'.format('코로나방역'))"
   ]
  },
  {
   "cell_type": "code",
   "execution_count": 6,
   "metadata": {},
   "outputs": [],
   "source": [
    "urlx=[]\n",
    "for p in range(1,12):\n",
    "    browserx.get('https://news.sbs.co.kr/news/search/main.do?pageIdx={}&searchTermStartDate=&searchTermEndDate=&searchSection=01%7C02%7C03%7C07%7C08%7C09%7C14&searchCategory=&searchMode=&query={}&collection=nnews&searchOption=1&sort=RANK'.format(p,'코로나방역'))\n",
    "    htmlx=browserx.page_source\n",
    "    soupx=BeautifulSoup(htmlx,'html.parser')\n",
    "    attrx=soupx.select('div.psil_inner> a') \n",
    "    \n",
    "    for urlsx in attrx:\n",
    "        urlx.append(urlsx['href'])"
   ]
  },
  {
   "cell_type": "code",
   "execution_count": 7,
   "metadata": {},
   "outputs": [
    {
     "data": {
      "text/plain": [
       "102"
      ]
     },
     "execution_count": 7,
     "metadata": {},
     "output_type": "execute_result"
    }
   ],
   "source": [
    "len(urlx)"
   ]
  },
  {
   "cell_type": "code",
   "execution_count": 9,
   "metadata": {},
   "outputs": [],
   "source": [
    "dictx={}\n",
    "for i in range(len(urlx)):\n",
    "    browserx.get(urlx[i])\n",
    "    time.sleep(5)\n",
    "    htmlx=browserx.page_source\n",
    "    soupx=BeautifulSoup(htmlx,'html.parser')\n",
    "\n",
    "    #기사제목\n",
    "    titlex=soupx.find('h2',{'class':'blind ir'}).text\n",
    "    titlex=titlex.replace('\\r','').replace('\\n','').replace('\\t','')\n",
    "\n",
    "    #기사 본문 추출\n",
    "    textx=[]\n",
    "    for contentx in soupx.find('div',{'class':'text_area'}):\n",
    "        if type(contentx) is bs4.element.NavigableString and len(contentx)>20:\n",
    "            #print(type(contentx))\n",
    "            #print(contentx)\n",
    "            textx.append(contentx.replace('\\xa0',' ').replace('\\n','').replace('\\t',''))\n",
    "    #print(textx)\n",
    "\n",
    "    dictx[titlex]=textx"
   ]
  },
  {
   "cell_type": "code",
   "execution_count": 31,
   "metadata": {},
   "outputs": [
    {
     "data": {
      "text/plain": [
       "102"
      ]
     },
     "execution_count": 31,
     "metadata": {},
     "output_type": "execute_result"
    }
   ],
   "source": [
    "len(dictx)"
   ]
  },
  {
   "cell_type": "code",
   "execution_count": null,
   "metadata": {},
   "outputs": [],
   "source": []
  },
  {
   "cell_type": "code",
   "execution_count": null,
   "metadata": {},
   "outputs": [],
   "source": []
  }
 ],
 "metadata": {
  "kernelspec": {
   "display_name": "Python 3",
   "language": "python",
   "name": "python3"
  },
  "language_info": {
   "codemirror_mode": {
    "name": "ipython",
    "version": 3
   },
   "file_extension": ".py",
   "mimetype": "text/x-python",
   "name": "python",
   "nbconvert_exporter": "python",
   "pygments_lexer": "ipython3",
   "version": "3.6.8"
  }
 },
 "nbformat": 4,
 "nbformat_minor": 4
}
