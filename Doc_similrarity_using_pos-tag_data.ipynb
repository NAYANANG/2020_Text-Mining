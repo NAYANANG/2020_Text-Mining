{
 "cells": [
  {
   "cell_type": "code",
   "execution_count": 39,
   "metadata": {},
   "outputs": [],
   "source": [
    "import pickle\n",
    "import numpy as np\n",
    "from sklearn.feature_extraction.text import TfidfVectorizer\n",
    "from sklearn.metrics.pairwise import cosine_similarity"
   ]
  },
  {
   "cell_type": "code",
   "execution_count": 34,
   "metadata": {},
   "outputs": [],
   "source": [
    "news=['KTV국민방송','한국경제TV','CHANNELA','한겨례','연합뉴스','세계일보','문화일보','국민일보','TV조선','SBSCNBC','SBS','news1','MBN뉴스','mbc']\n",
    "data=np.array([])\n",
    "for i in news:\n",
    "    with open('/home/u1009/schtm_osy_lsm_kjh/N_gram/{0}_의료정책_Noun_doc.txt'.format(i),'rb') as f:\n",
    "        file=pickle.load(f)\n",
    "    article=file[0]\n",
    "    for j in range(1,len(file)):\n",
    "        article+=file[j]  #언론사 60개 기사 합치기\n",
    "    data=np.append(data,article)"
   ]
  },
  {
   "cell_type": "code",
   "execution_count": 36,
   "metadata": {},
   "outputs": [
    {
     "data": {
      "text/plain": [
       "14"
      ]
     },
     "execution_count": 36,
     "metadata": {},
     "output_type": "execute_result"
    }
   ],
   "source": [
    "len(data)"
   ]
  },
  {
   "cell_type": "code",
   "execution_count": 40,
   "metadata": {},
   "outputs": [],
   "source": [
    "vect = TfidfVectorizer()\n",
    "\n",
    "x_data = vect.fit_transform(data)\n",
    "\n",
    "cosine_similarity_matrix = (x_data * x_data.T)"
   ]
  },
  {
   "cell_type": "code",
   "execution_count": 41,
   "metadata": {
    "scrolled": true
   },
   "outputs": [
    {
     "name": "stdout",
     "output_type": "stream",
     "text": [
      "(14, 14)\n",
      "  (0, 10)\t0.25683856254989085\n",
      "  (0, 11)\t0.28505864880357146\n",
      "  (0, 9)\t0.36423318506500263\n",
      "  (0, 7)\t0.26978092815172977\n",
      "  (0, 6)\t0.2856383734925442\n",
      "  (0, 5)\t0.25513085673651614\n",
      "  (0, 12)\t0.38721000257827515\n",
      "  (0, 8)\t0.33442038444639965\n",
      "  (0, 4)\t0.29353484906993993\n",
      "  (0, 2)\t0.2601101698413122\n",
      "  (0, 13)\t0.43627564639055394\n",
      "  (0, 3)\t0.258923863856934\n",
      "  (0, 1)\t0.28093860951917565\n",
      "  (0, 0)\t0.9999999999999688\n",
      "  (1, 10)\t0.8280899848889542\n",
      "  (1, 12)\t0.6578215038209315\n",
      "  (1, 11)\t0.8744799465057762\n",
      "  (1, 9)\t0.8219410467839824\n",
      "  (1, 8)\t0.7342644908165854\n",
      "  (1, 7)\t0.8051214226203819\n",
      "  (1, 6)\t0.8630667342136173\n",
      "  (1, 5)\t0.6919575486809371\n",
      "  (1, 4)\t0.7542812876821205\n",
      "  (1, 2)\t0.6409715185636781\n",
      "  (1, 13)\t0.528504685827817\n",
      "  :\t:\n",
      "  (12, 7)\t0.711562446123695\n",
      "  (12, 6)\t0.7008396065112368\n",
      "  (12, 5)\t0.6868848216835635\n",
      "  (12, 3)\t0.6836444003424246\n",
      "  (12, 1)\t0.6578215038209315\n",
      "  (12, 13)\t0.599891899935342\n",
      "  (12, 12)\t0.9999999999999731\n",
      "  (12, 8)\t0.6745481475896227\n",
      "  (12, 4)\t0.5652513470648108\n",
      "  (12, 2)\t0.5723903315020694\n",
      "  (12, 0)\t0.38721000257827515\n",
      "  (13, 10)\t0.46701336436121577\n",
      "  (13, 11)\t0.4996347726736146\n",
      "  (13, 9)\t0.5376350383098621\n",
      "  (13, 7)\t0.5459986042531845\n",
      "  (13, 6)\t0.5376808832302655\n",
      "  (13, 5)\t0.48804195375373544\n",
      "  (13, 12)\t0.599891899935342\n",
      "  (13, 8)\t0.5701574982578568\n",
      "  (13, 4)\t0.5441718178671421\n",
      "  (13, 2)\t0.4840643388250831\n",
      "  (13, 13)\t1.000000000000045\n",
      "  (13, 3)\t0.5119552145615844\n",
      "  (13, 1)\t0.528504685827817\n",
      "  (13, 0)\t0.43627564639055394\n"
     ]
    }
   ],
   "source": [
    "print(cosine_similarity_matrix.shape) \n",
    "print(cosine_similarity_matrix)"
   ]
  },
  {
   "cell_type": "code",
   "execution_count": 44,
   "metadata": {},
   "outputs": [],
   "source": [
    "import pandas as pd"
   ]
  },
  {
   "cell_type": "code",
   "execution_count": 52,
   "metadata": {},
   "outputs": [
    {
     "data": {
      "text/plain": [
       "array(<14x14 sparse matrix of type '<class 'numpy.float64'>'\n",
       "\twith 196 stored elements in Compressed Sparse Row format>, dtype=object)"
      ]
     },
     "execution_count": 52,
     "metadata": {},
     "output_type": "execute_result"
    }
   ],
   "source": [
    "np.array(cosine_similarity_matrix)"
   ]
  }
 ],
 "metadata": {
  "kernelspec": {
   "display_name": "Python 3",
   "language": "python",
   "name": "python3"
  },
  "language_info": {
   "codemirror_mode": {
    "name": "ipython",
    "version": 3
   },
   "file_extension": ".py",
   "mimetype": "text/x-python",
   "name": "python",
   "nbconvert_exporter": "python",
   "pygments_lexer": "ipython3",
   "version": "3.6.8"
  }
 },
 "nbformat": 4,
 "nbformat_minor": 2
}
