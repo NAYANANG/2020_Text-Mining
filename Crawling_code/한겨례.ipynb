{
 "cells": [
  {
   "cell_type": "code",
   "execution_count": 1,
   "metadata": {},
   "outputs": [],
   "source": [
    "from selenium import webdriver\n",
    "import os\n",
    "from bs4 import BeautifulSoup\n",
    "import pandas as pd\n",
    "import time\n",
    "import csv\n",
    "import urllib.request as ur"
   ]
  },
  {
   "cell_type": "code",
   "execution_count": 6,
   "metadata": {},
   "outputs": [],
   "source": [
    "#한겨례_의료정책"
   ]
  },
  {
   "cell_type": "code",
   "execution_count": 9,
   "metadata": {},
   "outputs": [],
   "source": [
    "browser=webdriver.Chrome('chromedriver.exe')\n",
    "browser.get('http://search.hani.co.kr/Search?command=query&keyword={0}&media=news&submedia=&sort=s&period=year'.format('의료정책'))\n",
    "url=[]\n",
    "html=browser.page_source\n",
    "soup=BeautifulSoup(html,'html.parser')\n",
    "attr=soup.select('div>ul>li>dl>dt>a')\n",
    "for urls in attr:\n",
    "    url.append(urls['href'])\n",
    "browser.find_element_by_xpath('//*[@id=\"contents\"]/div[4]/a[3]').click()\n",
    "html=browser.page_source\n",
    "soup=BeautifulSoup(html,'html.parser')\n",
    "attr=soup.select('div>ul>li>dl>dt>a')\n",
    "for urls in attr:\n",
    "    url.append(urls['href'])\n",
    "browser.find_element_by_xpath('//*[@id=\"contents\"]/div[4]/a[4]').click()\n",
    "html=browser.page_source\n",
    "soup=BeautifulSoup(html,'html.parser')\n",
    "attr=soup.select('div>ul>li>dl>dt>a')\n",
    "for urls in attr:\n",
    "    url.append(urls['href'])\n",
    "browser.find_element_by_xpath('//*[@id=\"contents\"]/div[4]/a[5]').click()\n",
    "html=browser.page_source\n",
    "soup=BeautifulSoup(html,'html.parser')\n",
    "attr=soup.select('div>ul>li>dl>dt>a')\n",
    "for urls in attr:\n",
    "    url.append(urls['href'])\n",
    "browser.find_element_by_xpath('//*[@id=\"contents\"]/div[4]/a[6]').click()\n",
    "html=browser.page_source\n",
    "soup=BeautifulSoup(html,'html.parser')\n",
    "attr=soup.select('div>ul>li>dl>dt>a')\n",
    "for urls in attr:\n",
    "    url.append(urls['href'])\n",
    "browser.find_element_by_xpath('//*[@id=\"contents\"]/div[4]/a[7]').click()\n",
    "html=browser.page_source\n",
    "soup=BeautifulSoup(html,'html.parser')\n",
    "attr=soup.select('div>ul>li>dl>dt>a')\n",
    "for urls in attr:\n",
    "    url.append(urls['href'])\n",
    "browser.find_element_by_xpath('//*[@id=\"contents\"]/div[4]/a[8]').click()\n",
    "html=browser.page_source\n",
    "soup=BeautifulSoup(html,'html.parser')\n",
    "attr=soup.select('div>ul>li>dl>dt>a')\n",
    "for urls in attr:\n",
    "    url.append(urls['href'])"
   ]
  },
  {
   "cell_type": "code",
   "execution_count": 13,
   "metadata": {},
   "outputs": [],
   "source": [
    "dict={}\n",
    "\n",
    "for i in range(len(url)):\n",
    "    browser.get(url[i])\n",
    "    time.sleep(5)\n",
    "    html=browser.page_source\n",
    "    soup=BeautifulSoup(html,'html.parser')\n",
    "    title=soup.find('span',{'class':'title'}).text\n",
    "    title=title.replace('\\r','').replace('\\n','').replace('\\t','')\n",
    "    text=soup.find('div',{'class':'text'}).text\n",
    "    text=text.replace('\\n','').replace('\\t','').replace('\\r','').replace('\\xa0','')\n",
    "    dict[title]=text"
   ]
  },
  {
   "cell_type": "code",
   "execution_count": 18,
   "metadata": {},
   "outputs": [],
   "source": [
    "with open('한겨례_의료정책.csv','w',-1,encoding='utf-8') as f:\n",
    "    w=csv.writer(f)\n",
    "    w.writerow(dict.keys())\n",
    "    w.writerow(dict.values())"
   ]
  },
  {
   "cell_type": "code",
   "execution_count": 19,
   "metadata": {},
   "outputs": [],
   "source": [
    "a=pd.read_csv(\"C:/nayanang_project/한겨례_의료정책.csv\",encoding='utf-8')\n",
    "a=a.transpose()\n",
    "b=list\n",
    "title=b(a.index)\n",
    "c=list\n",
    "text=a[0]\n",
    "text=c(text)\n",
    "source=pd.DataFrame({'Title':title,'Text':text})\n",
    "source=source.iloc[:60]\n",
    "source['Press'] = '한겨례'\n",
    "source=source[['Press','Title','Text']]\n",
    "source.to_csv('한겨례_의료정책.csv',encoding='utf-8-sig')"
   ]
  },
  {
   "cell_type": "code",
   "execution_count": 20,
   "metadata": {},
   "outputs": [],
   "source": [
    "#한겨례_부동산정책"
   ]
  },
  {
   "cell_type": "code",
   "execution_count": 22,
   "metadata": {},
   "outputs": [],
   "source": [
    "browser=webdriver.Chrome('chromedriver.exe')\n",
    "browser.get('http://search.hani.co.kr/Search?command=query&keyword={0}&media=news&submedia=&sort=s&period=year'.format('부동산정책'))\n",
    "url=[]\n",
    "html=browser.page_source\n",
    "soup=BeautifulSoup(html,'html.parser')\n",
    "attr=soup.select('div>ul>li>dl>dt>a')\n",
    "for urls in attr:\n",
    "    url.append(urls['href'])\n",
    "browser.find_element_by_xpath('//*[@id=\"contents\"]/div[4]/a[3]').click()\n",
    "html=browser.page_source\n",
    "soup=BeautifulSoup(html,'html.parser')\n",
    "attr=soup.select('div>ul>li>dl>dt>a')\n",
    "for urls in attr:\n",
    "    url.append(urls['href'])\n",
    "browser.find_element_by_xpath('//*[@id=\"contents\"]/div[4]/a[4]').click()\n",
    "html=browser.page_source\n",
    "soup=BeautifulSoup(html,'html.parser')\n",
    "attr=soup.select('div>ul>li>dl>dt>a')\n",
    "for urls in attr:\n",
    "    url.append(urls['href'])\n",
    "browser.find_element_by_xpath('//*[@id=\"contents\"]/div[4]/a[5]').click()\n",
    "html=browser.page_source\n",
    "soup=BeautifulSoup(html,'html.parser')\n",
    "attr=soup.select('div>ul>li>dl>dt>a')\n",
    "for urls in attr:\n",
    "    url.append(urls['href'])\n",
    "browser.find_element_by_xpath('//*[@id=\"contents\"]/div[4]/a[6]').click()\n",
    "html=browser.page_source\n",
    "soup=BeautifulSoup(html,'html.parser')\n",
    "attr=soup.select('div>ul>li>dl>dt>a')\n",
    "for urls in attr:\n",
    "    url.append(urls['href'])\n",
    "browser.find_element_by_xpath('//*[@id=\"contents\"]/div[4]/a[7]').click()\n",
    "html=browser.page_source\n",
    "soup=BeautifulSoup(html,'html.parser')\n",
    "attr=soup.select('div>ul>li>dl>dt>a')\n",
    "for urls in attr:\n",
    "    url.append(urls['href'])"
   ]
  },
  {
   "cell_type": "code",
   "execution_count": 23,
   "metadata": {},
   "outputs": [],
   "source": [
    "dict={}\n",
    "\n",
    "for i in range(len(url)):\n",
    "    browser.get(url[i])\n",
    "    time.sleep(5)\n",
    "    html=browser.page_source\n",
    "    soup=BeautifulSoup(html,'html.parser')\n",
    "    title=soup.find('span',{'class':'title'}).text\n",
    "    title=title.replace('\\r','').replace('\\n','').replace('\\t','')\n",
    "    text=soup.find('div',{'class':'text'}).text\n",
    "    text=text.replace('\\n','').replace('\\t','').replace('\\r','').replace('\\xa0','')\n",
    "    dict[title]=text"
   ]
  },
  {
   "cell_type": "code",
   "execution_count": 24,
   "metadata": {},
   "outputs": [],
   "source": [
    "with open('한겨례_부동산정책.csv','w',-1,encoding='utf-8') as f:\n",
    "    w=csv.writer(f)\n",
    "    w.writerow(dict.keys())\n",
    "    w.writerow(dict.values())"
   ]
  },
  {
   "cell_type": "code",
   "execution_count": 25,
   "metadata": {},
   "outputs": [],
   "source": [
    "a=pd.read_csv(\"C:/nayanang_project/한겨례_부동산정책.csv\",encoding='utf-8')\n",
    "a=a.transpose()\n",
    "b=list\n",
    "title=b(a.index)\n",
    "c=list\n",
    "text=a[0]\n",
    "text=c(text)\n",
    "source=pd.DataFrame({'Title':title,'Text':text})\n",
    "source=source.iloc[:60]\n",
    "source['Press'] = '한겨례'\n",
    "source=source[['Press','Title','Text']]\n",
    "source.to_csv('한겨례_부동산정책.csv',encoding='utf-8-sig')"
   ]
  },
  {
   "cell_type": "code",
   "execution_count": 26,
   "metadata": {},
   "outputs": [],
   "source": [
    "#한겨례_코로나방역"
   ]
  },
  {
   "cell_type": "code",
   "execution_count": 27,
   "metadata": {},
   "outputs": [],
   "source": [
    "browser=webdriver.Chrome('chromedriver.exe')\n",
    "browser.get('http://search.hani.co.kr/Search?command=query&keyword={0}&media=news&submedia=&sort=s&period=year'.format('코로나방역'))\n",
    "url=[]\n",
    "html=browser.page_source\n",
    "soup=BeautifulSoup(html,'html.parser')\n",
    "attr=soup.select('div>ul>li>dl>dt>a')\n",
    "for urls in attr:\n",
    "    url.append(urls['href'])\n",
    "browser.find_element_by_xpath('//*[@id=\"contents\"]/div[4]/a[3]').click()\n",
    "html=browser.page_source\n",
    "soup=BeautifulSoup(html,'html.parser')\n",
    "attr=soup.select('div>ul>li>dl>dt>a')\n",
    "for urls in attr:\n",
    "    url.append(urls['href'])\n",
    "browser.find_element_by_xpath('//*[@id=\"contents\"]/div[4]/a[4]').click()\n",
    "html=browser.page_source\n",
    "soup=BeautifulSoup(html,'html.parser')\n",
    "attr=soup.select('div>ul>li>dl>dt>a')\n",
    "for urls in attr:\n",
    "    url.append(urls['href'])\n",
    "browser.find_element_by_xpath('//*[@id=\"contents\"]/div[4]/a[5]').click()\n",
    "html=browser.page_source\n",
    "soup=BeautifulSoup(html,'html.parser')\n",
    "attr=soup.select('div>ul>li>dl>dt>a')\n",
    "for urls in attr:\n",
    "    url.append(urls['href'])\n",
    "browser.find_element_by_xpath('//*[@id=\"contents\"]/div[4]/a[6]').click()\n",
    "html=browser.page_source\n",
    "soup=BeautifulSoup(html,'html.parser')\n",
    "attr=soup.select('div>ul>li>dl>dt>a')\n",
    "for urls in attr:\n",
    "    url.append(urls['href'])\n",
    "browser.find_element_by_xpath('//*[@id=\"contents\"]/div[4]/a[7]').click()\n",
    "html=browser.page_source\n",
    "soup=BeautifulSoup(html,'html.parser')\n",
    "attr=soup.select('div>ul>li>dl>dt>a')\n",
    "for urls in attr:\n",
    "    url.append(urls['href'])"
   ]
  },
  {
   "cell_type": "code",
   "execution_count": 28,
   "metadata": {},
   "outputs": [],
   "source": [
    "dict={}\n",
    "\n",
    "for i in range(len(url)):\n",
    "    browser.get(url[i])\n",
    "    time.sleep(5)\n",
    "    html=browser.page_source\n",
    "    soup=BeautifulSoup(html,'html.parser')\n",
    "    title=soup.find('span',{'class':'title'}).text\n",
    "    title=title.replace('\\r','').replace('\\n','').replace('\\t','')\n",
    "    text=soup.find('div',{'class':'text'}).text\n",
    "    text=text.replace('\\n','').replace('\\t','').replace('\\r','').replace('\\xa0','')\n",
    "    dict[title]=text"
   ]
  },
  {
   "cell_type": "code",
   "execution_count": 29,
   "metadata": {},
   "outputs": [],
   "source": [
    "with open('한겨례_코로나방역.csv','w',-1,encoding='utf-8') as f:\n",
    "    w=csv.writer(f)\n",
    "    w.writerow(dict.keys())\n",
    "    w.writerow(dict.values())"
   ]
  },
  {
   "cell_type": "code",
   "execution_count": 30,
   "metadata": {},
   "outputs": [],
   "source": [
    "a=pd.read_csv(\"C:/nayanang_project/한겨례_코로나방역.csv\",encoding='utf-8')\n",
    "a=a.transpose()\n",
    "b=list\n",
    "title=b(a.index)\n",
    "c=list\n",
    "text=a[0]\n",
    "text=c(text)\n",
    "source=pd.DataFrame({'Title':title,'Text':text})\n",
    "source=source.iloc[:60]\n",
    "source['Press'] = '한겨례'\n",
    "source=source[['Press','Title','Text']]\n",
    "source.to_csv('한겨례_코로나방역.csv',encoding='utf-8-sig')"
   ]
  },
  {
   "cell_type": "code",
   "execution_count": null,
   "metadata": {},
   "outputs": [],
   "source": []
  }
 ],
 "metadata": {
  "kernelspec": {
   "display_name": "Python 3",
   "language": "python",
   "name": "python3"
  },
  "language_info": {
   "codemirror_mode": {
    "name": "ipython",
    "version": 3
   },
   "file_extension": ".py",
   "mimetype": "text/x-python",
   "name": "python",
   "nbconvert_exporter": "python",
   "pygments_lexer": "ipython3",
   "version": "3.7.6"
  }
 },
 "nbformat": 4,
 "nbformat_minor": 4
}
