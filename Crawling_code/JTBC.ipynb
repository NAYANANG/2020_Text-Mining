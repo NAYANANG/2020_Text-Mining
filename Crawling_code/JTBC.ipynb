{
 "cells": [
  {
   "cell_type": "code",
   "execution_count": 1,
   "metadata": {},
   "outputs": [
    {
     "ename": "ModuleNotFoundError",
     "evalue": "No module named 'selenium'",
     "output_type": "error",
     "traceback": [
      "\u001b[0;31m---------------------------------------------------------------------------\u001b[0m",
      "\u001b[0;31mModuleNotFoundError\u001b[0m                       Traceback (most recent call last)",
      "\u001b[0;32m<ipython-input-1-0881bbec4a96>\u001b[0m in \u001b[0;36m<module>\u001b[0;34m\u001b[0m\n\u001b[0;32m----> 1\u001b[0;31m \u001b[0;32mfrom\u001b[0m \u001b[0mselenium\u001b[0m \u001b[0;32mimport\u001b[0m \u001b[0mwebdriver\u001b[0m\u001b[0;34m\u001b[0m\u001b[0;34m\u001b[0m\u001b[0m\n\u001b[0m\u001b[1;32m      2\u001b[0m \u001b[0;32mimport\u001b[0m \u001b[0mos\u001b[0m\u001b[0;34m\u001b[0m\u001b[0;34m\u001b[0m\u001b[0m\n\u001b[1;32m      3\u001b[0m \u001b[0;32mfrom\u001b[0m \u001b[0mbs4\u001b[0m \u001b[0;32mimport\u001b[0m \u001b[0mBeautifulSoup\u001b[0m\u001b[0;34m\u001b[0m\u001b[0;34m\u001b[0m\u001b[0m\n\u001b[1;32m      4\u001b[0m \u001b[0;32mimport\u001b[0m \u001b[0mbs4\u001b[0m\u001b[0;34m\u001b[0m\u001b[0;34m\u001b[0m\u001b[0m\n\u001b[1;32m      5\u001b[0m \u001b[0;32mimport\u001b[0m \u001b[0mpandas\u001b[0m \u001b[0;32mas\u001b[0m \u001b[0mpd\u001b[0m\u001b[0;34m\u001b[0m\u001b[0;34m\u001b[0m\u001b[0m\n",
      "\u001b[0;31mModuleNotFoundError\u001b[0m: No module named 'selenium'"
     ]
    }
   ],
   "source": [
    "from selenium import webdriver\n",
    "import os\n",
    "from bs4 import BeautifulSoup\n",
    "import bs4\n",
    "import pandas as pd\n",
    "import time\n",
    "import csv\n",
    "import urllib.request as u"
   ]
  },
  {
   "cell_type": "code",
   "execution_count": null,
   "metadata": {},
   "outputs": [],
   "source": [
    "# 코로나방역\n",
    "rowser=webdriver.Chrome('chromedriver.exe')\n",
    "browser.get('http://jtbc.joins.com/search/news?term=%EC%BD%94%EB%A1%9C%EB%82%98%20%EB%B0%A9%EC%97%AD')"
   ]
  },
  {
   "cell_type": "code",
   "execution_count": null,
   "metadata": {},
   "outputs": [],
   "source": [
    "url=[]\n",
    "for p in range(1,12):\n",
    "    browser.get('http://jtbc.joins.com/search/news?page={0}&term=%EC%BD%94%EB%A1%9C%EB%82%98%20%EB%B0%A9%EC%97%AD'.format(p))\n",
    "    html=browser.page_source\n",
    "    soup=BeautifulSoup(html,'html.parser')\n",
    "    attr=soup.select('li>h3.prg_ttl>a') \n",
    "    \n",
    "    for urls in attr:\n",
    "        url.append(urls['href'].replace('\\n','').replace('\\t',''))"
   ]
  },
  {
   "cell_type": "code",
   "execution_count": null,
   "metadata": {},
   "outputs": [],
   "source": [
    "len(url)"
   ]
  },
  {
   "cell_type": "code",
   "execution_count": null,
   "metadata": {},
   "outputs": [],
   "source": [
    " dict={}\n",
    "browser=webdriver.Chrome('chromedriver.exe')\n",
    "for i in range(len(url)):\n",
    "    browser.get(url[i])\n",
    "    html=browser.page_source\n",
    "    soup=BeautifulSoup(html,'html.parser')\n",
    "\n",
    "        #기사제목\n",
    "    title=soup.find('h3',{'id':'jtbcBody'}).text\n",
    "    title=title.replace('\\r','').replace('\\n','').replace('\\t','')\n",
    "\n",
    "        #기사 본문 추출\n",
    "    text=soup.find('div',{'id':'articlebody'}).text\n",
    "    text=text.replace('\\n','').replace('\\t','').replace('\\r','')\n",
    "\n",
    "    dict[title]=text"
   ]
  },
  {
   "cell_type": "code",
   "execution_count": null,
   "metadata": {},
   "outputs": [],
   "source": [
    "len(dict)"
   ]
  },
  {
   "cell_type": "code",
   "execution_count": null,
   "metadata": {},
   "outputs": [],
   "source": [
    "with open('JTBC_코로나방역.csv','w',-1,encoding='utf-8') as f:\n",
    "        w=csv.writer(f)\n",
    "        w.writerow(dict.keys())\n",
    "        w.writerow(dict.values()) "
   ]
  },
  {
   "cell_type": "code",
   "execution_count": null,
   "metadata": {},
   "outputs": [],
   "source": [
    "JTBC=pd.read_csv('./JTBC_코로나방역.csv',encoding='utf-8')\n",
    "JTBC=JTBC.transpose()\n",
    "list_b=list\n",
    "title=list_b(JTBC.index)\n",
    "list_c=list\n",
    "text=JTBC[0]\n",
    "text=list_c(text)\n",
    "source=pd.DataFrame({'Title':title,'Text':text})\n",
    "source=source.iloc[:100]\n",
    "source['Press']='JTBC'\n",
    "source=source[['Press','Title','Text']]\n",
    "source.to_csv('JTBC_코로나방역.csv',encoding='utf-8-sig')"
   ]
  },
  {
   "cell_type": "code",
   "execution_count": null,
   "metadata": {},
   "outputs": [],
   "source": [
    " pd.read_csv('./COVID_JTBC.csv',encoding='utf-8')"
   ]
  },
  {
   "cell_type": "code",
   "execution_count": null,
   "metadata": {},
   "outputs": [],
   "source": [
    "# 의료정책\n",
    "rowser=webdriver.Chrome('chromedriver.exe')\n",
    "browser.get('http://jtbc.joins.com/search/news?term=%EC%9D%98%EB%A3%8C%EC%A0%95%EC%B1%85')"
   ]
  },
  {
   "cell_type": "code",
   "execution_count": null,
   "metadata": {},
   "outputs": [],
   "source": [
    "url=[]\n",
    "for p in range(1,12):\n",
    "    browser.get('http://jtbc.joins.com/search/news?term=%EC%9D%98%EB%A3%8C%EC%A0%95%EC%B1%85'.format(p))\n",
    "    html=browser.page_source\n",
    "    soup=BeautifulSoup(html,'html.parser')\n",
    "    attr=soup.select('li>h3.prg_ttl>a') \n",
    "    \n",
    "    for urls in attr:\n",
    "        url.append(urls['href'].replace('\\n','').replace('\\t',''))"
   ]
  },
  {
   "cell_type": "code",
   "execution_count": null,
   "metadata": {},
   "outputs": [],
   "source": [
    "len(url)"
   ]
  },
  {
   "cell_type": "code",
   "execution_count": null,
   "metadata": {},
   "outputs": [],
   "source": [
    " dict={}\n",
    "browser=webdriver.Chrome('chromedriver.exe')\n",
    "for i in range(len(url)):\n",
    "    browser.get(url[i])\n",
    "    html=browser.page_source\n",
    "    soup=BeautifulSoup(html,'html.parser')\n",
    "\n",
    "        #기사제목\n",
    "    title=soup.find('h3',{'id':'jtbcBody'}).text\n",
    "    title=title.replace('\\r','').replace('\\n','').replace('\\t','')\n",
    "\n",
    "        #기사 본문 추출\n",
    "    text=soup.find('div',{'id':'articlebody'}).text\n",
    "    text=text.replace('\\n','').replace('\\t','').replace('\\r','')\n",
    "\n",
    "    dict[title]=text"
   ]
  },
  {
   "cell_type": "code",
   "execution_count": null,
   "metadata": {},
   "outputs": [],
   "source": [
    "len(dict)"
   ]
  },
  {
   "cell_type": "code",
   "execution_count": null,
   "metadata": {},
   "outputs": [],
   "source": [
    "with open('JTBC_의료정책.csv','w',-1,encoding='utf-8') as f:\n",
    "        w=csv.writer(f)\n",
    "        w.writerow(dict.keys())\n",
    "        w.writerow(dict.values()) "
   ]
  },
  {
   "cell_type": "code",
   "execution_count": null,
   "metadata": {},
   "outputs": [],
   "source": []
  }
 ],
 "metadata": {
  "kernelspec": {
   "display_name": "Python 3",
   "language": "python",
   "name": "python3"
  },
  "language_info": {
   "codemirror_mode": {
    "name": "ipython",
    "version": 3
   },
   "file_extension": ".py",
   "mimetype": "text/x-python",
   "name": "python",
   "nbconvert_exporter": "python",
   "pygments_lexer": "ipython3",
   "version": "3.6.8"
  }
 },
 "nbformat": 4,
 "nbformat_minor": 4
}
