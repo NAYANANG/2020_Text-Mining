{
 "cells": [
  {
   "cell_type": "code",
   "execution_count": null,
   "metadata": {},
   "outputs": [],
   "source": [
    "from selenium import webdriver\n",
    "import os\n",
    "from bs4 import BeautifulSoup\n",
    "import pandas as pd\n",
    "import time\n",
    "import csv"
   ]
  },
  {
   "cell_type": "code",
   "execution_count": null,
   "metadata": {},
   "outputs": [],
   "source": [
    "#크롬 드라이버 가져오기\n",
    "browser=webdriver.Chrome('chromedriver.exe')\n",
    "#세계일보 홈페이지 입장\n",
    "browser.get('https://www.segye.com/search')"
   ]
  },
  {
   "cell_type": "code",
   "execution_count": null,
   "metadata": {},
   "outputs": [],
   "source": [
    "def segye_url(keyword):\n",
    "    #keyword 입력후 기사 본문 가져오기\n",
    "    browser.find_element_by_id('searchWord').send_keys(keyword)\n",
    "    browser.find_element_by_xpath('//*[@id=\"wps_layout1_box1\"]/div/div[2]/img[1]').click()\n",
    "    time.sleep(10)\n",
    "    browser.find_element_by_xpath('//*[@id=\"articleTitleArea\"]/div/a').click()\n",
    "    time.sleep(10)\n",
    "    html=browser.page_source\n",
    "    soup=BeautifulSoup(html,'html.parser')\n",
    "    attr=soup.select('ul.listBox > li > a')\n",
    "    \n",
    "    #기사 본문에서 url링크들 가져와 list로 만들기\n",
    "    url=[]\n",
    "    for urls in attr:\n",
    "        url.append(urls['href'])\n",
    "    browser.find_element_by_xpath('//*[@id=\"pagingNav\"]/a[2]').click()\n",
    "    time.sleep(2)\n",
    "    html=browser.page_source\n",
    "    soup=BeautifulSoup(html,'html.parser')\n",
    "    attr=soup.select('ul.listBox > li > a') \n",
    "    for urls in attr:\n",
    "        url.append(urls['href'])\n",
    "    browser.find_element_by_xpath('//*[@id=\"pagingNav\"]/a[4]').click()\n",
    "    time.sleep(2)\n",
    "    html=browser.page_source\n",
    "    soup=BeautifulSoup(html,'html.parser')\n",
    "    attr=soup.select('ul.listBox > li > a') \n",
    "    for urls in attr:\n",
    "        url.append(urls['href'])\n",
    "    browser.find_element_by_xpath('//*[@id=\"pagingNav\"]/a[5]').click()\n",
    "    time.sleep(2)\n",
    "    html=browser.page_source\n",
    "    soup=BeautifulSoup(html,'html.parser')\n",
    "    attr=soup.select('ul.listBox > li > a') \n",
    "    for urls in attr:\n",
    "        url.append(urls['href'])\n",
    "    \n",
    "    #url list에서 데이터를 하나씩 가져와 기사 제목과 본문들을 추출해 dictionary로 만들어준다.\n",
    "    dict={}\n",
    "    for i in range(len(url)):\n",
    "        browser.get(url[i])\n",
    "        html=browser.page_source\n",
    "        time.sleep(2)\n",
    "        soup=BeautifulSoup(html,'html.parser')\n",
    "        title=soup.find('h3',{'id':'title_sns'}).text\n",
    "        source=soup.find('article',{'class':'viewBox'}).text\n",
    "        source=source.replace('\\n','').replace('\\xa0','')\n",
    "        dict[title]=source\n",
    "    #dictionary파일을 csv파일로 저장해준다\n",
    "    with open('세계일보_{}.csv'.format(keyword),'w',-1,encoding='utf-8') as f:\n",
    "        w=csv.writer(f)\n",
    "        w.writerow(dict.keys())\n",
    "        w.writerow(dict.values())\n",
    "    \n",
    "    #csv파일들을 불러와 수정해준다.\n",
    "    world=pd.read_csv('C:/Users/user/Downloads/세계일보_{0}.csv'.format(keyword),encoding='utf-8')\n",
    "    #행렬전환\n",
    "    world=world.transpose()\n",
    "    list_b=list\n",
    "    title=list_b(world.index)\n",
    "    list_c=list\n",
    "    text=world[0]\n",
    "    text=list_c(text)\n",
    "    source=pd.DataFrame({'Title':title,'Text':text})\n",
    "    #60개의 기사들만 추출한다.\n",
    "    source=source.iloc[:60]\n",
    "    #Press열에 언론사 이름을 넣어 붙여준다.\n",
    "    source['Press']='세계일보'\n",
    "    source=source[['Press','Title','Text']]\n",
    "    source.to_csv('세계일보_{0}.csv'.format(keyword),encoding='utf-8-sig')"
   ]
  }
 ],
 "metadata": {
  "kernelspec": {
   "display_name": "Python 3",
   "language": "python",
   "name": "python3"
  },
  "language_info": {
   "codemirror_mode": {
    "name": "ipython",
    "version": 3
   },
   "file_extension": ".py",
   "mimetype": "text/x-python",
   "name": "python",
   "nbconvert_exporter": "python",
   "pygments_lexer": "ipython3",
   "version": "3.6.8"
  }
 },
 "nbformat": 4,
 "nbformat_minor": 4
}
