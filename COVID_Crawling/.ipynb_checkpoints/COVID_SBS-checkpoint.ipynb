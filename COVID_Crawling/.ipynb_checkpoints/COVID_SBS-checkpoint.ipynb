{
 "cells": [
  {
   "cell_type": "code",
   "execution_count": 1,
   "metadata": {},
   "outputs": [],
   "source": [
    "from selenium import webdriver\n",
    "import os\n",
    "from bs4 import BeautifulSoup\n",
    "import bs4\n",
    "import pandas as pd\n",
    "import time\n",
    "import csv\n",
    "import urllib.request as ur"
   ]
  },
  {
   "cell_type": "code",
   "execution_count": 3,
   "metadata": {},
   "outputs": [],
   "source": [
    "browserx=webdriver.Chrome('chromedriver.exe')\n",
    "browserx.get('https://news.sbs.co.kr/news/search/main.do?pageIdx=1&searchTermStartDate=&searchTermEndDate=&searchSection=01%7C02%7C03%7C07%7C08%7C09%7C14&searchCategory=&searchMode=&query={}&collection=nnews&searchOption=1&sort=RANK'.format('코로나방역'))"
   ]
  },
  {
   "cell_type": "code",
   "execution_count": 6,
   "metadata": {},
   "outputs": [],
   "source": [
    "urlx=[]\n",
    "for p in range(1,12):\n",
    "    browserx.get('https://news.sbs.co.kr/news/search/main.do?pageIdx={}&searchTermStartDate=&searchTermEndDate=&searchSection=01%7C02%7C03%7C07%7C08%7C09%7C14&searchCategory=&searchMode=&query={}&collection=nnews&searchOption=1&sort=RANK'.format(p,'코로나방역'))\n",
    "    htmlx=browserx.page_source\n",
    "    soupx=BeautifulSoup(htmlx,'html.parser')\n",
    "    attrx=soupx.select('div.psil_inner> a') \n",
    "    \n",
    "    for urlsx in attrx:\n",
    "        urlx.append(urlsx['href'])"
   ]
  },
  {
   "cell_type": "code",
   "execution_count": 7,
   "metadata": {},
   "outputs": [
    {
     "data": {
      "text/plain": [
       "102"
      ]
     },
     "execution_count": 7,
     "metadata": {},
     "output_type": "execute_result"
    }
   ],
   "source": [
    "len(urlx)"
   ]
  },
  {
   "cell_type": "code",
   "execution_count": null,
   "metadata": {},
   "outputs": [],
   "source": [
    "    #기사 본문 추출\n",
    "textx=[]\n",
    "for contentx in soupx.find('div',{'class':'text_area'}):\n",
    "    if type(contentx) is bs4.element.NavigableString and len(contentx)>20:\n",
    "        #print(type(contentx))\n",
    "         #print(contentx)\n",
    "        textx.append(contentx.replace('\\xa0',' ').replace('\\n','').replace('\\t',''))\n",
    "    #print(textx)\n",
    "\n",
    "    dictx[titlex]=textx\n",
    "\n",
    "\n",
    "len(dictx)"
   ]
  },
  {
   "cell_type": "code",
   "execution_count": 34,
   "metadata": {},
   "outputs": [
    {
     "data": {
      "text/html": [
       "<div>\n",
       "<style scoped>\n",
       "    .dataframe tbody tr th:only-of-type {\n",
       "        vertical-align: middle;\n",
       "    }\n",
       "\n",
       "    .dataframe tbody tr th {\n",
       "        vertical-align: top;\n",
       "    }\n",
       "\n",
       "    .dataframe thead th {\n",
       "        text-align: right;\n",
       "    }\n",
       "</style>\n",
       "<table border=\"1\" class=\"dataframe\">\n",
       "  <thead>\n",
       "    <tr style=\"text-align: right;\">\n",
       "      <th></th>\n",
       "      <th>Unnamed: 0</th>\n",
       "      <th>Press</th>\n",
       "      <th>Title</th>\n",
       "      <th>Text</th>\n",
       "    </tr>\n",
       "  </thead>\n",
       "  <tbody>\n",
       "    <tr>\n",
       "      <th>0</th>\n",
       "      <td>0</td>\n",
       "      <td>SBS</td>\n",
       "      <td>코로나19 방역 인력 3명 중 1명 '번아웃'…70% '울분 경험'</td>\n",
       "      <td>[\"  코로나19 방역과 치료를 담당하는 인력 3명 중 1명은 '번아웃'(소진) 상...</td>\n",
       "    </tr>\n",
       "    <tr>\n",
       "      <th>1</th>\n",
       "      <td>1</td>\n",
       "      <td>SBS</td>\n",
       "      <td>코로나19 방역 작전 동원된 브라질 군인들 양성반응 잇따라</td>\n",
       "      <td>['  브라질에서 신종 코로나바이러스 감염증(코로나19)이 빠르게 확산하면서 방역 ...</td>\n",
       "    </tr>\n",
       "    <tr>\n",
       "      <th>2</th>\n",
       "      <td>2</td>\n",
       "      <td>SBS</td>\n",
       "      <td>코로나 방역은 장기전? '집단면역' 스웨덴의 반전</td>\n",
       "      <td>[' 며칠 사이 확진자가 수백 명대로 다시 늘어나면서 다른 나라 사례도 짚어보게 됩...</td>\n",
       "    </tr>\n",
       "    <tr>\n",
       "      <th>3</th>\n",
       "      <td>3</td>\n",
       "      <td>SBS</td>\n",
       "      <td>'우한 봉쇄해제' 시진핑 \"중국 코로나19 방역 단계적 성과\"</td>\n",
       "      <td>['  코로나19 방역을 위해 76일간 봉쇄됐던 중국 후베이성 우한이 오늘(8일) ...</td>\n",
       "    </tr>\n",
       "    <tr>\n",
       "      <th>4</th>\n",
       "      <td>4</td>\n",
       "      <td>SBS</td>\n",
       "      <td>코로나19 방역 조치에 불만…브라질서 교도소 폭동·탈옥 잇따라</td>\n",
       "      <td>[' 브라질 상파울루주에 있는 교도소에서 코로나19 사태 관련 방역 조치에 불만을 ...</td>\n",
       "    </tr>\n",
       "    <tr>\n",
       "      <th>...</th>\n",
       "      <td>...</td>\n",
       "      <td>...</td>\n",
       "      <td>...</td>\n",
       "      <td>...</td>\n",
       "    </tr>\n",
       "    <tr>\n",
       "      <th>95</th>\n",
       "      <td>95</td>\n",
       "      <td>SBS</td>\n",
       "      <td>국방부 \"청사 기자실·브리핑룸 이틀간 폐쇄…코로나19 방역\"</td>\n",
       "      <td>['  국방부는 코로나19 예방 차원에서 방역을 위해 서울 용산구에 있는 신청사 1...</td>\n",
       "    </tr>\n",
       "    <tr>\n",
       "      <th>96</th>\n",
       "      <td>96</td>\n",
       "      <td>SBS</td>\n",
       "      <td>외교부, 코로나19 국제협력 TF 가동…효율적 'K방역' 추진</td>\n",
       "      <td>['  외교부는 오늘(20일) 코로나19 방역에 대한 외국의 협력 요청에 효과적으로...</td>\n",
       "    </tr>\n",
       "    <tr>\n",
       "      <th>97</th>\n",
       "      <td>97</td>\n",
       "      <td>SBS</td>\n",
       "      <td>'자가격리 무시' KTX 탄 20대 여성에 벌금 500만 원</td>\n",
       "      <td>['  코로나19 방역과 관련해 보건당국의 자가격리 조치를 무시하고 KTX를 탄 2...</td>\n",
       "    </tr>\n",
       "    <tr>\n",
       "      <th>98</th>\n",
       "      <td>98</td>\n",
       "      <td>SBS</td>\n",
       "      <td>열화상 카메라로 발열 체크 시 얼굴영상 저장 금지</td>\n",
       "      <td>['  코로나19 방역 목적으로 운영되는 열화상카메라 가운데 안면인식 등 얼굴 실사...</td>\n",
       "    </tr>\n",
       "    <tr>\n",
       "      <th>99</th>\n",
       "      <td>99</td>\n",
       "      <td>SBS</td>\n",
       "      <td>안면인식 열화상 카메라로 발열 체크 시 얼굴영상 저장 금지</td>\n",
       "      <td>['  코로나19 방역 목적으로 운영되는 열화상카메라 가운데 안면인식 등 얼굴 실사...</td>\n",
       "    </tr>\n",
       "  </tbody>\n",
       "</table>\n",
       "<p>100 rows × 4 columns</p>\n",
       "</div>"
      ],
      "text/plain": [
       "    Unnamed: 0 Press                                  Title  \\\n",
       "0            0   SBS  코로나19 방역 인력 3명 중 1명 '번아웃'…70% '울분 경험'   \n",
       "1            1   SBS       코로나19 방역 작전 동원된 브라질 군인들 양성반응 잇따라   \n",
       "2            2   SBS            코로나 방역은 장기전? '집단면역' 스웨덴의 반전   \n",
       "3            3   SBS     '우한 봉쇄해제' 시진핑 \"중국 코로나19 방역 단계적 성과\"   \n",
       "4            4   SBS     코로나19 방역 조치에 불만…브라질서 교도소 폭동·탈옥 잇따라   \n",
       "..         ...   ...                                    ...   \n",
       "95          95   SBS      국방부 \"청사 기자실·브리핑룸 이틀간 폐쇄…코로나19 방역\"   \n",
       "96          96   SBS     외교부, 코로나19 국제협력 TF 가동…효율적 'K방역' 추진   \n",
       "97          97   SBS      '자가격리 무시' KTX 탄 20대 여성에 벌금 500만 원   \n",
       "98          98   SBS            열화상 카메라로 발열 체크 시 얼굴영상 저장 금지   \n",
       "99          99   SBS       안면인식 열화상 카메라로 발열 체크 시 얼굴영상 저장 금지   \n",
       "\n",
       "                                                 Text  \n",
       "0   [\"  코로나19 방역과 치료를 담당하는 인력 3명 중 1명은 '번아웃'(소진) 상...  \n",
       "1   ['  브라질에서 신종 코로나바이러스 감염증(코로나19)이 빠르게 확산하면서 방역 ...  \n",
       "2   [' 며칠 사이 확진자가 수백 명대로 다시 늘어나면서 다른 나라 사례도 짚어보게 됩...  \n",
       "3   ['  코로나19 방역을 위해 76일간 봉쇄됐던 중국 후베이성 우한이 오늘(8일) ...  \n",
       "4   [' 브라질 상파울루주에 있는 교도소에서 코로나19 사태 관련 방역 조치에 불만을 ...  \n",
       "..                                                ...  \n",
       "95  ['  국방부는 코로나19 예방 차원에서 방역을 위해 서울 용산구에 있는 신청사 1...  \n",
       "96  ['  외교부는 오늘(20일) 코로나19 방역에 대한 외국의 협력 요청에 효과적으로...  \n",
       "97  ['  코로나19 방역과 관련해 보건당국의 자가격리 조치를 무시하고 KTX를 탄 2...  \n",
       "98  ['  코로나19 방역 목적으로 운영되는 열화상카메라 가운데 안면인식 등 얼굴 실사...  \n",
       "99  ['  코로나19 방역 목적으로 운영되는 열화상카메라 가운데 안면인식 등 얼굴 실사...  \n",
       "\n",
       "[100 rows x 4 columns]"
      ]
     },
     "execution_count": 34,
     "metadata": {},
     "output_type": "execute_result"
    }
   ],
   "source": [
    "pd.read_csv('./COVID_SBS.csv',encoding='utf-8-sig')"
   ]
  },
  {
   "cell_type": "code",
   "execution_count": null,
   "metadata": {},
   "outputs": [],
   "source": []
  }
 ],
 "metadata": {
  "kernelspec": {
   "display_name": "Python 3",
   "language": "python",
   "name": "python3"
  },
  "language_info": {
   "codemirror_mode": {
    "name": "ipython",
    "version": 3
   },
   "file_extension": ".py",
   "mimetype": "text/x-python",
   "name": "python",
   "nbconvert_exporter": "python",
   "pygments_lexer": "ipython3",
   "version": "3.6.8"
  }
 },
 "nbformat": 4,
 "nbformat_minor": 4
}
