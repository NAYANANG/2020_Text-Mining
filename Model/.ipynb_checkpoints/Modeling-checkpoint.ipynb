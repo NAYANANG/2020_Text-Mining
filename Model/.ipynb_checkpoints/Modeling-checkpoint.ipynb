{
 "cells": [
  {
   "cell_type": "code",
   "execution_count": 1,
   "metadata": {},
   "outputs": [
    {
     "name": "stderr",
     "output_type": "stream",
     "text": [
      "/usr/local/lib/python3.6/dist-packages/tensorflow/python/framework/dtypes.py:523: FutureWarning: Passing (type, 1) or '1type' as a synonym of type is deprecated; in a future version of numpy, it will be understood as (type, (1,)) / '(1,)type'.\n",
      "  _np_qint8 = np.dtype([(\"qint8\", np.int8, 1)])\n",
      "/usr/local/lib/python3.6/dist-packages/tensorflow/python/framework/dtypes.py:524: FutureWarning: Passing (type, 1) or '1type' as a synonym of type is deprecated; in a future version of numpy, it will be understood as (type, (1,)) / '(1,)type'.\n",
      "  _np_quint8 = np.dtype([(\"quint8\", np.uint8, 1)])\n",
      "/usr/local/lib/python3.6/dist-packages/tensorflow/python/framework/dtypes.py:525: FutureWarning: Passing (type, 1) or '1type' as a synonym of type is deprecated; in a future version of numpy, it will be understood as (type, (1,)) / '(1,)type'.\n",
      "  _np_qint16 = np.dtype([(\"qint16\", np.int16, 1)])\n",
      "/usr/local/lib/python3.6/dist-packages/tensorflow/python/framework/dtypes.py:526: FutureWarning: Passing (type, 1) or '1type' as a synonym of type is deprecated; in a future version of numpy, it will be understood as (type, (1,)) / '(1,)type'.\n",
      "  _np_quint16 = np.dtype([(\"quint16\", np.uint16, 1)])\n",
      "/usr/local/lib/python3.6/dist-packages/tensorflow/python/framework/dtypes.py:527: FutureWarning: Passing (type, 1) or '1type' as a synonym of type is deprecated; in a future version of numpy, it will be understood as (type, (1,)) / '(1,)type'.\n",
      "  _np_qint32 = np.dtype([(\"qint32\", np.int32, 1)])\n",
      "/usr/local/lib/python3.6/dist-packages/tensorflow/python/framework/dtypes.py:532: FutureWarning: Passing (type, 1) or '1type' as a synonym of type is deprecated; in a future version of numpy, it will be understood as (type, (1,)) / '(1,)type'.\n",
      "  np_resource = np.dtype([(\"resource\", np.ubyte, 1)])\n"
     ]
    }
   ],
   "source": [
    "from tensorflow.keras.layers import SimpleRNN,Embedding,Dense,LSTM\n",
    "from tensorflow.keras.models import Sequential"
   ]
  },
  {
   "cell_type": "code",
   "execution_count": 2,
   "metadata": {},
   "outputs": [],
   "source": [
    "vocab_size=14031\n",
    "#단어 집합의 크기: 14031"
   ]
  },
  {
   "cell_type": "code",
   "execution_count": 3,
   "metadata": {},
   "outputs": [],
   "source": [
    "import numpy as np\n",
    "import pandas as pd\n",
    "x_data=np.load('../Data_Ready/data/X_data.npy')\n",
    "y_data=pd.read_csv('../Data_Ready/data/y_data.csv')"
   ]
  },
  {
   "cell_type": "code",
   "execution_count": 4,
   "metadata": {},
   "outputs": [
    {
     "name": "stderr",
     "output_type": "stream",
     "text": [
      "Using TensorFlow backend.\n"
     ]
    }
   ],
   "source": [
    "y_data=np.asarray(y_data)\n",
    "from keras.utils import to_categorical\n",
    "y_data=to_categorical(y_data)"
   ]
  },
  {
   "cell_type": "code",
   "execution_count": 5,
   "metadata": {},
   "outputs": [],
   "source": [
    "from sklearn.model_selection import KFold\n",
    "\n",
    "kf=KFold(7)\n",
    "for train_index,test_index in kf.split(x_data):\n",
    "    X_train,X_test=x_data[train_index],x_data[test_index]\n",
    "    Y_train,Y_test=y_data[train_index],y_data[test_index]"
   ]
  },
  {
   "cell_type": "code",
   "execution_count": 6,
   "metadata": {},
   "outputs": [],
   "source": [
    "# train_c=int(len(x_data)*0.8)\n",
    "# test_c=int(len(x_data)-train_c)\n",
    "# print('훈련데이터 개수 :',train_c)\n",
    "# print('테스트 데이터 개수 :',test_c)\n",
    "# X_train=x_data[:train_c]\n",
    "# Y_train=y_data[:train_c]\n",
    "# X_test=x_data[train_c:]\n",
    "# Y_test=y_data[train_c:]"
   ]
  },
  {
   "cell_type": "code",
   "execution_count": 7,
   "metadata": {},
   "outputs": [
    {
     "name": "stdout",
     "output_type": "stream",
     "text": [
      "943\n",
      "943\n",
      "157\n",
      "157\n"
     ]
    }
   ],
   "source": [
    "print(len(X_train))\n",
    "print(len(Y_train))\n",
    "print(len(X_test))\n",
    "print(len(Y_test))"
   ]
  },
  {
   "cell_type": "code",
   "execution_count": 8,
   "metadata": {},
   "outputs": [
    {
     "data": {
      "text/plain": [
       "array([[0., 0., 1.],\n",
       "       [1., 0., 0.],\n",
       "       [0., 0., 1.],\n",
       "       ...,\n",
       "       [0., 1., 0.],\n",
       "       [0., 0., 1.],\n",
       "       [0., 0., 1.]], dtype=float32)"
      ]
     },
     "execution_count": 8,
     "metadata": {},
     "output_type": "execute_result"
    }
   ],
   "source": [
    "Y_train"
   ]
  },
  {
   "cell_type": "code",
   "execution_count": 15,
   "metadata": {},
   "outputs": [
    {
     "name": "stdout",
     "output_type": "stream",
     "text": [
      "Train on 754 samples, validate on 189 samples\n",
      "Epoch 1/10\n",
      "754/754 [==============================] - 16s 21ms/step - loss: 1.0857 - acc: 0.4881 - val_loss: 1.0552 - val_acc: 0.5185\n",
      "Epoch 2/10\n",
      "754/754 [==============================] - 14s 19ms/step - loss: 0.9147 - acc: 0.6379 - val_loss: 0.9075 - val_acc: 0.5873\n",
      "Epoch 3/10\n",
      "754/754 [==============================] - 15s 19ms/step - loss: 0.6275 - acc: 0.7149 - val_loss: 0.8498 - val_acc: 0.6296\n",
      "Epoch 4/10\n",
      "754/754 [==============================] - 15s 20ms/step - loss: 0.3292 - acc: 0.9310 - val_loss: 0.7939 - val_acc: 0.6296\n",
      "Epoch 5/10\n",
      "754/754 [==============================] - 15s 19ms/step - loss: 0.1423 - acc: 0.9788 - val_loss: 1.3741 - val_acc: 0.6138\n",
      "Epoch 6/10\n",
      "754/754 [==============================] - 15s 20ms/step - loss: 0.0602 - acc: 0.9881 - val_loss: 0.9788 - val_acc: 0.6243\n",
      "Epoch 7/10\n",
      "754/754 [==============================] - 15s 20ms/step - loss: 0.0228 - acc: 0.9947 - val_loss: 1.0251 - val_acc: 0.6720\n",
      "Epoch 8/10\n",
      "754/754 [==============================] - 15s 20ms/step - loss: 0.0162 - acc: 0.9960 - val_loss: 1.1214 - val_acc: 0.6085\n",
      "Epoch 9/10\n",
      "754/754 [==============================] - 15s 19ms/step - loss: 0.0120 - acc: 0.9973 - val_loss: 1.1024 - val_acc: 0.6296\n",
      "Epoch 10/10\n",
      "754/754 [==============================] - 15s 19ms/step - loss: 0.0071 - acc: 1.0000 - val_loss: 1.1775 - val_acc: 0.6508\n"
     ]
    }
   ],
   "source": [
    "model=Sequential()\n",
    "model.add(Embedding(vocab_size,32))\n",
    "model.add(LSTM(32))\n",
    "model.add(Dense(3,activation='softmax'))\n",
    "\n",
    "model.compile(optimizer='adam',loss='categorical_crossentropy',metrics=['acc'])\n",
    "history=model.fit(X_train,Y_train,epochs=10,batch_size=32,validation_split=0.2)"
   ]
  },
  {
   "cell_type": "code",
   "execution_count": 16,
   "metadata": {
    "scrolled": true
   },
   "outputs": [
    {
     "name": "stdout",
     "output_type": "stream",
     "text": [
      "157/157 [==============================] - 1s 4ms/step\n",
      "\n",
      " 테스트 정확도: 0.6306\n"
     ]
    }
   ],
   "source": [
    "print('\\n 테스트 정확도: %.4f'%(model.evaluate(X_test,Y_test)[1]))"
   ]
  },
  {
   "cell_type": "code",
   "execution_count": 14,
   "metadata": {},
   "outputs": [
    {
     "data": {
      "image/png": "[encoded data removed]",
      "text/plain": [
       "<Figure size 432x288 with 1 Axes>"
      ]
     },
     "metadata": {
      "needs_background": "light"
     },
     "output_type": "display_data"
    }
   ],
   "source": [
    "import matplotlib.pyplot as plt\n",
    "epochs=range(1,len(history.history['acc'])+1)\n",
    "plt.plot(epochs,history.history['loss'])\n",
    "plt.plot(epochs,history.history['val_loss'])\n",
    "plt.title('model loss')\n",
    "plt.ylabel('loss')\n",
    "plt.xlabel('epoch')\n",
    "plt.legend(['train','val'],loc='upper left')\n",
    "plt.show()"
   ]
  },
  {
   "cell_type": "code",
   "execution_count": null,
   "metadata": {},
   "outputs": [],
   "source": []
  }
 ],
 "metadata": {
  "kernelspec": {
   "display_name": "Python 3",
   "language": "python",
   "name": "python3"
  },
  "language_info": {
   "codemirror_mode": {
    "name": "ipython",
    "version": 3
   },
   "file_extension": ".py",
   "mimetype": "text/x-python",
   "name": "python",
   "nbconvert_exporter": "python",
   "pygments_lexer": "ipython3",
   "version": "3.6.8"
  }
 },
 "nbformat": 4,
 "nbformat_minor": 4
}
