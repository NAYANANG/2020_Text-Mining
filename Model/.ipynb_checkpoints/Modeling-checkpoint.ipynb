{
 "cells": [
  {
   "cell_type": "code",
   "execution_count": 1,
   "metadata": {},
   "outputs": [
    {
     "name": "stderr",
     "output_type": "stream",
     "text": [
      "/usr/local/lib/python3.6/dist-packages/tensorflow/python/framework/dtypes.py:523: FutureWarning: Passing (type, 1) or '1type' as a synonym of type is deprecated; in a future version of numpy, it will be understood as (type, (1,)) / '(1,)type'.\n",
      "  _np_qint8 = np.dtype([(\"qint8\", np.int8, 1)])\n",
      "/usr/local/lib/python3.6/dist-packages/tensorflow/python/framework/dtypes.py:524: FutureWarning: Passing (type, 1) or '1type' as a synonym of type is deprecated; in a future version of numpy, it will be understood as (type, (1,)) / '(1,)type'.\n",
      "  _np_quint8 = np.dtype([(\"quint8\", np.uint8, 1)])\n",
      "/usr/local/lib/python3.6/dist-packages/tensorflow/python/framework/dtypes.py:525: FutureWarning: Passing (type, 1) or '1type' as a synonym of type is deprecated; in a future version of numpy, it will be understood as (type, (1,)) / '(1,)type'.\n",
      "  _np_qint16 = np.dtype([(\"qint16\", np.int16, 1)])\n",
      "/usr/local/lib/python3.6/dist-packages/tensorflow/python/framework/dtypes.py:526: FutureWarning: Passing (type, 1) or '1type' as a synonym of type is deprecated; in a future version of numpy, it will be understood as (type, (1,)) / '(1,)type'.\n",
      "  _np_quint16 = np.dtype([(\"quint16\", np.uint16, 1)])\n",
      "/usr/local/lib/python3.6/dist-packages/tensorflow/python/framework/dtypes.py:527: FutureWarning: Passing (type, 1) or '1type' as a synonym of type is deprecated; in a future version of numpy, it will be understood as (type, (1,)) / '(1,)type'.\n",
      "  _np_qint32 = np.dtype([(\"qint32\", np.int32, 1)])\n",
      "/usr/local/lib/python3.6/dist-packages/tensorflow/python/framework/dtypes.py:532: FutureWarning: Passing (type, 1) or '1type' as a synonym of type is deprecated; in a future version of numpy, it will be understood as (type, (1,)) / '(1,)type'.\n",
      "  np_resource = np.dtype([(\"resource\", np.ubyte, 1)])\n",
      "Using TensorFlow backend.\n"
     ]
    }
   ],
   "source": [
    "from tensorflow.keras.layers import SimpleRNN,Embedding,Dense,LSTM,Bidirectional\n",
    "from tensorflow.keras.models import Sequential\n",
    "from keras import optimizers\n",
    "import keras"
   ]
  },
  {
   "cell_type": "code",
   "execution_count": 2,
   "metadata": {},
   "outputs": [],
   "source": [
    "vocab_size=14031\n",
    "#단어 집합의 크기: 14031"
   ]
  },
  {
   "cell_type": "code",
   "execution_count": 3,
   "metadata": {},
   "outputs": [],
   "source": [
    "import numpy as np\n",
    "import pandas as pd\n",
    "x_data=np.load('../Data_Ready/data/X_data.npy')\n",
    "y_data=pd.read_csv('../Data_Ready/data/y_data.csv')"
   ]
  },
  {
   "cell_type": "code",
   "execution_count": 4,
   "metadata": {},
   "outputs": [],
   "source": [
    "y_data=np.asarray(y_data)\n",
    "from keras.utils import to_categorical\n",
    "y_data=to_categorical(y_data)"
   ]
  },
  {
   "cell_type": "code",
   "execution_count": 5,
   "metadata": {},
   "outputs": [],
   "source": [
    "from sklearn.model_selection import KFold\n",
    "\n",
    "kf=KFold(7)\n",
    "for train_index,test_index in kf.split(x_data):\n",
    "    X_train,X_test=x_data[train_index],x_data[test_index]\n",
    "    Y_train,Y_test=y_data[train_index],y_data[test_index]"
   ]
  },
  {
   "cell_type": "code",
   "execution_count": 6,
   "metadata": {},
   "outputs": [],
   "source": [
    "# train_c=int(len(x_data)*0.8)\n",
    "# test_c=int(len(x_data)-train_c)\n",
    "# print('훈련데이터 개수 :',train_c)\n",
    "# print('테스트 데이터 개수 :',test_c)\n",
    "# X_train=x_data[:train_c]\n",
    "# Y_train=y_data[:train_c]\n",
    "# X_test=x_data[train_c:]\n",
    "# Y_test=y_data[train_c:]"
   ]
  },
  {
   "cell_type": "code",
   "execution_count": 7,
   "metadata": {},
   "outputs": [
    {
     "name": "stdout",
     "output_type": "stream",
     "text": [
      "943\n",
      "943\n",
      "157\n",
      "157\n"
     ]
    }
   ],
   "source": [
    "print(len(X_train))\n",
    "print(len(Y_train))\n",
    "print(len(X_test))\n",
    "print(len(Y_test))"
   ]
  },
  {
   "cell_type": "code",
   "execution_count": 8,
   "metadata": {},
   "outputs": [],
   "source": [
    "callbackslist=[\n",
    "    keras.callbacks.EarlyStopping(\n",
    "    monitor='val_acc',\n",
    "    patience=1),\n",
    "    \n",
    "    keras.callbacks.ModelCheckpoint(\n",
    "    filepath='./model',\n",
    "    monitor='val_loss',\n",
    "    save_best_only=True)\n",
    "]"
   ]
  },
  {
   "cell_type": "code",
   "execution_count": 26,
   "metadata": {},
   "outputs": [
    {
     "name": "stdout",
     "output_type": "stream",
     "text": [
      "Train on 754 samples, validate on 189 samples\n",
      "Epoch 1/10\n",
      "754/754 [==============================] - 6s 8ms/step - loss: 1.0883 - acc: 0.4164 - val_loss: 1.0685 - val_acc: 0.5767\n",
      "Epoch 2/10\n",
      "754/754 [==============================] - 5s 6ms/step - loss: 1.0274 - acc: 0.5849 - val_loss: 0.9950 - val_acc: 0.5979\n",
      "Epoch 3/10\n",
      "754/754 [==============================] - 5s 6ms/step - loss: 0.8696 - acc: 0.6233 - val_loss: 0.8721 - val_acc: 0.5926\n",
      "Epoch 4/10\n",
      "754/754 [==============================] - 5s 6ms/step - loss: 0.6630 - acc: 0.7056 - val_loss: 0.8109 - val_acc: 0.6455\n",
      "Epoch 5/10\n",
      "754/754 [==============================] - 5s 6ms/step - loss: 0.5085 - acc: 0.8554 - val_loss: 0.7832 - val_acc: 0.6508\n",
      "Epoch 6/10\n",
      "754/754 [==============================] - 5s 6ms/step - loss: 0.4015 - acc: 0.9005 - val_loss: 0.8545 - val_acc: 0.6243\n",
      "Epoch 7/10\n",
      "754/754 [==============================] - 5s 6ms/step - loss: 0.2949 - acc: 0.9297 - val_loss: 0.8480 - val_acc: 0.6508\n",
      "Epoch 8/10\n",
      "754/754 [==============================] - 5s 6ms/step - loss: 0.2101 - acc: 0.9549 - val_loss: 0.9866 - val_acc: 0.6296\n",
      "Epoch 9/10\n",
      "754/754 [==============================] - 5s 6ms/step - loss: 0.1476 - acc: 0.9708 - val_loss: 0.9781 - val_acc: 0.6402\n",
      "Epoch 10/10\n",
      "754/754 [==============================] - 5s 6ms/step - loss: 0.1161 - acc: 0.9735 - val_loss: 1.0154 - val_acc: 0.6455\n"
     ]
    }
   ],
   "source": [
    "model=Sequential()\n",
    "model.add(Embedding(vocab_size,32))\n",
    "model.add(Bidirectional(LSTM(32)))\n",
    "model.add(Dense(3,activation='softmax'))\n",
    "model.compile(optimizer='rmsprop',loss='categorical_crossentropy',metrics=['acc'])\n",
    "history=model.fit(X_train,Y_train,epochs=10,batch_size=32,validation_split=0.2)"
   ]
  },
  {
   "cell_type": "code",
   "execution_count": 27,
   "metadata": {
    "scrolled": false
   },
   "outputs": [
    {
     "name": "stdout",
     "output_type": "stream",
     "text": [
      "157/157 [==============================] - 0s 1ms/step\n",
      "\n",
      " 테스트 정확도: 0.6624\n"
     ]
    }
   ],
   "source": [
    "print('\\n 테스트 정확도: %.4f'%(model.evaluate(X_test,Y_test)[1]))"
   ]
  },
  {
   "cell_type": "code",
   "execution_count": 25,
   "metadata": {},
   "outputs": [
    {
     "data": {
      "image/png": "[encoded data removed]",
      "text/plain": [
       "<Figure size 432x288 with 1 Axes>"
      ]
     },
     "metadata": {
      "needs_background": "light"
     },
     "output_type": "display_data"
    }
   ],
   "source": [
    "import matplotlib.pyplot as plt\n",
    "epochs=range(1,len(history.history['acc'])+1)\n",
    "plt.plot(epochs,history.history['loss'])\n",
    "plt.plot(epochs,history.history['val_loss'])\n",
    "plt.title('model loss')\n",
    "plt.ylabel('loss')\n",
    "plt.xlabel('epoch')\n",
    "plt.legend(['train','val'],loc='upper left')\n",
    "plt.show()"
   ]
  },
  {
   "cell_type": "code",
   "execution_count": null,
   "metadata": {},
   "outputs": [],
   "source": []
  }
 ],
 "metadata": {
  "kernelspec": {
   "display_name": "Python 3",
   "language": "python",
   "name": "python3"
  },
  "language_info": {
   "codemirror_mode": {
    "name": "ipython",
    "version": 3
   },
   "file_extension": ".py",
   "mimetype": "text/x-python",
   "name": "python",
   "nbconvert_exporter": "python",
   "pygments_lexer": "ipython3",
   "version": "3.6.8"
  }
 },
 "nbformat": 4,
 "nbformat_minor": 4
}
