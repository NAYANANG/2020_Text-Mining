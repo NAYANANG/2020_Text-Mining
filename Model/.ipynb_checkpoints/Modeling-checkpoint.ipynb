{
 "cells": [
  {
   "cell_type": "code",
   "execution_count": 44,
   "metadata": {},
   "outputs": [],
   "source": [
    "from tensorflow.keras.layers import SimpleRNN,Embedding,Dense,LSTM,Bidirectional\n",
    "from tensorflow.keras.models import Sequential\n",
    "from keras import optimizers\n",
    "import keras"
   ]
  },
  {
   "cell_type": "code",
   "execution_count": 6,
   "metadata": {},
   "outputs": [],
   "source": [
    "vocab_size=14031\n",
    "#단어 집합의 크기: 14031"
   ]
  },
  {
   "cell_type": "code",
   "execution_count": 7,
   "metadata": {},
   "outputs": [],
   "source": [
    "import numpy as np\n",
    "import pandas as pd\n",
    "x_data=np.load('../Data_Ready/data/X_data.npy')\n",
    "y_data=pd.read_csv('../Data_Ready/data/y_data.csv')"
   ]
  },
  {
   "cell_type": "code",
   "execution_count": 8,
   "metadata": {},
   "outputs": [],
   "source": [
    "y_data=np.asarray(y_data)\n",
    "from keras.utils import to_categorical\n",
    "y_data=to_categorical(y_data)"
   ]
  },
  {
   "cell_type": "code",
   "execution_count": 9,
   "metadata": {},
   "outputs": [],
   "source": [
    "from sklearn.model_selection import KFold\n",
    "\n",
    "kf=KFold(7)\n",
    "for train_index,test_index in kf.split(x_data):\n",
    "    X_train,X_test=x_data[train_index],x_data[test_index]\n",
    "    Y_train,Y_test=y_data[train_index],y_data[test_index]"
   ]
  },
  {
   "cell_type": "code",
   "execution_count": 10,
   "metadata": {},
   "outputs": [],
   "source": [
    "# train_c=int(len(x_data)*0.8)\n",
    "# test_c=int(len(x_data)-train_c)\n",
    "# print('훈련데이터 개수 :',train_c)\n",
    "# print('테스트 데이터 개수 :',test_c)\n",
    "# X_train=x_data[:train_c]\n",
    "# Y_train=y_data[:train_c]\n",
    "# X_test=x_data[train_c:]\n",
    "# Y_test=y_data[train_c:]"
   ]
  },
  {
   "cell_type": "code",
   "execution_count": 11,
   "metadata": {},
   "outputs": [
    {
     "name": "stdout",
     "output_type": "stream",
     "text": [
      "943\n",
      "943\n",
      "157\n",
      "157\n"
     ]
    }
   ],
   "source": [
    "print(len(X_train))\n",
    "print(len(Y_train))\n",
    "print(len(X_test))\n",
    "print(len(Y_test))"
   ]
  },
  {
   "cell_type": "code",
   "execution_count": 14,
   "metadata": {},
   "outputs": [],
   "source": [
    "callbackslist=[\n",
    "    keras.callbacks.EarlyStopping(\n",
    "    monitor='val_acc',\n",
    "    patience=1),\n",
    "    \n",
    "    keras.callbacks.ModelCheckpoint(\n",
    "    filepath='./model',\n",
    "    monitor='val_loss',\n",
    "    save_best_only=True)\n",
    "]"
   ]
  },
  {
   "cell_type": "code",
   "execution_count": 64,
   "metadata": {},
   "outputs": [
    {
     "name": "stdout",
     "output_type": "stream",
     "text": [
      "Train on 754 samples, validate on 189 samples\n",
      "Epoch 1/100\n",
      "754/754 [==============================] - 16s 21ms/step - loss: 1.0907 - acc: 0.3926 - val_loss: 1.0724 - val_acc: 0.5185\n",
      "Epoch 2/100\n",
      "754/754 [==============================] - 9s 12ms/step - loss: 1.0234 - acc: 0.6340 - val_loss: 1.0367 - val_acc: 0.4762\n",
      "Epoch 3/100\n",
      "754/754 [==============================] - 9s 12ms/step - loss: 0.7564 - acc: 0.6737 - val_loss: 0.8657 - val_acc: 0.5767\n",
      "Epoch 4/100\n",
      "754/754 [==============================] - 9s 12ms/step - loss: 0.5120 - acc: 0.7798 - val_loss: 0.8816 - val_acc: 0.5608\n",
      "Epoch 5/100\n",
      "754/754 [==============================] - 9s 12ms/step - loss: 0.3348 - acc: 0.8793 - val_loss: 0.8937 - val_acc: 0.6243\n",
      "Epoch 6/100\n",
      "754/754 [==============================] - 9s 12ms/step - loss: 0.1642 - acc: 0.9814 - val_loss: 1.0522 - val_acc: 0.6349\n",
      "Epoch 7/100\n",
      "754/754 [==============================] - 9s 12ms/step - loss: 0.0750 - acc: 0.9973 - val_loss: 1.1894 - val_acc: 0.6561\n",
      "Epoch 8/100\n",
      "754/754 [==============================] - 9s 12ms/step - loss: 0.0645 - acc: 0.9960 - val_loss: 1.1538 - val_acc: 0.6825\n",
      "Epoch 9/100\n",
      "754/754 [==============================] - 9s 12ms/step - loss: 0.0527 - acc: 0.9934 - val_loss: 1.2428 - val_acc: 0.6243\n",
      "Epoch 10/100\n",
      "754/754 [==============================] - 9s 12ms/step - loss: 0.0407 - acc: 0.9973 - val_loss: 1.3037 - val_acc: 0.6402\n",
      "Epoch 11/100\n",
      "754/754 [==============================] - 9s 12ms/step - loss: 0.0319 - acc: 0.9973 - val_loss: 1.3722 - val_acc: 0.6402\n",
      "Epoch 12/100\n",
      "754/754 [==============================] - 9s 12ms/step - loss: 0.0386 - acc: 0.9960 - val_loss: 1.2813 - val_acc: 0.5926\n",
      "Epoch 13/100\n",
      "754/754 [==============================] - 9s 12ms/step - loss: 0.0388 - acc: 0.9960 - val_loss: 1.2198 - val_acc: 0.6614\n",
      "Epoch 14/100\n",
      "754/754 [==============================] - 9s 12ms/step - loss: 0.0346 - acc: 0.9934 - val_loss: 1.2726 - val_acc: 0.6508\n",
      "Epoch 15/100\n",
      "754/754 [==============================] - 9s 12ms/step - loss: 0.0305 - acc: 0.9960 - val_loss: 1.3838 - val_acc: 0.6243\n",
      "Epoch 16/100\n",
      "754/754 [==============================] - 9s 12ms/step - loss: 0.0151 - acc: 1.0000 - val_loss: 1.4773 - val_acc: 0.6243\n",
      "Epoch 17/100\n",
      "754/754 [==============================] - 9s 12ms/step - loss: 0.0117 - acc: 1.0000 - val_loss: 1.5032 - val_acc: 0.6296\n",
      "Epoch 18/100\n",
      "754/754 [==============================] - 9s 12ms/step - loss: 0.0095 - acc: 1.0000 - val_loss: 1.5180 - val_acc: 0.6402\n",
      "Epoch 19/100\n",
      "754/754 [==============================] - 9s 12ms/step - loss: 0.0080 - acc: 1.0000 - val_loss: 1.5395 - val_acc: 0.6508\n",
      "Epoch 20/100\n",
      "754/754 [==============================] - 9s 12ms/step - loss: 0.0069 - acc: 1.0000 - val_loss: 1.5677 - val_acc: 0.6508\n",
      "Epoch 21/100\n",
      "754/754 [==============================] - 9s 12ms/step - loss: 0.0059 - acc: 1.0000 - val_loss: 1.6192 - val_acc: 0.6296\n",
      "Epoch 22/100\n",
      "754/754 [==============================] - 9s 12ms/step - loss: 0.0051 - acc: 1.0000 - val_loss: 1.6199 - val_acc: 0.6455\n",
      "Epoch 23/100\n",
      "754/754 [==============================] - 9s 12ms/step - loss: 0.0047 - acc: 1.0000 - val_loss: 1.8100 - val_acc: 0.6138\n",
      "Epoch 24/100\n",
      "754/754 [==============================] - 9s 12ms/step - loss: 0.0099 - acc: 0.9973 - val_loss: 1.7587 - val_acc: 0.6508\n",
      "Epoch 25/100\n",
      "754/754 [==============================] - 9s 12ms/step - loss: 0.0200 - acc: 0.9947 - val_loss: 1.8670 - val_acc: 0.5873\n",
      "Epoch 26/100\n",
      "754/754 [==============================] - 9s 12ms/step - loss: 0.0687 - acc: 0.9775 - val_loss: 1.5514 - val_acc: 0.6085\n",
      "Epoch 27/100\n",
      "754/754 [==============================] - 9s 12ms/step - loss: 0.0180 - acc: 0.9960 - val_loss: 1.5456 - val_acc: 0.5873\n",
      "Epoch 28/100\n",
      "754/754 [==============================] - 9s 12ms/step - loss: 0.0107 - acc: 0.9987 - val_loss: 1.5687 - val_acc: 0.6085\n",
      "Epoch 29/100\n",
      "754/754 [==============================] - 9s 12ms/step - loss: 0.0101 - acc: 0.9987 - val_loss: 1.6682 - val_acc: 0.5979\n",
      "Epoch 30/100\n",
      "754/754 [==============================] - 9s 12ms/step - loss: 0.0070 - acc: 1.0000 - val_loss: 1.6755 - val_acc: 0.5926\n",
      "Epoch 31/100\n",
      "754/754 [==============================] - 9s 12ms/step - loss: 0.0054 - acc: 1.0000 - val_loss: 1.6885 - val_acc: 0.5873\n",
      "Epoch 32/100\n",
      "754/754 [==============================] - 9s 12ms/step - loss: 0.0048 - acc: 1.0000 - val_loss: 1.7243 - val_acc: 0.5820\n",
      "Epoch 33/100\n",
      "754/754 [==============================] - 9s 12ms/step - loss: 0.0045 - acc: 1.0000 - val_loss: 1.7347 - val_acc: 0.5820\n",
      "Epoch 34/100\n",
      "754/754 [==============================] - 9s 12ms/step - loss: 0.0041 - acc: 1.0000 - val_loss: 1.7561 - val_acc: 0.5820\n",
      "Epoch 35/100\n",
      "754/754 [==============================] - 9s 12ms/step - loss: 0.0038 - acc: 1.0000 - val_loss: 1.7762 - val_acc: 0.5873\n",
      "Epoch 36/100\n",
      "754/754 [==============================] - 9s 12ms/step - loss: 0.0036 - acc: 1.0000 - val_loss: 1.7984 - val_acc: 0.5873\n",
      "Epoch 37/100\n",
      "754/754 [==============================] - 9s 12ms/step - loss: 0.0034 - acc: 1.0000 - val_loss: 1.8211 - val_acc: 0.5873\n",
      "Epoch 38/100\n",
      "754/754 [==============================] - 10s 13ms/step - loss: 0.0032 - acc: 1.0000 - val_loss: 1.8426 - val_acc: 0.5926\n",
      "Epoch 39/100\n",
      "754/754 [==============================] - 9s 12ms/step - loss: 0.0030 - acc: 1.0000 - val_loss: 1.8639 - val_acc: 0.5926\n",
      "Epoch 40/100\n",
      "754/754 [==============================] - 9s 12ms/step - loss: 0.0029 - acc: 1.0000 - val_loss: 1.8841 - val_acc: 0.5979\n",
      "Epoch 41/100\n",
      "754/754 [==============================] - 9s 12ms/step - loss: 0.0027 - acc: 1.0000 - val_loss: 1.9038 - val_acc: 0.5979\n",
      "Epoch 42/100\n",
      "754/754 [==============================] - 9s 12ms/step - loss: 0.0026 - acc: 1.0000 - val_loss: 1.9225 - val_acc: 0.5979\n",
      "Epoch 43/100\n",
      "754/754 [==============================] - 10s 13ms/step - loss: 0.0025 - acc: 1.0000 - val_loss: 1.9405 - val_acc: 0.6032\n",
      "Epoch 44/100\n",
      "754/754 [==============================] - 9s 12ms/step - loss: 0.0024 - acc: 1.0000 - val_loss: 1.9570 - val_acc: 0.6032\n",
      "Epoch 45/100\n",
      "754/754 [==============================] - 9s 12ms/step - loss: 0.0023 - acc: 1.0000 - val_loss: 1.9709 - val_acc: 0.5979\n",
      "Epoch 46/100\n",
      "754/754 [==============================] - 9s 12ms/step - loss: 0.0022 - acc: 1.0000 - val_loss: 1.9830 - val_acc: 0.5979\n",
      "Epoch 47/100\n",
      "754/754 [==============================] - 9s 12ms/step - loss: 0.0021 - acc: 1.0000 - val_loss: 1.9939 - val_acc: 0.5979\n",
      "Epoch 48/100\n",
      "754/754 [==============================] - 9s 12ms/step - loss: 0.0020 - acc: 1.0000 - val_loss: 2.0055 - val_acc: 0.5873\n",
      "Epoch 49/100\n",
      "754/754 [==============================] - 10s 13ms/step - loss: 0.0019 - acc: 1.0000 - val_loss: 2.0190 - val_acc: 0.5873\n",
      "Epoch 50/100\n",
      "754/754 [==============================] - 10s 13ms/step - loss: 0.0018 - acc: 1.0000 - val_loss: 2.0338 - val_acc: 0.5979\n",
      "Epoch 51/100\n",
      "754/754 [==============================] - 9s 12ms/step - loss: 0.0018 - acc: 1.0000 - val_loss: 2.0465 - val_acc: 0.5873\n",
      "Epoch 52/100\n",
      "754/754 [==============================] - 9s 12ms/step - loss: 0.0017 - acc: 1.0000 - val_loss: 2.0587 - val_acc: 0.5926\n",
      "Epoch 53/100\n",
      "754/754 [==============================] - 9s 12ms/step - loss: 0.0016 - acc: 1.0000 - val_loss: 2.0694 - val_acc: 0.5979\n",
      "Epoch 54/100\n",
      "754/754 [==============================] - 10s 13ms/step - loss: 0.0015 - acc: 1.0000 - val_loss: 2.0809 - val_acc: 0.5979\n",
      "Epoch 55/100\n",
      "754/754 [==============================] - 10s 13ms/step - loss: 0.0015 - acc: 1.0000 - val_loss: 2.0922 - val_acc: 0.5979\n",
      "Epoch 56/100\n",
      "754/754 [==============================] - 9s 12ms/step - loss: 0.0014 - acc: 1.0000 - val_loss: 2.1019 - val_acc: 0.5979\n",
      "Epoch 57/100\n",
      "754/754 [==============================] - 9s 12ms/step - loss: 0.0014 - acc: 1.0000 - val_loss: 2.1099 - val_acc: 0.5926\n",
      "Epoch 58/100\n",
      "754/754 [==============================] - 9s 12ms/step - loss: 0.0013 - acc: 1.0000 - val_loss: 2.1189 - val_acc: 0.5926\n",
      "Epoch 59/100\n",
      "754/754 [==============================] - 9s 12ms/step - loss: 0.0013 - acc: 1.0000 - val_loss: 2.1297 - val_acc: 0.5926\n",
      "Epoch 60/100\n",
      "754/754 [==============================] - 9s 12ms/step - loss: 0.0012 - acc: 1.0000 - val_loss: 2.1439 - val_acc: 0.5926\n",
      "Epoch 61/100\n"
     ]
    },
    {
     "name": "stdout",
     "output_type": "stream",
     "text": [
      "754/754 [==============================] - 9s 12ms/step - loss: 0.0012 - acc: 1.0000 - val_loss: 2.1558 - val_acc: 0.5873\n",
      "Epoch 62/100\n",
      "754/754 [==============================] - 9s 12ms/step - loss: 0.0012 - acc: 1.0000 - val_loss: 2.1746 - val_acc: 0.5873\n",
      "Epoch 63/100\n",
      "754/754 [==============================] - 9s 12ms/step - loss: 0.0011 - acc: 1.0000 - val_loss: 2.2163 - val_acc: 0.5979\n",
      "Epoch 64/100\n",
      "754/754 [==============================] - 9s 12ms/step - loss: 0.0011 - acc: 1.0000 - val_loss: 2.2426 - val_acc: 0.5979\n",
      "Epoch 65/100\n",
      "754/754 [==============================] - 9s 12ms/step - loss: 0.0011 - acc: 1.0000 - val_loss: 2.2642 - val_acc: 0.5979\n",
      "Epoch 66/100\n",
      "754/754 [==============================] - 9s 12ms/step - loss: 0.0010 - acc: 1.0000 - val_loss: 2.2896 - val_acc: 0.5926\n",
      "Epoch 67/100\n",
      "754/754 [==============================] - 9s 12ms/step - loss: 9.8853e-04 - acc: 1.0000 - val_loss: 2.3125 - val_acc: 0.5926\n",
      "Epoch 68/100\n",
      "754/754 [==============================] - 9s 12ms/step - loss: 9.5948e-04 - acc: 1.0000 - val_loss: 2.3352 - val_acc: 0.5979\n",
      "Epoch 69/100\n",
      "754/754 [==============================] - 9s 12ms/step - loss: 9.3166e-04 - acc: 1.0000 - val_loss: 2.3559 - val_acc: 0.5979\n",
      "Epoch 70/100\n",
      "754/754 [==============================] - 9s 12ms/step - loss: 8.8657e-04 - acc: 1.0000 - val_loss: 2.3748 - val_acc: 0.5979\n",
      "Epoch 71/100\n",
      "754/754 [==============================] - 9s 12ms/step - loss: 8.8023e-04 - acc: 1.0000 - val_loss: 2.4188 - val_acc: 0.5926\n",
      "Epoch 72/100\n",
      "754/754 [==============================] - 9s 12ms/step - loss: 8.4707e-04 - acc: 1.0000 - val_loss: 2.4410 - val_acc: 0.5926\n",
      "Epoch 73/100\n",
      "754/754 [==============================] - 9s 12ms/step - loss: 8.3353e-04 - acc: 1.0000 - val_loss: 2.4599 - val_acc: 0.5926\n",
      "Epoch 74/100\n",
      "754/754 [==============================] - 9s 12ms/step - loss: 8.0258e-04 - acc: 1.0000 - val_loss: 2.4777 - val_acc: 0.5926\n",
      "Epoch 75/100\n",
      "754/754 [==============================] - 9s 12ms/step - loss: 7.8143e-04 - acc: 1.0000 - val_loss: 2.4929 - val_acc: 0.5926\n",
      "Epoch 76/100\n",
      "754/754 [==============================] - 9s 12ms/step - loss: 7.6186e-04 - acc: 1.0000 - val_loss: 2.5022 - val_acc: 0.5926\n",
      "Epoch 77/100\n",
      "754/754 [==============================] - 9s 12ms/step - loss: 7.4286e-04 - acc: 1.0000 - val_loss: 2.5138 - val_acc: 0.5926\n",
      "Epoch 78/100\n",
      "754/754 [==============================] - 9s 12ms/step - loss: 7.2442e-04 - acc: 1.0000 - val_loss: 2.5268 - val_acc: 0.5979\n",
      "Epoch 79/100\n",
      "754/754 [==============================] - 9s 12ms/step - loss: 7.0680e-04 - acc: 1.0000 - val_loss: 2.5382 - val_acc: 0.5979\n",
      "Epoch 80/100\n",
      "754/754 [==============================] - 9s 12ms/step - loss: 6.8212e-04 - acc: 1.0000 - val_loss: 2.5523 - val_acc: 0.5979\n",
      "Epoch 81/100\n",
      "754/754 [==============================] - 9s 12ms/step - loss: 6.6582e-04 - acc: 1.0000 - val_loss: 2.5642 - val_acc: 0.5979\n",
      "Epoch 82/100\n",
      "754/754 [==============================] - 9s 12ms/step - loss: 6.5017e-04 - acc: 1.0000 - val_loss: 2.5742 - val_acc: 0.5979\n",
      "Epoch 83/100\n",
      "754/754 [==============================] - 9s 12ms/step - loss: 6.3518e-04 - acc: 1.0000 - val_loss: 2.5809 - val_acc: 0.5979\n",
      "Epoch 84/100\n",
      "754/754 [==============================] - 9s 12ms/step - loss: 6.1301e-04 - acc: 1.0000 - val_loss: 2.5773 - val_acc: 0.5979\n",
      "Epoch 85/100\n",
      "754/754 [==============================] - 9s 12ms/step - loss: 6.0674e-04 - acc: 1.0000 - val_loss: 2.5727 - val_acc: 0.5979\n",
      "Epoch 86/100\n",
      "754/754 [==============================] - 9s 12ms/step - loss: 5.8603e-04 - acc: 1.0000 - val_loss: 2.5681 - val_acc: 0.6032\n",
      "Epoch 87/100\n",
      "754/754 [==============================] - 9s 12ms/step - loss: 5.7316e-04 - acc: 1.0000 - val_loss: 2.5945 - val_acc: 0.6032\n",
      "Epoch 88/100\n",
      "754/754 [==============================] - 9s 12ms/step - loss: 5.5390e-04 - acc: 1.0000 - val_loss: 2.6027 - val_acc: 0.5979\n",
      "Epoch 89/100\n",
      "754/754 [==============================] - 9s 12ms/step - loss: 5.4171e-04 - acc: 1.0000 - val_loss: 2.6122 - val_acc: 0.5979\n",
      "Epoch 90/100\n",
      "754/754 [==============================] - 9s 12ms/step - loss: 5.3023e-04 - acc: 1.0000 - val_loss: 2.6227 - val_acc: 0.5979\n",
      "Epoch 91/100\n",
      "754/754 [==============================] - 9s 12ms/step - loss: 5.1915e-04 - acc: 1.0000 - val_loss: 2.6328 - val_acc: 0.5979\n",
      "Epoch 92/100\n",
      "754/754 [==============================] - 9s 12ms/step - loss: 5.0838e-04 - acc: 1.0000 - val_loss: 2.6466 - val_acc: 0.5979\n",
      "Epoch 93/100\n",
      "754/754 [==============================] - 9s 12ms/step - loss: 4.9792e-04 - acc: 1.0000 - val_loss: 2.6526 - val_acc: 0.5926\n",
      "Epoch 94/100\n",
      "754/754 [==============================] - 9s 12ms/step - loss: 4.8773e-04 - acc: 1.0000 - val_loss: 2.6666 - val_acc: 0.5926\n",
      "Epoch 95/100\n",
      "754/754 [==============================] - 9s 12ms/step - loss: 4.7791e-04 - acc: 1.0000 - val_loss: 2.6805 - val_acc: 0.5926\n",
      "Epoch 96/100\n",
      "754/754 [==============================] - 9s 12ms/step - loss: 4.6171e-04 - acc: 1.0000 - val_loss: 2.6925 - val_acc: 0.5926\n",
      "Epoch 97/100\n",
      "754/754 [==============================] - 9s 12ms/step - loss: 4.5254e-04 - acc: 1.0000 - val_loss: 2.7028 - val_acc: 0.5873\n",
      "Epoch 98/100\n",
      "754/754 [==============================] - 9s 12ms/step - loss: 4.4369e-04 - acc: 1.0000 - val_loss: 2.7128 - val_acc: 0.5873\n",
      "Epoch 99/100\n",
      "754/754 [==============================] - 9s 12ms/step - loss: 4.2875e-04 - acc: 1.0000 - val_loss: 2.7231 - val_acc: 0.5873\n",
      "Epoch 100/100\n",
      "754/754 [==============================] - 9s 12ms/step - loss: 4.2678e-04 - acc: 1.0000 - val_loss: 2.7330 - val_acc: 0.5873\n"
     ]
    }
   ],
   "source": [
    "model=Sequential()\n",
    "model.add(Embedding(vocab_size,32))\n",
    "model.add(Bidirectional(LSTM(32, return_sequences = True)))\n",
    "model.add(Bidirectional(LSTM(10)))\n",
    "model.add(Dense(3,activation='softmax'))\n",
    "model.compile(optimizer='adam',loss='categorical_crossentropy',metrics=['acc'])\n",
    "history=model.fit(X_train,Y_train,epochs=100,batch_size=32,validation_split=0.2)"
   ]
  },
  {
   "cell_type": "code",
   "execution_count": 65,
   "metadata": {
    "scrolled": false
   },
   "outputs": [
    {
     "name": "stdout",
     "output_type": "stream",
     "text": [
      "157/157 [==============================] - 0s 3ms/step\n",
      "\n",
      " 테스트 정확도: 0.6369\n"
     ]
    }
   ],
   "source": [
    "print('\\n 테스트 정확도: %.4f'%(model.evaluate(X_test,Y_test)[1]))"
   ]
  },
  {
   "cell_type": "code",
   "execution_count": 66,
   "metadata": {},
   "outputs": [
    {
     "data": {
      "image/png": "[encoded data removed]",
      "text/plain": [
       "<Figure size 432x288 with 1 Axes>"
      ]
     },
     "metadata": {
      "needs_background": "light"
     },
     "output_type": "display_data"
    }
   ],
   "source": [
    "import matplotlib.pyplot as plt\n",
    "epochs=range(1,len(history.history['acc'])+1)\n",
    "plt.plot(epochs,history.history['loss'])\n",
    "plt.plot(epochs,history.history['val_loss'])\n",
    "plt.title('model loss')\n",
    "plt.ylabel('loss')\n",
    "plt.xlabel('epoch')\n",
    "plt.legend(['train','val'],loc='upper left')\n",
    "plt.show()"
   ]
  },
  {
   "cell_type": "code",
   "execution_count": null,
   "metadata": {},
   "outputs": [],
   "source": []
  }
 ],
 "metadata": {
  "kernelspec": {
   "display_name": "Python 3",
   "language": "python",
   "name": "python3"
  },
  "language_info": {
   "codemirror_mode": {
    "name": "ipython",
    "version": 3
   },
   "file_extension": ".py",
   "mimetype": "text/x-python",
   "name": "python",
   "nbconvert_exporter": "python",
   "pygments_lexer": "ipython3",
   "version": "3.6.8"
  }
 },
 "nbformat": 4,
 "nbformat_minor": 4
}
