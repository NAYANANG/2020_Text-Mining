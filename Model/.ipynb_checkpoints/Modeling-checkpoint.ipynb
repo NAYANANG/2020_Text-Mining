{
 "cells": [
  {
   "cell_type": "code",
   "execution_count": 1,
   "metadata": {},
   "outputs": [
    {
     "name": "stderr",
     "output_type": "stream",
     "text": [
      "/usr/local/lib/python3.6/dist-packages/tensorflow/python/framework/dtypes.py:523: FutureWarning: Passing (type, 1) or '1type' as a synonym of type is deprecated; in a future version of numpy, it will be understood as (type, (1,)) / '(1,)type'.\n",
      "  _np_qint8 = np.dtype([(\"qint8\", np.int8, 1)])\n",
      "/usr/local/lib/python3.6/dist-packages/tensorflow/python/framework/dtypes.py:524: FutureWarning: Passing (type, 1) or '1type' as a synonym of type is deprecated; in a future version of numpy, it will be understood as (type, (1,)) / '(1,)type'.\n",
      "  _np_quint8 = np.dtype([(\"quint8\", np.uint8, 1)])\n",
      "/usr/local/lib/python3.6/dist-packages/tensorflow/python/framework/dtypes.py:525: FutureWarning: Passing (type, 1) or '1type' as a synonym of type is deprecated; in a future version of numpy, it will be understood as (type, (1,)) / '(1,)type'.\n",
      "  _np_qint16 = np.dtype([(\"qint16\", np.int16, 1)])\n",
      "/usr/local/lib/python3.6/dist-packages/tensorflow/python/framework/dtypes.py:526: FutureWarning: Passing (type, 1) or '1type' as a synonym of type is deprecated; in a future version of numpy, it will be understood as (type, (1,)) / '(1,)type'.\n",
      "  _np_quint16 = np.dtype([(\"quint16\", np.uint16, 1)])\n",
      "/usr/local/lib/python3.6/dist-packages/tensorflow/python/framework/dtypes.py:527: FutureWarning: Passing (type, 1) or '1type' as a synonym of type is deprecated; in a future version of numpy, it will be understood as (type, (1,)) / '(1,)type'.\n",
      "  _np_qint32 = np.dtype([(\"qint32\", np.int32, 1)])\n",
      "/usr/local/lib/python3.6/dist-packages/tensorflow/python/framework/dtypes.py:532: FutureWarning: Passing (type, 1) or '1type' as a synonym of type is deprecated; in a future version of numpy, it will be understood as (type, (1,)) / '(1,)type'.\n",
      "  np_resource = np.dtype([(\"resource\", np.ubyte, 1)])\n",
      "Using TensorFlow backend.\n"
     ]
    }
   ],
   "source": [
    "from tensorflow.keras.layers import SimpleRNN,Embedding,Dense,LSTM,Bidirectional\n",
    "from tensorflow.keras.models import Sequential\n",
    "from keras import optimizers\n",
    "import keras"
   ]
  },
  {
   "cell_type": "code",
   "execution_count": 2,
   "metadata": {},
   "outputs": [],
   "source": [
    "vocab_size=14031\n",
    "#단어 집합의 크기: 14031"
   ]
  },
  {
   "cell_type": "code",
   "execution_count": 3,
   "metadata": {},
   "outputs": [],
   "source": [
    "import numpy as np\n",
    "import pandas as pd\n",
    "x_data=np.load('../Data_Ready/data/X_data.npy')\n",
    "y_data=pd.read_csv('../Data_Ready/data/y_data.csv')"
   ]
  },
  {
   "cell_type": "code",
   "execution_count": 4,
   "metadata": {},
   "outputs": [],
   "source": [
    "y_data=np.asarray(y_data)\n",
    "#원핫 인코딩\n",
    "from keras.utils import to_categorical\n",
    "y_data=to_categorical(y_data)"
   ]
  },
  {
   "cell_type": "code",
   "execution_count": 5,
   "metadata": {},
   "outputs": [],
   "source": [
    "from sklearn.model_selection import KFold\n",
    "#cross-validation\n",
    "kf=KFold(7)\n",
    "for train_index,test_index in kf.split(x_data):\n",
    "    X_train,X_test=x_data[train_index],x_data[test_index]\n",
    "    Y_train,Y_test=y_data[train_index],y_data[test_index]"
   ]
  },
  {
   "cell_type": "code",
   "execution_count": 7,
   "metadata": {},
   "outputs": [
    {
     "name": "stdout",
     "output_type": "stream",
     "text": [
      "943\n",
      "943\n",
      "157\n",
      "157\n"
     ]
    }
   ],
   "source": [
    "print(len(X_train))\n",
    "print(len(Y_train))\n",
    "print(len(X_test))\n",
    "print(len(Y_test))"
   ]
  },
  {
   "cell_type": "code",
   "execution_count": 6,
   "metadata": {},
   "outputs": [
    {
     "name": "stderr",
     "output_type": "stream",
     "text": [
      "/usr/local/lib/python3.6/dist-packages/tensorflow/python/ops/gradients_impl.py:112: UserWarning: Converting sparse IndexedSlices to a dense Tensor of unknown shape. This may consume a large amount of memory.\n",
      "  \"Converting sparse IndexedSlices to a dense Tensor of unknown shape. \"\n"
     ]
    },
    {
     "name": "stdout",
     "output_type": "stream",
     "text": [
      "Train on 754 samples, validate on 189 samples\n",
      "Epoch 1/20\n",
      "754/754 [==============================] - 5s 7ms/step - loss: 1.0810 - acc: 0.4257 - val_loss: 1.4129 - val_acc: 0.3757\n",
      "Epoch 2/20\n",
      "754/754 [==============================] - 5s 6ms/step - loss: 0.9451 - acc: 0.5902 - val_loss: 0.9100 - val_acc: 0.5714\n",
      "Epoch 3/20\n",
      "754/754 [==============================] - 5s 6ms/step - loss: 0.7561 - acc: 0.6419 - val_loss: 0.8904 - val_acc: 0.6032\n",
      "Epoch 4/20\n",
      "754/754 [==============================] - 5s 6ms/step - loss: 0.6233 - acc: 0.7666 - val_loss: 0.8675 - val_acc: 0.6190\n",
      "Epoch 5/20\n",
      "754/754 [==============================] - 5s 6ms/step - loss: 0.4814 - acc: 0.8395 - val_loss: 0.9952 - val_acc: 0.5344\n",
      "Epoch 6/20\n",
      "754/754 [==============================] - 5s 6ms/step - loss: 0.4034 - acc: 0.8846 - val_loss: 0.9900 - val_acc: 0.6085\n",
      "Epoch 7/20\n",
      "754/754 [==============================] - 5s 6ms/step - loss: 0.2880 - acc: 0.9443 - val_loss: 1.0314 - val_acc: 0.6667\n",
      "Epoch 8/20\n",
      "754/754 [==============================] - 5s 6ms/step - loss: 0.2304 - acc: 0.9483 - val_loss: 1.0185 - val_acc: 0.5820\n",
      "Epoch 9/20\n",
      "754/754 [==============================] - 5s 6ms/step - loss: 0.1950 - acc: 0.9589 - val_loss: 1.1187 - val_acc: 0.5503\n",
      "Epoch 10/20\n",
      "754/754 [==============================] - 5s 6ms/step - loss: 0.1371 - acc: 0.9761 - val_loss: 1.2617 - val_acc: 0.6243\n",
      "Epoch 11/20\n",
      "754/754 [==============================] - 5s 6ms/step - loss: 0.1056 - acc: 0.9814 - val_loss: 1.3452 - val_acc: 0.5608\n",
      "Epoch 12/20\n",
      "754/754 [==============================] - 5s 6ms/step - loss: 0.0996 - acc: 0.9801 - val_loss: 1.4148 - val_acc: 0.5926\n",
      "Epoch 13/20\n",
      "754/754 [==============================] - 5s 6ms/step - loss: 0.1158 - acc: 0.9682 - val_loss: 1.3228 - val_acc: 0.5926\n",
      "Epoch 14/20\n",
      "754/754 [==============================] - 5s 6ms/step - loss: 0.0496 - acc: 0.9920 - val_loss: 1.4720 - val_acc: 0.6296\n",
      "Epoch 15/20\n",
      "754/754 [==============================] - 5s 6ms/step - loss: 0.0501 - acc: 0.9894 - val_loss: 1.4883 - val_acc: 0.5767\n",
      "Epoch 16/20\n",
      "754/754 [==============================] - 5s 6ms/step - loss: 0.0372 - acc: 0.9947 - val_loss: 1.5755 - val_acc: 0.6243\n",
      "Epoch 17/20\n",
      "754/754 [==============================] - 5s 6ms/step - loss: 0.1042 - acc: 0.9748 - val_loss: 1.5843 - val_acc: 0.6243\n",
      "Epoch 18/20\n",
      "754/754 [==============================] - 5s 6ms/step - loss: 0.0359 - acc: 0.9881 - val_loss: 1.6269 - val_acc: 0.6243\n",
      "Epoch 19/20\n",
      "754/754 [==============================] - 5s 6ms/step - loss: 0.0300 - acc: 0.9934 - val_loss: 1.6718 - val_acc: 0.5873\n",
      "Epoch 20/20\n",
      "754/754 [==============================] - 5s 6ms/step - loss: 0.0213 - acc: 0.9960 - val_loss: 1.7242 - val_acc: 0.6243\n"
     ]
    }
   ],
   "source": [
    "model=Sequential()\n",
    "#Embedding 처리\n",
    "model.add(Embedding(vocab_size,32))\n",
    "#양방향 LSTM 적용\n",
    "model.add(Bidirectional(LSTM(32)))\n",
    "model.add(Dense(3,activation='softmax'))\n",
    "#옵티마이저 rmsprop, 손실함수 categorical_crossentropy\n",
    "model.compile(optimizer='rmsprop',loss='categorical_crossentropy',metrics=['acc'])\n",
    "history=model.fit(X_train,Y_train,epochs=10,batch_size=32,validation_split=0.2)"
   ]
  },
  {
   "cell_type": "code",
   "execution_count": 7,
   "metadata": {},
   "outputs": [
    {
     "name": "stdout",
     "output_type": "stream",
     "text": [
      "157/157 [==============================] - 0s 1ms/step\n",
      "\n",
      " 테스트 정확도: 0.6561\n"
     ]
    }
   ],
   "source": [
    "print('\\n 테스트 정확도: %.4f'%(model.evaluate(X_test,Y_test)[1]))"
   ]
  },
  {
   "cell_type": "code",
   "execution_count": 8,
   "metadata": {},
   "outputs": [],
   "source": [
    "pred_lstm=model.predict(Y_test)"
   ]
  },
  {
   "cell_type": "code",
   "execution_count": 10,
   "metadata": {},
   "outputs": [
    {
     "data": {
      "image/png": "[encoded data removed]",
      "text/plain": [
       "<Figure size 432x288 with 1 Axes>"
      ]
     },
     "metadata": {
      "needs_background": "light"
     },
     "output_type": "display_data"
    }
   ],
   "source": [
    "import matplotlib.pyplot as plt\n",
    "epochs=range(1,len(history.history['acc'])+1)\n",
    "plt.plot(epochs,history.history['loss'])\n",
    "plt.plot(epochs,history.history['val_loss'])\n",
    "plt.title('model loss')\n",
    "plt.ylabel('loss')\n",
    "plt.xlabel('epoch')\n",
    "plt.legend(['train','val'],loc='upper left')\n",
    "plt.show()"
   ]
  },
  {
   "cell_type": "code",
   "execution_count": 71,
   "metadata": {},
   "outputs": [],
   "source": [
    "#callbacks 적용\n",
    "callbackslist=[\n",
    "    keras.callbacks.EarlyStopping(\n",
    "    monitor='val_acc',\n",
    "    patience=1),\n",
    "    \n",
    "    keras.callbacks.ModelCheckpoint(\n",
    "    filepath='./model',\n",
    "    monitor='val_loss',\n",
    "    save_best_only=True)\n",
    "]"
   ]
  },
  {
   "cell_type": "code",
   "execution_count": 72,
   "metadata": {
    "scrolled": true
   },
   "outputs": [
    {
     "name": "stderr",
     "output_type": "stream",
     "text": [
      "/usr/local/lib/python3.6/dist-packages/tensorflow/python/ops/gradients_impl.py:112: UserWarning: Converting sparse IndexedSlices to a dense Tensor of unknown shape. This may consume a large amount of memory.\n",
      "  \"Converting sparse IndexedSlices to a dense Tensor of unknown shape. \"\n"
     ]
    },
    {
     "name": "stdout",
     "output_type": "stream",
     "text": [
      "Train on 754 samples, validate on 189 samples\n",
      "Epoch 1/10\n",
      "754/754 [==============================] - 9s 11ms/step - loss: 1.0857 - acc: 0.4257 - val_loss: 1.0570 - val_acc: 0.3704\n",
      "Epoch 2/10\n",
      "754/754 [==============================] - 5s 6ms/step - loss: 0.9910 - acc: 0.4934 - val_loss: 0.9957 - val_acc: 0.5820\n",
      "Epoch 3/10\n",
      "754/754 [==============================] - 5s 6ms/step - loss: 0.8265 - acc: 0.6870 - val_loss: 0.9409 - val_acc: 0.6190\n",
      "Epoch 4/10\n",
      "754/754 [==============================] - 5s 6ms/step - loss: 0.6923 - acc: 0.7162 - val_loss: 0.9255 - val_acc: 0.5820\n"
     ]
    }
   ],
   "source": [
    "model=Sequential()\n",
    "model.add(Embedding(vocab_size,32))\n",
    "model.add(Bidirectional(LSTM(32)))\n",
    "model.add(Dense(3,activation='softmax'))\n",
    "model.compile(optimizer='rmsprop',loss='categorical_crossentropy',metrics=['acc'])\n",
    "#콜백 적용\n",
    "history=model.fit(X_train,Y_train,epochs=10,batch_size=32,validation_split=0.2,callbacks=callbackslist)"
   ]
  },
  {
   "cell_type": "code",
   "execution_count": 73,
   "metadata": {},
   "outputs": [],
   "source": [
    "pred_callbacks=model.predict(Y_test)"
   ]
  },
  {
   "cell_type": "code",
   "execution_count": 74,
   "metadata": {
    "scrolled": false
   },
   "outputs": [
    {
     "name": "stdout",
     "output_type": "stream",
     "text": [
      "157/157 [==============================] - 0s 1ms/step\n",
      "\n",
      " 테스트 정확도: 0.5541\n"
     ]
    }
   ],
   "source": [
    "print('\\n 테스트 정확도: %.4f'%(model.evaluate(X_test,Y_test)[1]))"
   ]
  },
  {
   "cell_type": "code",
   "execution_count": 75,
   "metadata": {
    "scrolled": true
   },
   "outputs": [
    {
     "data": {
      "image/png": "[encoded data removed]",
      "text/plain": [
       "<Figure size 432x288 with 1 Axes>"
      ]
     },
     "metadata": {
      "needs_background": "light"
     },
     "output_type": "display_data"
    }
   ],
   "source": [
    "import matplotlib.pyplot as plt\n",
    "\n",
    "epochs=range(1,len(history.history['acc'])+1)\n",
    "plt.plot(epochs,history.history['loss'])\n",
    "plt.plot(epochs,history.history['val_loss'])\n",
    "plt.title('model loss')\n",
    "plt.ylabel('loss')\n",
    "plt.xlabel('epoch')\n",
    "plt.legend(['train','val'],loc='upper left')\n",
    "plt.show()"
   ]
  },
  {
   "cell_type": "code",
   "execution_count": null,
   "metadata": {},
   "outputs": [],
   "source": []
  }
 ],
 "metadata": {
  "kernelspec": {
   "display_name": "Python 3",
   "language": "python",
   "name": "python3"
  },
  "language_info": {
   "codemirror_mode": {
    "name": "ipython",
    "version": 3
   },
   "file_extension": ".py",
   "mimetype": "text/x-python",
   "name": "python",
   "nbconvert_exporter": "python",
   "pygments_lexer": "ipython3",
   "version": "3.6.8"
  }
 },
 "nbformat": 4,
 "nbformat_minor": 4
}
