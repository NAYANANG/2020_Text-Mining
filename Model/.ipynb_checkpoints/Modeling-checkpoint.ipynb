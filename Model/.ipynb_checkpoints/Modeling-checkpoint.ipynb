{
 "cells": [
  {
   "cell_type": "code",
   "execution_count": 1,
   "metadata": {},
   "outputs": [
    {
     "name": "stderr",
     "output_type": "stream",
     "text": [
      "/usr/local/lib/python3.6/dist-packages/tensorflow/python/framework/dtypes.py:523: FutureWarning: Passing (type, 1) or '1type' as a synonym of type is deprecated; in a future version of numpy, it will be understood as (type, (1,)) / '(1,)type'.\n",
      "  _np_qint8 = np.dtype([(\"qint8\", np.int8, 1)])\n",
      "/usr/local/lib/python3.6/dist-packages/tensorflow/python/framework/dtypes.py:524: FutureWarning: Passing (type, 1) or '1type' as a synonym of type is deprecated; in a future version of numpy, it will be understood as (type, (1,)) / '(1,)type'.\n",
      "  _np_quint8 = np.dtype([(\"quint8\", np.uint8, 1)])\n",
      "/usr/local/lib/python3.6/dist-packages/tensorflow/python/framework/dtypes.py:525: FutureWarning: Passing (type, 1) or '1type' as a synonym of type is deprecated; in a future version of numpy, it will be understood as (type, (1,)) / '(1,)type'.\n",
      "  _np_qint16 = np.dtype([(\"qint16\", np.int16, 1)])\n",
      "/usr/local/lib/python3.6/dist-packages/tensorflow/python/framework/dtypes.py:526: FutureWarning: Passing (type, 1) or '1type' as a synonym of type is deprecated; in a future version of numpy, it will be understood as (type, (1,)) / '(1,)type'.\n",
      "  _np_quint16 = np.dtype([(\"quint16\", np.uint16, 1)])\n",
      "/usr/local/lib/python3.6/dist-packages/tensorflow/python/framework/dtypes.py:527: FutureWarning: Passing (type, 1) or '1type' as a synonym of type is deprecated; in a future version of numpy, it will be understood as (type, (1,)) / '(1,)type'.\n",
      "  _np_qint32 = np.dtype([(\"qint32\", np.int32, 1)])\n",
      "/usr/local/lib/python3.6/dist-packages/tensorflow/python/framework/dtypes.py:532: FutureWarning: Passing (type, 1) or '1type' as a synonym of type is deprecated; in a future version of numpy, it will be understood as (type, (1,)) / '(1,)type'.\n",
      "  np_resource = np.dtype([(\"resource\", np.ubyte, 1)])\n"
     ]
    }
   ],
   "source": [
    "from tensorflow.keras.layers import SimpleRNN,Embedding,Dense,LSTM\n",
    "from tensorflow.keras.models import Sequential"
   ]
  },
  {
   "cell_type": "code",
   "execution_count": 2,
   "metadata": {},
   "outputs": [],
   "source": [
    "vocab_size=14031\n",
    "#단어 집합의 크기: 14031"
   ]
  },
  {
   "cell_type": "code",
   "execution_count": 3,
   "metadata": {},
   "outputs": [],
   "source": [
    "import numpy as np\n",
    "import pandas as pd\n",
    "x_data=np.load('../Data_Ready/data/X_data.npy')\n",
    "y_data=pd.read_csv('../Data_Ready/data/y_data.csv')"
   ]
  },
  {
   "cell_type": "code",
   "execution_count": 4,
   "metadata": {},
   "outputs": [
    {
     "name": "stderr",
     "output_type": "stream",
     "text": [
      "Using TensorFlow backend.\n"
     ]
    }
   ],
   "source": [
    "y_data=np.asarray(y_data)\n",
    "from keras.utils import to_categorical\n",
    "y_data=to_categorical(y_data)"
   ]
  },
  {
   "cell_type": "code",
   "execution_count": 5,
   "metadata": {},
   "outputs": [],
   "source": [
    "from sklearn.model_selection import KFold\n",
    "\n",
    "kf=KFold(7)\n",
    "for train_index,test_index in kf.split(x_data):\n",
    "    X_train,X_test=x_data[train_index],x_data[test_index]\n",
    "    Y_train,Y_test=y_data[train_index],y_data[test_index]"
   ]
  },
  {
   "cell_type": "code",
   "execution_count": 6,
   "metadata": {},
   "outputs": [],
   "source": [
    "# train_c=int(len(x_data)*0.8)\n",
    "# test_c=int(len(x_data)-train_c)\n",
    "# print('훈련데이터 개수 :',train_c)\n",
    "# print('테스트 데이터 개수 :',test_c)\n",
    "# X_train=x_data[:train_c]\n",
    "# Y_train=y_data[:train_c]\n",
    "# X_test=x_data[train_c:]\n",
    "# Y_test=y_data[train_c:]"
   ]
  },
  {
   "cell_type": "code",
   "execution_count": 7,
   "metadata": {},
   "outputs": [
    {
     "name": "stdout",
     "output_type": "stream",
     "text": [
      "943\n",
      "943\n",
      "157\n",
      "157\n"
     ]
    }
   ],
   "source": [
    "print(len(X_train))\n",
    "print(len(Y_train))\n",
    "print(len(X_test))\n",
    "print(len(Y_test))"
   ]
  },
  {
   "cell_type": "code",
   "execution_count": 8,
   "metadata": {},
   "outputs": [
    {
     "data": {
      "text/plain": [
       "array([[0., 0., 1.],\n",
       "       [1., 0., 0.],\n",
       "       [0., 0., 1.],\n",
       "       ...,\n",
       "       [0., 1., 0.],\n",
       "       [0., 0., 1.],\n",
       "       [0., 0., 1.]], dtype=float32)"
      ]
     },
     "execution_count": 8,
     "metadata": {},
     "output_type": "execute_result"
    }
   ],
   "source": [
    "Y_train"
   ]
  },
  {
   "cell_type": "code",
   "execution_count": 21,
   "metadata": {},
   "outputs": [
    {
     "name": "stdout",
     "output_type": "stream",
     "text": [
      "Train on 660 samples, validate on 283 samples\n",
      "Epoch 1/50\n",
      "660/660 [==============================] - 5s 7ms/step - loss: 1.0879 - acc: 0.4455 - val_loss: 1.0661 - val_acc: 0.5618\n",
      "Epoch 2/50\n",
      "660/660 [==============================] - 4s 6ms/step - loss: 0.9383 - acc: 0.6136 - val_loss: 0.9097 - val_acc: 0.6042\n",
      "Epoch 3/50\n",
      "660/660 [==============================] - 4s 6ms/step - loss: 0.6590 - acc: 0.6848 - val_loss: 0.8371 - val_acc: 0.6360\n",
      "Epoch 4/50\n",
      "660/660 [==============================] - 4s 6ms/step - loss: 0.4274 - acc: 0.7848 - val_loss: 0.8968 - val_acc: 0.6078\n",
      "Epoch 5/50\n",
      "660/660 [==============================] - 4s 6ms/step - loss: 0.2589 - acc: 0.9379 - val_loss: 0.9723 - val_acc: 0.5795\n",
      "Epoch 6/50\n",
      "660/660 [==============================] - 4s 6ms/step - loss: 0.1260 - acc: 0.9758 - val_loss: 1.0455 - val_acc: 0.5088\n",
      "Epoch 7/50\n",
      "660/660 [==============================] - 4s 6ms/step - loss: 0.0619 - acc: 0.9924 - val_loss: 1.2021 - val_acc: 0.5477\n",
      "Epoch 8/50\n",
      "660/660 [==============================] - 4s 6ms/step - loss: 0.0315 - acc: 0.9909 - val_loss: 1.2181 - val_acc: 0.5724\n",
      "Epoch 9/50\n",
      "660/660 [==============================] - 4s 6ms/step - loss: 0.0146 - acc: 0.9970 - val_loss: 1.4730 - val_acc: 0.5689\n",
      "Epoch 10/50\n",
      "660/660 [==============================] - 4s 6ms/step - loss: 0.0092 - acc: 0.9970 - val_loss: 1.2937 - val_acc: 0.5548\n",
      "Epoch 11/50\n",
      "660/660 [==============================] - 4s 6ms/step - loss: 0.0209 - acc: 0.9970 - val_loss: 1.3781 - val_acc: 0.6148\n",
      "Epoch 12/50\n",
      "660/660 [==============================] - 4s 6ms/step - loss: 0.0129 - acc: 0.9970 - val_loss: 1.2659 - val_acc: 0.5936\n",
      "Epoch 13/50\n",
      "660/660 [==============================] - 4s 6ms/step - loss: 0.0171 - acc: 0.9955 - val_loss: 1.1848 - val_acc: 0.5795\n",
      "Epoch 14/50\n",
      "660/660 [==============================] - 4s 6ms/step - loss: 0.0085 - acc: 0.9985 - val_loss: 1.5862 - val_acc: 0.5548\n",
      "Epoch 15/50\n",
      "660/660 [==============================] - 4s 6ms/step - loss: 0.0109 - acc: 0.9970 - val_loss: 1.2812 - val_acc: 0.5795\n",
      "Epoch 16/50\n",
      "660/660 [==============================] - 4s 6ms/step - loss: 0.0069 - acc: 0.9985 - val_loss: 1.3977 - val_acc: 0.5724\n",
      "Epoch 17/50\n",
      "660/660 [==============================] - 4s 6ms/step - loss: 0.0047 - acc: 1.0000 - val_loss: 1.4566 - val_acc: 0.5760\n",
      "Epoch 18/50\n",
      "660/660 [==============================] - 4s 6ms/step - loss: 0.0075 - acc: 0.9970 - val_loss: 1.3319 - val_acc: 0.6042\n",
      "Epoch 19/50\n",
      "660/660 [==============================] - 4s 6ms/step - loss: 0.0058 - acc: 0.9985 - val_loss: 1.3722 - val_acc: 0.5866\n",
      "Epoch 20/50\n",
      "660/660 [==============================] - 4s 6ms/step - loss: 0.0024 - acc: 1.0000 - val_loss: 1.4881 - val_acc: 0.5795\n",
      "Epoch 21/50\n",
      "660/660 [==============================] - 4s 6ms/step - loss: 0.0017 - acc: 1.0000 - val_loss: 1.5785 - val_acc: 0.5901\n",
      "Epoch 22/50\n",
      "660/660 [==============================] - 4s 6ms/step - loss: 0.0015 - acc: 1.0000 - val_loss: 1.6194 - val_acc: 0.5689\n",
      "Epoch 23/50\n",
      "660/660 [==============================] - 4s 6ms/step - loss: 0.0015 - acc: 1.0000 - val_loss: 1.6401 - val_acc: 0.5866\n",
      "Epoch 24/50\n",
      "660/660 [==============================] - 4s 6ms/step - loss: 0.0020 - acc: 1.0000 - val_loss: 1.6852 - val_acc: 0.5583\n",
      "Epoch 25/50\n",
      "660/660 [==============================] - 4s 6ms/step - loss: 8.9217e-04 - acc: 1.0000 - val_loss: 1.6762 - val_acc: 0.6007\n",
      "Epoch 26/50\n",
      "660/660 [==============================] - 4s 6ms/step - loss: 0.0023 - acc: 0.9985 - val_loss: 1.6648 - val_acc: 0.5901\n",
      "Epoch 27/50\n",
      "660/660 [==============================] - 4s 6ms/step - loss: 0.0013 - acc: 1.0000 - val_loss: 1.6776 - val_acc: 0.5795\n",
      "Epoch 28/50\n",
      "660/660 [==============================] - 4s 6ms/step - loss: 0.0019 - acc: 0.9985 - val_loss: 1.7063 - val_acc: 0.5760\n",
      "Epoch 29/50\n",
      "660/660 [==============================] - 4s 6ms/step - loss: 0.0045 - acc: 0.9985 - val_loss: 1.6334 - val_acc: 0.6042\n",
      "Epoch 30/50\n",
      "660/660 [==============================] - 4s 6ms/step - loss: 0.0016 - acc: 1.0000 - val_loss: 1.7059 - val_acc: 0.6113\n",
      "Epoch 31/50\n",
      "660/660 [==============================] - 4s 6ms/step - loss: 9.3436e-04 - acc: 1.0000 - val_loss: 1.8093 - val_acc: 0.6042\n",
      "Epoch 32/50\n",
      "660/660 [==============================] - 4s 6ms/step - loss: 6.1300e-04 - acc: 1.0000 - val_loss: 1.7814 - val_acc: 0.6113\n",
      "Epoch 33/50\n",
      "660/660 [==============================] - 4s 6ms/step - loss: 4.7066e-04 - acc: 1.0000 - val_loss: 1.8627 - val_acc: 0.6113\n",
      "Epoch 34/50\n",
      "660/660 [==============================] - 4s 6ms/step - loss: 3.6068e-04 - acc: 1.0000 - val_loss: 1.9213 - val_acc: 0.5936\n",
      "Epoch 35/50\n",
      "660/660 [==============================] - 4s 6ms/step - loss: 3.0625e-04 - acc: 1.0000 - val_loss: 1.9668 - val_acc: 0.5936\n",
      "Epoch 36/50\n",
      "660/660 [==============================] - 4s 6ms/step - loss: 2.7125e-04 - acc: 1.0000 - val_loss: 2.0389 - val_acc: 0.5901\n",
      "Epoch 37/50\n",
      "660/660 [==============================] - 4s 6ms/step - loss: 2.4791e-04 - acc: 1.0000 - val_loss: 2.0648 - val_acc: 0.5972\n",
      "Epoch 38/50\n",
      "660/660 [==============================] - 4s 6ms/step - loss: 2.2728e-04 - acc: 1.0000 - val_loss: 2.0951 - val_acc: 0.5901\n",
      "Epoch 39/50\n",
      "660/660 [==============================] - 4s 6ms/step - loss: 2.1379e-04 - acc: 1.0000 - val_loss: 2.1141 - val_acc: 0.5936\n",
      "Epoch 40/50\n",
      "660/660 [==============================] - 4s 6ms/step - loss: 2.0059e-04 - acc: 1.0000 - val_loss: 2.1189 - val_acc: 0.5972\n",
      "Epoch 41/50\n",
      "660/660 [==============================] - 4s 6ms/step - loss: 1.9014e-04 - acc: 1.0000 - val_loss: 2.1509 - val_acc: 0.5972\n",
      "Epoch 42/50\n",
      "660/660 [==============================] - 4s 6ms/step - loss: 1.8009e-04 - acc: 1.0000 - val_loss: 2.1712 - val_acc: 0.5972\n",
      "Epoch 43/50\n",
      "660/660 [==============================] - 4s 6ms/step - loss: 1.7145e-04 - acc: 1.0000 - val_loss: 2.2000 - val_acc: 0.6007\n",
      "Epoch 44/50\n",
      "660/660 [==============================] - 4s 6ms/step - loss: 1.6135e-04 - acc: 1.0000 - val_loss: 2.2214 - val_acc: 0.6042\n",
      "Epoch 45/50\n",
      "660/660 [==============================] - 4s 6ms/step - loss: 1.5383e-04 - acc: 1.0000 - val_loss: 2.2433 - val_acc: 0.6078\n",
      "Epoch 46/50\n",
      "660/660 [==============================] - 4s 6ms/step - loss: 1.4609e-04 - acc: 1.0000 - val_loss: 2.2480 - val_acc: 0.6078\n",
      "Epoch 47/50\n",
      "660/660 [==============================] - 4s 6ms/step - loss: 1.4011e-04 - acc: 1.0000 - val_loss: 2.2698 - val_acc: 0.6042\n",
      "Epoch 48/50\n",
      "660/660 [==============================] - 4s 6ms/step - loss: 1.3401e-04 - acc: 1.0000 - val_loss: 2.2963 - val_acc: 0.6078\n",
      "Epoch 49/50\n",
      "660/660 [==============================] - 4s 6ms/step - loss: 1.2852e-04 - acc: 1.0000 - val_loss: 2.3106 - val_acc: 0.6042\n",
      "Epoch 50/50\n",
      "660/660 [==============================] - 4s 6ms/step - loss: 1.2295e-04 - acc: 1.0000 - val_loss: 2.3220 - val_acc: 0.6042\n"
     ]
    }
   ],
   "source": [
    "model=Sequential()\n",
    "model.add(Embedding(vocab_size,64))\n",
    "model.add(LSTM(64))\n",
    "model.add(Dense(3,activation='softmax'))\n",
    "\n",
    "model.compile(optimizer='adam',loss='categorical_crossentropy',metrics=['acc'])\n",
    "history=model.fit(X_train,Y_train,epochs=50,batch_size=32,validation_split=0.2)"
   ]
  },
  {
   "cell_type": "code",
   "execution_count": 22,
   "metadata": {
    "scrolled": true
   },
   "outputs": [
    {
     "name": "stdout",
     "output_type": "stream",
     "text": [
      "157/157 [==============================] - 0s 1ms/step\n",
      "\n",
      " 테스트 정확도: 0.6178\n"
     ]
    }
   ],
   "source": [
    "print('\\n 테스트 정확도: %.4f'%(model.evaluate(X_test,Y_test)[1]))"
   ]
  },
  {
   "cell_type": "code",
   "execution_count": 23,
   "metadata": {},
   "outputs": [
    {
     "data": {
      "image/png": "[encoded data removed]",
      "text/plain": [
       "<Figure size 432x288 with 1 Axes>"
      ]
     },
     "metadata": {
      "needs_background": "light"
     },
     "output_type": "display_data"
    }
   ],
   "source": [
    "import matplotlib.pyplot as plt\n",
    "epochs=range(1,len(history.history['acc'])+1)\n",
    "plt.plot(epochs,history.history['loss'])\n",
    "plt.plot(epochs,history.history['val_loss'])\n",
    "plt.title('model loss')\n",
    "plt.ylabel('loss')\n",
    "plt.xlabel('epoch')\n",
    "plt.legend(['train','val'],loc='upper left')\n",
    "plt.show()"
   ]
  },
  {
   "cell_type": "code",
   "execution_count": null,
   "metadata": {},
   "outputs": [],
   "source": []
  }
 ],
 "metadata": {
  "kernelspec": {
   "display_name": "Python 3",
   "language": "python",
   "name": "python3"
  },
  "language_info": {
   "codemirror_mode": {
    "name": "ipython",
    "version": 3
   },
   "file_extension": ".py",
   "mimetype": "text/x-python",
   "name": "python",
   "nbconvert_exporter": "python",
   "pygments_lexer": "ipython3",
   "version": "3.6.8"
  }
 },
 "nbformat": 4,
 "nbformat_minor": 4
}
