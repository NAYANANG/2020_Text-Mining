{
 "cells": [
  {
   "cell_type": "code",
   "execution_count": 37,
   "metadata": {},
   "outputs": [],
   "source": [
    "#필요한 모듈 모두 불러오기\n",
    "import pandas as pd\n",
    "import glob\n",
    "import os"
   ]
  },
  {
   "cell_type": "code",
   "execution_count": 38,
   "metadata": {},
   "outputs": [
    {
     "name": "stdout",
     "output_type": "stream",
     "text": [
      "['/home/u1009/schtm_osy_lsm_kjh/Labeling/Labeling_result/Labeled_문화일보.csv', '/home/u1009/schtm_osy_lsm_kjh/Labeling/Labeling_result/Labeled_MBN.csv', '/home/u1009/schtm_osy_lsm_kjh/Labeling/Labeling_result/Labeled_NEWS1.csv', '/home/u1009/schtm_osy_lsm_kjh/Labeling/Labeling_result/Labeled_한국경제.csv', '/home/u1009/schtm_osy_lsm_kjh/Labeling/Labeling_result/Labeled_세계일보.csv', '/home/u1009/schtm_osy_lsm_kjh/Labeling/Labeling_result/Labeled_국민일보.csv', '/home/u1009/schtm_osy_lsm_kjh/Labeling/Labeling_result/Labeled_JTBC.csv', '/home/u1009/schtm_osy_lsm_kjh/Labeling/Labeling_result/Labeled_연합뉴스.csv', '/home/u1009/schtm_osy_lsm_kjh/Labeling/Labeling_result/Labeled_SBS.csv', '/home/u1009/schtm_osy_lsm_kjh/Labeling/Labeling_result/Labeled_한겨례.csv', '/home/u1009/schtm_osy_lsm_kjh/Labeling/Labeling_result/Labeled_MBC.csv']\n"
     ]
    }
   ],
   "source": [
    "#라벨링된 데이터 모두 합치기\n",
    "input_file = '/home/u1009/schtm_osy_lsm_kjh/Labeling/Labeling_result/' # csv파일들이 있는 디렉토리 위치\n",
    "output_file = '/home/u1009/schtm_osy_lsm_kjh/Data_Ready/' # 병합하고 저장하려는 파일명\n",
    "\n",
    "allFile_list = glob.glob(os.path.join(input_file, '*.csv')) # glob함수로 csv로 끝나는 파일들을 모은다\n",
    "print(allFile_list)\n",
    "allData = [] # 읽어 들인 csv파일 내용을 저장할 빈 리스트를 하나 만든다\n",
    "for file in allFile_list:\n",
    "    df = pd.read_csv(file) # for구문으로 csv파일들을 읽어 들인다\n",
    "    allData.append(df) # 빈 리스트에 읽어 들인 내용을 추가한다\n",
    "\n",
    "NewsData = pd.concat(allData, axis=0, ignore_index=True) # concat함수를 이용해서 리스트의 내용을 병합\n",
    "NewsData = NewsData.drop('Unnamed: 0',axis=1)\n",
    "\n",
    "# axis=0은 수직으로 병합함. axis=1은 수평. ignore_index=True는 인데스 값이 기존 순서를 무시하고 순서대로 정렬되도록 한다.\n",
    "NewsData.to_csv(output_file + 'NewsData.csv', index=False) # to_csv함수로 저장한다. 인데스를 빼려면 False로 설정"
   ]
  },
  {
   "cell_type": "code",
   "execution_count": 39,
   "metadata": {},
   "outputs": [
    {
     "data": {
      "text/html": [
       "<div>\n",
       "<style scoped>\n",
       "    .dataframe tbody tr th:only-of-type {\n",
       "        vertical-align: middle;\n",
       "    }\n",
       "\n",
       "    .dataframe tbody tr th {\n",
       "        vertical-align: top;\n",
       "    }\n",
       "\n",
       "    .dataframe thead th {\n",
       "        text-align: right;\n",
       "    }\n",
       "</style>\n",
       "<table border=\"1\" class=\"dataframe\">\n",
       "  <thead>\n",
       "    <tr style=\"text-align: right;\">\n",
       "      <th></th>\n",
       "      <th>data</th>\n",
       "      <th>label</th>\n",
       "    </tr>\n",
       "  </thead>\n",
       "  <tbody>\n",
       "    <tr>\n",
       "      <td>0</td>\n",
       "      <td>김용호 경희대 평화 복지 대학원 특 임 교수 개천절 집회 풍경 시민 자율 먹칠 외교...</td>\n",
       "      <td>0</td>\n",
       "    </tr>\n",
       "    <tr>\n",
       "      <td>1</td>\n",
       "      <td>잉글랜드 축구 대표 팀 태미 에이브 러 햄 첼시 산초 도르트문트 신종 감염증 지침 ...</td>\n",
       "      <td>0</td>\n",
       "    </tr>\n",
       "    <tr>\n",
       "      <td>2</td>\n",
       "      <td>추석 연휴 인구이동 확산 기폭제 우려 제기 민속놀이 포함 규모 모임 행사 고 위험 ...</td>\n",
       "      <td>0</td>\n",
       "    </tr>\n",
       "    <tr>\n",
       "      <td>3</td>\n",
       "      <td>재무 보건 회의 강 조홍 남 부총리 기획 재정부장 관 신종 감염증 대응 관련 조치 ...</td>\n",
       "      <td>0</td>\n",
       "    </tr>\n",
       "    <tr>\n",
       "      <td>4</td>\n",
       "      <td>박 왕자 피격 당시 다음날 담화 발표 북한 서해 남 공무원 사살 뒤 사건 오전 침묵...</td>\n",
       "      <td>0</td>\n",
       "    </tr>\n",
       "    <tr>\n",
       "      <td>...</td>\n",
       "      <td>...</td>\n",
       "      <td>...</td>\n",
       "    </tr>\n",
       "    <tr>\n",
       "      <td>1095</td>\n",
       "      <td>백신 구매 정부 구체 계획 당초 명분 확보 계획 양 구매 국산 치료제 내년 도입 아...</td>\n",
       "      <td>1</td>\n",
       "    </tr>\n",
       "    <tr>\n",
       "      <td>1096</td>\n",
       "      <td>권준 중앙 대책 본부 부본부장 정부 내년 도입 발표 백신 접종 시기 관련 외국 비교...</td>\n",
       "      <td>1</td>\n",
       "    </tr>\n",
       "    <tr>\n",
       "      <td>1097</td>\n",
       "      <td>글로벌 코리아 박람회 개최 국제 원조 경험 공유 한국 세계 위상 국제 역할 담당 필...</td>\n",
       "      <td>1</td>\n",
       "    </tr>\n",
       "    <tr>\n",
       "      <td>1098</td>\n",
       "      <td>중앙 대책 본부 확진 환자 발생 서울 용산구 이태원 홀 덤 관련 추가 확진 홀 덤 ...</td>\n",
       "      <td>1</td>\n",
       "    </tr>\n",
       "    <tr>\n",
       "      <td>1099</td>\n",
       "      <td>홍콩 확산 오후 이후 식당 식사 금지 합 니다 홍콩 공영 방송 캐리 홍콩 행정 장관...</td>\n",
       "      <td>1</td>\n",
       "    </tr>\n",
       "  </tbody>\n",
       "</table>\n",
       "<p>1100 rows × 2 columns</p>\n",
       "</div>"
      ],
      "text/plain": [
       "                                                   data  label\n",
       "0     김용호 경희대 평화 복지 대학원 특 임 교수 개천절 집회 풍경 시민 자율 먹칠 외교...      0\n",
       "1     잉글랜드 축구 대표 팀 태미 에이브 러 햄 첼시 산초 도르트문트 신종 감염증 지침 ...      0\n",
       "2     추석 연휴 인구이동 확산 기폭제 우려 제기 민속놀이 포함 규모 모임 행사 고 위험 ...      0\n",
       "3     재무 보건 회의 강 조홍 남 부총리 기획 재정부장 관 신종 감염증 대응 관련 조치 ...      0\n",
       "4     박 왕자 피격 당시 다음날 담화 발표 북한 서해 남 공무원 사살 뒤 사건 오전 침묵...      0\n",
       "...                                                 ...    ...\n",
       "1095  백신 구매 정부 구체 계획 당초 명분 확보 계획 양 구매 국산 치료제 내년 도입 아...      1\n",
       "1096  권준 중앙 대책 본부 부본부장 정부 내년 도입 발표 백신 접종 시기 관련 외국 비교...      1\n",
       "1097  글로벌 코리아 박람회 개최 국제 원조 경험 공유 한국 세계 위상 국제 역할 담당 필...      1\n",
       "1098  중앙 대책 본부 확진 환자 발생 서울 용산구 이태원 홀 덤 관련 추가 확진 홀 덤 ...      1\n",
       "1099  홍콩 확산 오후 이후 식당 식사 금지 합 니다 홍콩 공영 방송 캐리 홍콩 행정 장관...      1\n",
       "\n",
       "[1100 rows x 2 columns]"
      ]
     },
     "execution_count": 39,
     "metadata": {},
     "output_type": "execute_result"
    }
   ],
   "source": [
    "#병합된 파일이 잘 저장되었는지 확인(불러오기)\n",
    "pd.read_csv('/home/u1009/schtm_osy_lsm_kjh/Data_Ready/NewsData.csv',encoding='utf-8')"
   ]
  },
  {
   "cell_type": "code",
   "execution_count": 40,
   "metadata": {},
   "outputs": [],
   "source": [
    "#합쳐진 데이터 셔플링(언론사에 따라 동일한 라벨이 붙은 기사들을 모두 섞기 위함)\n",
    "import csv\n",
    "import random\n",
    "import os\n",
    " \n",
    "os.chdir(\"/home/u1009/schtm_osy_lsm_kjh/Data_Ready/\") # Csv가 있는 경로 설정\n",
    " \n",
    "file = open('NewsData.csv', 'r', encoding='utf-8')\n",
    "line = file.readlines()\n",
    "random.shuffle(line)\n",
    "rcsv = csv.reader(line)\n",
    " \n",
    "file_write = open('Article_shuffled.csv', 'w', newline=\"\")\n",
    "wcsv = csv.writer(file_write)\n",
    " \n",
    "for i in rcsv:\n",
    "    try:\n",
    "        wcsv.writerow([i[0].strip(), i[1]])\n",
    "    except:\n",
    "        pass"
   ]
  },
  {
   "cell_type": "code",
   "execution_count": 34,
   "metadata": {},
   "outputs": [],
   "source": [
    "#셔플까지 완료된 기사 데이터 불러오기\n",
    "data=pd.read_csv('/home/u1009/schtm_osy_lsm_kjh/Data_Ready/Article_shuffled.csv',header= None, names = ['data', 'label'], encoding='utf-8')"
   ]
  },
  {
   "cell_type": "code",
   "execution_count": 41,
   "metadata": {},
   "outputs": [
    {
     "data": {
      "text/html": [
       "<div>\n",
       "<style scoped>\n",
       "    .dataframe tbody tr th:only-of-type {\n",
       "        vertical-align: middle;\n",
       "    }\n",
       "\n",
       "    .dataframe tbody tr th {\n",
       "        vertical-align: top;\n",
       "    }\n",
       "\n",
       "    .dataframe thead th {\n",
       "        text-align: right;\n",
       "    }\n",
       "</style>\n",
       "<table border=\"1\" class=\"dataframe\">\n",
       "  <thead>\n",
       "    <tr style=\"text-align: right;\">\n",
       "      <th></th>\n",
       "      <th>data</th>\n",
       "      <th>label</th>\n",
       "    </tr>\n",
       "  </thead>\n",
       "  <tbody>\n",
       "    <tr>\n",
       "      <td>0</td>\n",
       "      <td>반도 브리핑 확진 최고 단계 격상 출연 김용현 동국대 북한학 교수 유행 확산 국내 ...</td>\n",
       "      <td>1</td>\n",
       "    </tr>\n",
       "    <tr>\n",
       "      <td>1</td>\n",
       "      <td>정부 신종 감염증 확산 전국 거리 두기 대응 수준 국민 이동 제자리걸음 확인 피로감...</td>\n",
       "      <td>1</td>\n",
       "    </tr>\n",
       "    <tr>\n",
       "      <td>2</td>\n",
       "      <td>상황 국가 한국 물품 공급 요청 외교부 고위 당국자 기자 자리 물품 수출 요청 국 ...</td>\n",
       "      <td>2</td>\n",
       "    </tr>\n",
       "    <tr>\n",
       "      <td>3</td>\n",
       "      <td>관련 보건 당국 자가 격리 조치 무시 여성 벌금 선고 부산지법 형사 단독 부장 판사...</td>\n",
       "      <td>2</td>\n",
       "    </tr>\n",
       "    <tr>\n",
       "      <td>4</td>\n",
       "      <td>젊은층 합병증 적극 정책 유지 당국 전파 지금 확진 조기 격리 치료 적극 개입 정책...</td>\n",
       "      <td>1</td>\n",
       "    </tr>\n",
       "    <tr>\n",
       "      <td>...</td>\n",
       "      <td>...</td>\n",
       "      <td>...</td>\n",
       "    </tr>\n",
       "    <tr>\n",
       "      <td>1094</td>\n",
       "      <td>추석 연휴 이동 자제 감염 연결 고리 기간 종식 기대 마스크 셀프 백신 이자 안전벨...</td>\n",
       "      <td>0</td>\n",
       "    </tr>\n",
       "    <tr>\n",
       "      <td>1095</td>\n",
       "      <td>중앙 대책 본부 현황 브리핑 중앙 대책 본부 국내 상황 준 중앙 대책 본부 부본부장...</td>\n",
       "      <td>1</td>\n",
       "    </tr>\n",
       "    <tr>\n",
       "      <td>1096</td>\n",
       "      <td>전문 업체 하루 문 업무 신종 감염증 사태 장기 전문 업체 인기 개인 바이러스 예방...</td>\n",
       "      <td>0</td>\n",
       "    </tr>\n",
       "    <tr>\n",
       "      <td>1097</td>\n",
       "      <td>정부 활동 방해 사람 무관용 원칙 대응 악의 활동 방해 사람 구속 수사 원칙 법정 ...</td>\n",
       "      <td>2</td>\n",
       "    </tr>\n",
       "    <tr>\n",
       "      <td>1098</td>\n",
       "      <td>유승민 의원 지난달 서울 여의도 국회 앞 태흥 빌딩 희망 사무실 경제 주제 주택 문...</td>\n",
       "      <td>1</td>\n",
       "    </tr>\n",
       "  </tbody>\n",
       "</table>\n",
       "<p>1099 rows × 2 columns</p>\n",
       "</div>"
      ],
      "text/plain": [
       "                                                   data label\n",
       "0     반도 브리핑 확진 최고 단계 격상 출연 김용현 동국대 북한학 교수 유행 확산 국내 ...     1\n",
       "1     정부 신종 감염증 확산 전국 거리 두기 대응 수준 국민 이동 제자리걸음 확인 피로감...     1\n",
       "2     상황 국가 한국 물품 공급 요청 외교부 고위 당국자 기자 자리 물품 수출 요청 국 ...     2\n",
       "3     관련 보건 당국 자가 격리 조치 무시 여성 벌금 선고 부산지법 형사 단독 부장 판사...     2\n",
       "4     젊은층 합병증 적극 정책 유지 당국 전파 지금 확진 조기 격리 치료 적극 개입 정책...     1\n",
       "...                                                 ...   ...\n",
       "1094  추석 연휴 이동 자제 감염 연결 고리 기간 종식 기대 마스크 셀프 백신 이자 안전벨...     0\n",
       "1095  중앙 대책 본부 현황 브리핑 중앙 대책 본부 국내 상황 준 중앙 대책 본부 부본부장...     1\n",
       "1096  전문 업체 하루 문 업무 신종 감염증 사태 장기 전문 업체 인기 개인 바이러스 예방...     0\n",
       "1097  정부 활동 방해 사람 무관용 원칙 대응 악의 활동 방해 사람 구속 수사 원칙 법정 ...     2\n",
       "1098  유승민 의원 지난달 서울 여의도 국회 앞 태흥 빌딩 희망 사무실 경제 주제 주택 문...     1\n",
       "\n",
       "[1099 rows x 2 columns]"
      ]
     },
     "execution_count": 41,
     "metadata": {},
     "output_type": "execute_result"
    }
   ],
   "source": [
    "data"
   ]
  },
  {
   "cell_type": "code",
   "execution_count": 42,
   "metadata": {},
   "outputs": [
    {
     "name": "stdout",
     "output_type": "stream",
     "text": [
      "<class 'pandas.core.frame.DataFrame'>\n",
      "RangeIndex: 1099 entries, 0 to 1098\n",
      "Data columns (total 2 columns):\n",
      "data     1099 non-null object\n",
      "label    1099 non-null object\n",
      "dtypes: object(2)\n",
      "memory usage: 17.3+ KB\n"
     ]
    }
   ],
   "source": [
    "#데이터 정보 확인\n",
    "data.info()"
   ]
  },
  {
   "cell_type": "code",
   "execution_count": 43,
   "metadata": {},
   "outputs": [
    {
     "data": {
      "text/plain": [
       "False"
      ]
     },
     "execution_count": 43,
     "metadata": {},
     "output_type": "execute_result"
    }
   ],
   "source": [
    "#Null 값을 가진 샘플이 있는지 확인\n",
    "data.isnull().values.any()"
   ]
  },
  {
   "cell_type": "code",
   "execution_count": 44,
   "metadata": {},
   "outputs": [
    {
     "data": {
      "text/plain": [
       "(1096, 4)"
      ]
     },
     "execution_count": 44,
     "metadata": {},
     "output_type": "execute_result"
    }
   ],
   "source": [
    "#중복 데이터 확인\n",
    "data['data'].nunique(), data['label'].nunique()  #1099행 중 1096개가 unique데이터"
   ]
  }
 ],
 "metadata": {
  "kernelspec": {
   "display_name": "Python 3",
   "language": "python",
   "name": "python3"
  },
  "language_info": {
   "codemirror_mode": {
    "name": "ipython",
    "version": 3
   },
   "file_extension": ".py",
   "mimetype": "text/x-python",
   "name": "python",
   "nbconvert_exporter": "python",
   "pygments_lexer": "ipython3",
   "version": "3.6.8"
  }
 },
 "nbformat": 4,
 "nbformat_minor": 2
}
