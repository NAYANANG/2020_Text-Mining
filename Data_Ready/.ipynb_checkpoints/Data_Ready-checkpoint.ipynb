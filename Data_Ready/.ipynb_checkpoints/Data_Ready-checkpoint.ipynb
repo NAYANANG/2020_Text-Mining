{
 "cells": [
  {
   "cell_type": "code",
   "execution_count": 1,
   "metadata": {},
   "outputs": [],
   "source": [
    "#필요한 모듈 모두 불러오기\n",
    "import pandas as pd\n",
    "import glob\n",
    "import os"
   ]
  },
  {
   "cell_type": "code",
   "execution_count": 2,
   "metadata": {},
   "outputs": [
    {
     "name": "stdout",
     "output_type": "stream",
     "text": [
      "['/home/u1009/schtm_osy_lsm_kjh/Labeling/Labeling_result/Labeled_문화일보.csv', '/home/u1009/schtm_osy_lsm_kjh/Labeling/Labeling_result/Labeled_MBN.csv', '/home/u1009/schtm_osy_lsm_kjh/Labeling/Labeling_result/Labeled_NEWS1.csv', '/home/u1009/schtm_osy_lsm_kjh/Labeling/Labeling_result/Labeled_한국경제.csv', '/home/u1009/schtm_osy_lsm_kjh/Labeling/Labeling_result/Labeled_세계일보.csv', '/home/u1009/schtm_osy_lsm_kjh/Labeling/Labeling_result/Labeled_국민일보.csv', '/home/u1009/schtm_osy_lsm_kjh/Labeling/Labeling_result/Labeled_JTBC.csv', '/home/u1009/schtm_osy_lsm_kjh/Labeling/Labeling_result/Labeled_연합뉴스.csv', '/home/u1009/schtm_osy_lsm_kjh/Labeling/Labeling_result/Labeled_SBS.csv', '/home/u1009/schtm_osy_lsm_kjh/Labeling/Labeling_result/Labeled_한겨례.csv', '/home/u1009/schtm_osy_lsm_kjh/Labeling/Labeling_result/Labeled_MBC.csv']\n"
     ]
    }
   ],
   "source": [
    "#라벨링된 데이터 모두 합치기\n",
    "input_file = '/home/u1009/schtm_osy_lsm_kjh/Labeling/Labeling_result/' # csv파일들이 있는 디렉토리 위치\n",
    "output_file = '/home/u1009/schtm_osy_lsm_kjh/Data_Ready/' # 병합하고 저장하려는 파일명\n",
    "\n",
    "allFile_list = glob.glob(os.path.join(input_file, '*.csv')) # glob함수로 csv로 끝나는 파일들을 모은다\n",
    "print(allFile_list)\n",
    "allData = [] # 읽어 들인 csv파일 내용을 저장할 빈 리스트를 하나 만든다\n",
    "for file in allFile_list:\n",
    "    df = pd.read_csv(file) # for구문으로 csv파일들을 읽어 들인다\n",
    "    allData.append(df) # 빈 리스트에 읽어 들인 내용을 추가한다\n",
    "\n",
    "NewsData = pd.concat(allData, axis=0, ignore_index=True) # concat함수를 이용해서 리스트의 내용을 병합\n",
    "# axis=0은 수직으로 병합함. axis=1은 수평. ignore_index=True는 인데스 값이 기존 순서를 무시하고 순서대로 정렬되도록 한다.\n",
    "NewsData.to_csv(output_file + 'NewsData.csv', index=False) # to_csv함수로 저장한다. 인데스를 빼려면 False로 설정"
   ]
  },
  {
   "cell_type": "code",
   "execution_count": 3,
   "metadata": {},
   "outputs": [
    {
     "ename": "UnicodeDecodeError",
     "evalue": "'euc_kr' codec can't decode byte 0x80 in position 26: illegal multibyte sequence",
     "output_type": "error",
     "traceback": [
      "\u001b[0;31m---------------------------------------------------------------------------\u001b[0m",
      "\u001b[0;31mUnicodeDecodeError\u001b[0m                        Traceback (most recent call last)",
      "\u001b[0;32m<ipython-input-3-99376bba1508>\u001b[0m in \u001b[0;36m<module>\u001b[0;34m\u001b[0m\n\u001b[1;32m      7\u001b[0m \u001b[0;34m\u001b[0m\u001b[0m\n\u001b[1;32m      8\u001b[0m \u001b[0mfile\u001b[0m \u001b[0;34m=\u001b[0m \u001b[0mopen\u001b[0m\u001b[0;34m(\u001b[0m\u001b[0;34m'NewsData.csv'\u001b[0m\u001b[0;34m,\u001b[0m \u001b[0;34m'r'\u001b[0m\u001b[0;34m,\u001b[0m \u001b[0mencoding\u001b[0m\u001b[0;34m=\u001b[0m\u001b[0;34m'euc-kr'\u001b[0m\u001b[0;34m)\u001b[0m\u001b[0;34m\u001b[0m\u001b[0;34m\u001b[0m\u001b[0m\n\u001b[0;32m----> 9\u001b[0;31m \u001b[0mline\u001b[0m \u001b[0;34m=\u001b[0m \u001b[0mfile\u001b[0m\u001b[0;34m.\u001b[0m\u001b[0mreadlines\u001b[0m\u001b[0;34m(\u001b[0m\u001b[0;34m)\u001b[0m\u001b[0;34m\u001b[0m\u001b[0;34m\u001b[0m\u001b[0m\n\u001b[0m\u001b[1;32m     10\u001b[0m \u001b[0mrandom\u001b[0m\u001b[0;34m.\u001b[0m\u001b[0mshuffle\u001b[0m\u001b[0;34m(\u001b[0m\u001b[0mline\u001b[0m\u001b[0;34m)\u001b[0m\u001b[0;34m\u001b[0m\u001b[0;34m\u001b[0m\u001b[0m\n\u001b[1;32m     11\u001b[0m \u001b[0mrcsv\u001b[0m \u001b[0;34m=\u001b[0m \u001b[0mcsv\u001b[0m\u001b[0;34m.\u001b[0m\u001b[0mreader\u001b[0m\u001b[0;34m(\u001b[0m\u001b[0mline\u001b[0m\u001b[0;34m)\u001b[0m\u001b[0;34m\u001b[0m\u001b[0;34m\u001b[0m\u001b[0m\n",
      "\u001b[0;31mUnicodeDecodeError\u001b[0m: 'euc_kr' codec can't decode byte 0x80 in position 26: illegal multibyte sequence"
     ]
    }
   ],
   "source": [
    "#합쳐진 데이터 셔플링(언론사에 따라 동일한 라벨이 붙은 기사들을 모두 섞기 위함)\n",
    "import csv\n",
    "import random\n",
    "import os\n",
    " \n",
    "os.chdir(\"/home/u1009/schtm_osy_lsm_kjh/Data_Ready/\") # Csv가 있는 경로 설정\n",
    " \n",
    "file = open('NewsData.csv', 'r', encoding='euc-kr')\n",
    "line = file.readlines()\n",
    "random.shuffle(line)\n",
    "rcsv = csv.reader(line)\n",
    " \n",
    "file_write = open('Article_shuffled.csv', 'w', encoding='UTF-8', newline=\"\")\n",
    "wcsv = csv.writer(file_write)\n",
    " \n",
    "for i in rcsv:\n",
    "    try:\n",
    "        wcsv.writerow([i[0].strip(), i[1]])\n",
    "    except:\n",
    "        pass"
   ]
  }
 ],
 "metadata": {
  "kernelspec": {
   "display_name": "Python 3",
   "language": "python",
   "name": "python3"
  },
  "language_info": {
   "codemirror_mode": {
    "name": "ipython",
    "version": 3
   },
   "file_extension": ".py",
   "mimetype": "text/x-python",
   "name": "python",
   "nbconvert_exporter": "python",
   "pygments_lexer": "ipython3",
   "version": "3.6.8"
  }
 },
 "nbformat": 4,
 "nbformat_minor": 2
}
