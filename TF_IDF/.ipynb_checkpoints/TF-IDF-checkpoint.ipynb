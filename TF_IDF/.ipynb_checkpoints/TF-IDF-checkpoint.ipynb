{
 "cells": [
  {
   "cell_type": "code",
   "execution_count": 1,
   "metadata": {},
   "outputs": [],
   "source": [
    "import pandas as pd\n",
    "import numpy as np\n",
    "import pickle\n",
    "from sklearn.feature_extraction.text import TfidfVectorizer"
   ]
  },
  {
   "cell_type": "code",
   "execution_count": 2,
   "metadata": {},
   "outputs": [],
   "source": [
    "def TF_IDF(keyword):\n",
    "    \n",
    "    with open('/home/u1016/schtm_osy_lsm_kjh/POS_Tag/{0}_Noun_doc.txt'.format(keyword),'rb') as f:\n",
    "        Doc=read=pickle.load(f)\n",
    "    tfidfv=TfidfVectorizer(100,0.95,0)\n",
    "    tfidf_fit=tfidfv.fit_transform(Doc)\n",
    "    tfidfv_dict=tfidfv.get_feature_names()\n",
    "    tf_idf_array=tfidf_fit.toarray()\n",
    "    tf_idf_df=pd.DataFrame(tf_idf_array,columns=tfidfv_dict)\n",
    "    tf_idf_df.to_pickle('{}.csv'.format(keyword))"
   ]
  },
  {
   "cell_type": "code",
   "execution_count": 15,
   "metadata": {},
   "outputs": [],
   "source": [
    "TF_IDF('연합뉴스_부동산정책')   "
   ]
  },
  {
   "cell_type": "code",
   "execution_count": null,
   "metadata": {},
   "outputs": [],
   "source": []
  }
 ],
 "metadata": {
  "kernelspec": {
   "display_name": "Python 3",
   "language": "python",
   "name": "python3"
  },
  "language_info": {
   "codemirror_mode": {
    "name": "ipython",
    "version": 3
   },
   "file_extension": ".py",
   "mimetype": "text/x-python",
   "name": "python",
   "nbconvert_exporter": "python",
   "pygments_lexer": "ipython3",
   "version": "3.6.8"
  }
 },
 "nbformat": 4,
 "nbformat_minor": 4
}
