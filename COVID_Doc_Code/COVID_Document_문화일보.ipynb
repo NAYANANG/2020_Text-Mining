{
 "cells": [
  {
   "cell_type": "code",
   "execution_count": 1,
   "metadata": {},
   "outputs": [],
   "source": [
    "from konlpy.tag import Komoran\n",
    "komoran=Komoran()\n",
    "\n",
    "import pandas as pd\n",
    "import os\n",
    "import numpy as np"
   ]
  },
  {
   "cell_type": "code",
   "execution_count": 2,
   "metadata": {},
   "outputs": [],
   "source": [
    "def Corona_POS_tag(x):\n",
    "    Corona=pd.read_csv('/home/u1013/schtm_osy_lsm_kjh/COVID/COVID_Dataset/{0}'.format(x),encoding='utf-8')\n",
    "    Corona=Corona.drop('Unnamed: 0',axis=1)\n",
    "    Corona_text=np.array(Corona.loc[:,'Text'].tolist())\n",
    "    Corona_pos_words=[]\n",
    "    for i in range(len(Corona)):\n",
    "        list=[]\n",
    "        list+=komoran.pos(Corona_text[i])\n",
    "        Corona_pos_words.append(list)\n",
    "    total_text=[]\n",
    "    pos_text=[]\n",
    "    keyword=['코로나방역','방역','코로나바이러스','19']\n",
    "    for j in range(len(Corona)):\n",
    "        text_list=Corona_pos_words[j]\n",
    "        for i in range(len(text_list)):\n",
    "            if text_list[i][1] not in ('SF','SP','SS','SE','SO','SW') and text_list[i][0] not in keyword:\n",
    "                pos_text.append(text_list[i][:])\n",
    "        total_text.append(pos_text)\n",
    "        pos_text=[]\n",
    "    sub_pos=[]\n",
    "    selected_pos=[]\n",
    "    for j in range(len(total_text)):\n",
    "        pos_list=total_text[j]\n",
    "        for i in range(len(pos_list)):\n",
    "            if pos_list[i][1] in ('NNG','NNP'):\n",
    "                sub_pos.append(pos_list[i][0])\n",
    "        selected_pos.append(sub_pos)\n",
    "        sub_pos=[]\n",
    "    for z in range(len(selected_pos)):\n",
    "        selected_pos[z]=\" \".join(selected_pos[z])\n",
    "    return selected_pos"
   ]
  },
  {
   "cell_type": "code",
   "execution_count": 3,
   "metadata": {},
   "outputs": [],
   "source": [
    "tag=Corona_POS_tag('COVID_문화일보.csv')"
   ]
  },
  {
   "cell_type": "code",
   "execution_count": 4,
   "metadata": {},
   "outputs": [],
   "source": [
    "import pickle\n",
    "\n",
    "with open('COVID_문화일보.txt','wb') as f:\n",
    "    pickle.dump(tag,f)"
   ]
  },
  {
   "cell_type": "code",
   "execution_count": null,
   "metadata": {},
   "outputs": [],
   "source": []
  }
 ],
 "metadata": {
  "kernelspec": {
   "display_name": "Python 3",
   "language": "python",
   "name": "python3"
  },
  "language_info": {
   "codemirror_mode": {
    "name": "ipython",
    "version": 3
   },
   "file_extension": ".py",
   "mimetype": "text/x-python",
   "name": "python",
   "nbconvert_exporter": "python",
   "pygments_lexer": "ipython3",
   "version": "3.6.8"
  }
 },
 "nbformat": 4,
 "nbformat_minor": 4
}
