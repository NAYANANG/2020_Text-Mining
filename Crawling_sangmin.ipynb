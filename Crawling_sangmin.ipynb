{
 "cells": [
  {
   "cell_type": "code",
   "execution_count": 1,
   "metadata": {},
   "outputs": [],
   "source": [
    "from selenium import webdriver\n",
    "import os\n",
    "from bs4 import BeautifulSoup\n",
    "import pandas as pd\n",
    "import time\n",
    "import csv\n",
    "import urllib.request as ur"
   ]
  },
  {
   "cell_type": "code",
   "execution_count": null,
   "metadata": {},
   "outputs": [],
   "source": [
    "#세계일보"
   ]
  },
  {
   "cell_type": "code",
   "execution_count": 31,
   "metadata": {},
   "outputs": [],
   "source": [
    "browser=webdriver.Chrome('chromedriver.exe')\n",
    "browser.get('https://www.segye.com/search')"
   ]
  },
  {
   "cell_type": "code",
   "execution_count": 86,
   "metadata": {},
   "outputs": [],
   "source": [
    "def segye_url(keyword):\n",
    "    browser.find_element_by_id('searchWord').send_keys(keyword)\n",
    "    browser.find_element_by_xpath('//*[@id=\"wps_layout1_box1\"]/div/div[2]/img[1]').click()\n",
    "    time.sleep(20)\n",
    "    browser.find_element_by_xpath('//*[@id=\"articleTitleArea\"]/div/a').click()\n",
    "    time.sleep(20)\n",
    "    html=browser.page_source\n",
    "    soup=BeautifulSoup(html,'html.parser')\n",
    "    attr=soup.select('ul.listBox > li > a') \n",
    "    url=[]\n",
    "    for urls in attr:\n",
    "        url.append(urls['href'])\n",
    "    browser.find_element_by_xpath('//*[@id=\"pagingNav\"]/a[2]').click()\n",
    "    time.sleep(2)\n",
    "    html=browser.page_source\n",
    "    soup=BeautifulSoup(html,'html.parser')\n",
    "    attr=soup.select('ul.listBox > li > a') \n",
    "    for urls in attr:\n",
    "        url.append(urls['href'])\n",
    "    browser.find_element_by_xpath('//*[@id=\"pagingNav\"]/a[4]').click()\n",
    "    time.sleep(2)\n",
    "    html=browser.page_source\n",
    "    soup=BeautifulSoup(html,'html.parser')\n",
    "    attr=soup.select('ul.listBox > li > a') \n",
    "    for urls in attr:\n",
    "        url.append(urls['href'])\n",
    "    "
   ]
  },
  {
   "cell_type": "code",
   "execution_count": 32,
   "metadata": {},
   "outputs": [],
   "source": [
    "browser.find_element_by_id('searchWord').send_keys('부동산정책')\n",
    "browser.find_element_by_xpath('//*[@id=\"wps_layout1_box1\"]/div/div[2]/img[1]').click()\n",
    "time.sleep(10)\n",
    "browser.find_element_by_xpath('//*[@id=\"articleTitleArea\"]/div/a').click()\n",
    "time.sleep(10)\n",
    "html=browser.page_source\n",
    "soup=BeautifulSoup(html,'html.parser')\n",
    "attr=soup.select('ul.listBox > li > a') \n",
    "url=[]\n",
    "for urls in attr:\n",
    "    url.append(urls['href'])\n",
    "browser.find_element_by_xpath('//*[@id=\"pagingNav\"]/a[2]').click()\n",
    "time.sleep(2)\n",
    "html=browser.page_source\n",
    "soup=BeautifulSoup(html,'html.parser')\n",
    "attr=soup.select('ul.listBox > li > a') \n",
    "for urls in attr:\n",
    "    url.append(urls['href'])\n",
    "browser.find_element_by_xpath('//*[@id=\"pagingNav\"]/a[4]').click()\n",
    "time.sleep(2)\n",
    "html=browser.page_source\n",
    "soup=BeautifulSoup(html,'html.parser')\n",
    "attr=soup.select('ul.listBox > li > a') \n",
    "for urls in attr:\n",
    "    url.append(urls['href'])\n",
    "browser.find_element_by_xpath('//*[@id=\"pagingNav\"]/a[5]').click()\n",
    "time.sleep(2)\n",
    "html=browser.page_source\n",
    "soup=BeautifulSoup(html,'html.parser')\n",
    "attr=soup.select('ul.listBox > li > a') \n",
    "for urls in attr:\n",
    "    url.append(urls['href'])"
   ]
  },
  {
   "cell_type": "code",
   "execution_count": 33,
   "metadata": {},
   "outputs": [
    {
     "data": {
      "text/plain": [
       "80"
      ]
     },
     "execution_count": 33,
     "metadata": {},
     "output_type": "execute_result"
    }
   ],
   "source": [
    "len(url)"
   ]
  },
  {
   "cell_type": "code",
   "execution_count": 34,
   "metadata": {},
   "outputs": [],
   "source": [
    "dict={}\n",
    "for i in range(len(url)):\n",
    "    browser.get(url[i])\n",
    "    html=browser.page_source\n",
    "    time.sleep(2)\n",
    "    soup=BeautifulSoup(html,'html.parser')\n",
    "    title=soup.find('h3',{'id':'title_sns'}).text\n",
    "    source=soup.find('article',{'class':'viewBox'}).text\n",
    "    source=source.replace('\\n','').replace('\\xa0','')\n",
    "    dict[title]=source"
   ]
  },
  {
   "cell_type": "code",
   "execution_count": 22,
   "metadata": {},
   "outputs": [
    {
     "data": {
      "text/plain": [
       "79"
      ]
     },
     "execution_count": 22,
     "metadata": {},
     "output_type": "execute_result"
    }
   ],
   "source": [
    "len(dict)"
   ]
  },
  {
   "cell_type": "code",
   "execution_count": 16,
   "metadata": {},
   "outputs": [],
   "source": [
    "with open('세계일보_코로나방역.csv','w',-1,encoding='utf-8') as f:\n",
    "    w=csv.writer(f)\n",
    "    w.writerow(dict.keys())\n",
    "    w.writerow(dict.values())"
   ]
  },
  {
   "cell_type": "code",
   "execution_count": 23,
   "metadata": {},
   "outputs": [],
   "source": [
    "with open('세계일보_의료정책.csv','w',-1,encoding='utf-8') as f:\n",
    "    w=csv.writer(f)\n",
    "    w.writerow(dict.keys())\n",
    "    w.writerow(dict.values())"
   ]
  },
  {
   "cell_type": "code",
   "execution_count": 35,
   "metadata": {},
   "outputs": [],
   "source": [
    "with open('세계일보_부동산정책.csv','w',-1,encoding='utf-8') as f:\n",
    "    w=csv.writer(f)\n",
    "    w.writerow(dict.keys())\n",
    "    w.writerow(dict.values())"
   ]
  },
  {
   "cell_type": "code",
   "execution_count": 17,
   "metadata": {},
   "outputs": [],
   "source": [
    "a=pd.read_csv('C:/Users/user/Downloads/세계일보_코로나방역.csv',encoding='utf-8')\n",
    "a=a.transpose()\n",
    "b=list\n",
    "title=b(a.index)\n",
    "c=list\n",
    "text=a[0]\n",
    "text=c(text)\n",
    "source=pd.DataFrame({'Title':title,'Text':text})\n",
    "source=source.iloc[:60]\n",
    "source['Press']='세계일보'\n",
    "source=source[['Press','Title','Text']]\n",
    "source.to_csv('세계일보_코로나방역.csv',encoding='utf-8-sig')"
   ]
  },
  {
   "cell_type": "code",
   "execution_count": 36,
   "metadata": {},
   "outputs": [],
   "source": [
    "a=pd.read_csv('C:/Users/user/Downloads/세계일보_부동산정책.csv',encoding='utf-8')\n",
    "a=a.transpose()\n",
    "b=list\n",
    "title=b(a.index)\n",
    "c=list\n",
    "text=a[0]\n",
    "text=c(text)\n",
    "source=pd.DataFrame({'Title':title,'Text':text})\n",
    "source=source.iloc[:60]\n",
    "source['Press']='세계일보'\n",
    "source=source[['Press','Title','Text']]\n",
    "source.to_csv('세계일보_부동산정책.csv',encoding='utf-8-sig')"
   ]
  },
  {
   "cell_type": "code",
   "execution_count": 25,
   "metadata": {},
   "outputs": [],
   "source": [
    "a=pd.read_csv('C:/Users/user/Downloads/세계일보_의료정책.csv',encoding='utf-8')\n",
    "a=a.transpose()\n",
    "b=list\n",
    "title=b(a.index)\n",
    "c=list\n",
    "text=a[0]\n",
    "text=c(text)\n",
    "source=pd.DataFrame({'Title':title,'Text':text})\n",
    "source=source.iloc[:60]\n",
    "source['Press']='세계일보'\n",
    "source=source[['Press','Title','Text']]\n",
    "source.to_csv('세계일보_의료정책.csv',encoding='utf-8-sig')"
   ]
  },
  {
   "cell_type": "code",
   "execution_count": 4,
   "metadata": {},
   "outputs": [],
   "source": [
    "#YTN"
   ]
  },
  {
   "cell_type": "code",
   "execution_count": 3,
   "metadata": {},
   "outputs": [],
   "source": [
    "browser=webdriver.Chrome('chromedriver.exe')\n",
    "browser.get('https://www.ytn.co.kr/search/?q={0}#type=1&page=1'.format(\"의료정책\"))"
   ]
  },
  {
   "cell_type": "code",
   "execution_count": 15,
   "metadata": {},
   "outputs": [],
   "source": [
    "#연합뉴스tv"
   ]
  },
  {
   "cell_type": "code",
   "execution_count": 66,
   "metadata": {},
   "outputs": [],
   "source": [
    "browser=webdriver.Chrome('chromedriver.exe')\n",
    "browser.get('https://www.yonhapnewstv.co.kr/search/news?q={0}&sortField=score&sort=on&startDate=&endDate='.format('코로나 방역'))\n",
    "html=browser.page_source\n",
    "soup=BeautifulSoup(html,'html.parser')\n",
    "attr=soup.select('ul >li >div> div> a') \n",
    "url=[]\n",
    "for urls in attr:\n",
    "    url.append(urls['href'])"
   ]
  },
  {
   "cell_type": "code",
   "execution_count": 67,
   "metadata": {},
   "outputs": [],
   "source": [
    "browser=webdriver.Chrome('chromedriver.exe')\n",
    "browser.get('https://www.yonhapnewstv.co.kr/search/news?pageNo=2&q={0}&sortField=score&sort=on&startDate=&endDate='.format('코로나 방역'))\n",
    "html=browser.page_source\n",
    "soup=BeautifulSoup(html,'html.parser')\n",
    "attr=soup.select('ul >li >div> div> a') \n",
    "for urls in attr:\n",
    "    url.append(urls['href'])"
   ]
  },
  {
   "cell_type": "code",
   "execution_count": 68,
   "metadata": {},
   "outputs": [],
   "source": [
    "browser=webdriver.Chrome('chromedriver.exe')\n",
    "browser.get('https://www.yonhapnewstv.co.kr/search/news?pageNo=3&q={0}&sortField=score&sort=on&startDate=&endDate='.format('코로나 방역'))\n",
    "html=browser.page_source\n",
    "soup=BeautifulSoup(html,'html.parser')\n",
    "attr=soup.select('ul >li >div> div> a') \n",
    "for urls in attr:\n",
    "    url.append(urls['href'])"
   ]
  },
  {
   "cell_type": "code",
   "execution_count": 93,
   "metadata": {},
   "outputs": [],
   "source": [
    "browser=webdriver.Chrome('chromedriver.exe')\n",
    "browser.get('https://www.yonhapnewstv.co.kr/search/news?pageNo=4&q={0}&sortField=score&sort=on&startDate=&endDate='.format('코로나 방역'))\n",
    "html=browser.page_source\n",
    "soup=BeautifulSoup(html,'html.parser')\n",
    "attr=soup.select('ul >li >div> div> a') \n",
    "for urls in attr:\n",
    "    url.append(urls['href'])"
   ]
  },
  {
   "cell_type": "code",
   "execution_count": 100,
   "metadata": {},
   "outputs": [],
   "source": [
    "browser=webdriver.Chrome('chromedriver.exe')\n",
    "browser.get('https://www.yonhapnewstv.co.kr/search/news?pageNo=5&q={0}&sortField=score&sort=on&startDate=&endDate='.format('코로나 방역'))\n",
    "html=browser.page_source\n",
    "soup=BeautifulSoup(html,'html.parser')\n",
    "attr=soup.select('ul >li >div> div> a') \n",
    "for urls in attr:\n",
    "    url.append(urls['href'])"
   ]
  },
  {
   "cell_type": "code",
   "execution_count": 102,
   "metadata": {},
   "outputs": [
    {
     "data": {
      "text/plain": [
       "100"
      ]
     },
     "execution_count": 102,
     "metadata": {},
     "output_type": "execute_result"
    }
   ],
   "source": [
    "len(url)"
   ]
  },
  {
   "cell_type": "code",
   "execution_count": 80,
   "metadata": {},
   "outputs": [],
   "source": [
    "browser=webdriver.Chrome('chromedriver.exe')"
   ]
  },
  {
   "cell_type": "code",
   "execution_count": 103,
   "metadata": {},
   "outputs": [],
   "source": [
    "dict={}\n",
    "\n",
    "for i in range(len(url)):\n",
    "    browser.get('https://www.yonhapnewstv.co.kr/'+url[i])\n",
    "    time.sleep(1)\n",
    "    html=browser.page_source\n",
    "    soup=BeautifulSoup(html,'html.parser')\n",
    "    title=soup.find('strong',{'class':'title'}).text\n",
    "    title=title.replace('\\r','').replace('\\n','').replace('\\t','')\n",
    "    text=soup.find('div',{'id':'articleBody'}).text\n",
    "    text=text.replace('\\n','').replace('\\t','').replace('\\r','')\n",
    "    dict[title]=text"
   ]
  },
  {
   "cell_type": "code",
   "execution_count": 104,
   "metadata": {},
   "outputs": [
    {
     "data": {
      "text/plain": [
       "75"
      ]
     },
     "execution_count": 104,
     "metadata": {},
     "output_type": "execute_result"
    }
   ],
   "source": [
    "len(dict)"
   ]
  },
  {
   "cell_type": "code",
   "execution_count": null,
   "metadata": {},
   "outputs": [],
   "source": [
    "with open('연합뉴스_의료정책.csv','w',-1,encoding='utf=8') as f:\n",
    "    w=csv.writer(f)\n",
    "    w.writerow(dict.keys())\n",
    "    w.writerow(dict.values())"
   ]
  },
  {
   "cell_type": "code",
   "execution_count": null,
   "metadata": {},
   "outputs": [],
   "source": [
    "with open('연합뉴스_부동산정책.csv','w',-1,encoding='utf=8') as f:\n",
    "    w=csv.writer(f)\n",
    "    w.writerow(dict.keys())\n",
    "    w.writerow(dict.values())"
   ]
  },
  {
   "cell_type": "code",
   "execution_count": 105,
   "metadata": {},
   "outputs": [],
   "source": [
    "with open('연합뉴스_코로나방역.csv','w',-1,encoding='utf=8') as f:\n",
    "    w=csv.writer(f)\n",
    "    w.writerow(dict.keys())\n",
    "    w.writerow(dict.values())"
   ]
  },
  {
   "cell_type": "code",
   "execution_count": 30,
   "metadata": {
    "scrolled": true
   },
   "outputs": [],
   "source": [
    "a=pd.read_csv('C:/Users/user/연합뉴스_의료정책.csv',encoding='utf-8')\n",
    "a=a.transpose()\n",
    "b=list\n",
    "title=b(a.index)\n",
    "c=list\n",
    "text=a[0]\n",
    "text=c(text)\n",
    "source=pd.DataFrame({'Title':title,'Text':text})\n",
    "source=source.iloc[:60]\n",
    "source['Press']='연합뉴스'\n",
    "source=source[['Press','Title','Text']]\n",
    "source.to_csv('연합뉴스_의료정책.csv',encoding='euc-kr')"
   ]
  },
  {
   "cell_type": "code",
   "execution_count": 31,
   "metadata": {},
   "outputs": [],
   "source": [
    "a=pd.read_csv('C:/Users/user/연합뉴스_부동산정책.csv',encoding='utf-8')\n",
    "a=a.transpose()\n",
    "b=list\n",
    "title=b(a.index)\n",
    "c=list\n",
    "text=a[0]\n",
    "text=c(text)\n",
    "source=pd.DataFrame({'Title':title,'Text':text})\n",
    "source=source.iloc[:60]\n",
    "source['Press']='연합뉴스'\n",
    "source=source[['Press','Title','Text']]\n",
    "source.to_csv('연합뉴스_부동산정책.csv',encoding='euc-kr')"
   ]
  },
  {
   "cell_type": "code",
   "execution_count": 28,
   "metadata": {},
   "outputs": [],
   "source": [
    "a=pd.read_csv('C:/Users/user/Downloads/연합뉴스_코로나방역.csv',encoding='utf-8')\n",
    "a=a.transpose()\n",
    "b=list\n",
    "title=b(a.index)\n",
    "c=list\n",
    "text=a[0]\n",
    "text=c(text)\n",
    "source=pd.DataFrame({'Title':title,'Text':text})\n",
    "source=source.iloc[:60]\n",
    "source['Press']='연합뉴스'\n",
    "source=source[['Press','Title','Text']]\n",
    "source.to_csv('연합뉴스_코로나방역.csv',encoding='euc-kr')"
   ]
  },
  {
   "cell_type": "code",
   "execution_count": null,
   "metadata": {},
   "outputs": [],
   "source": [
    "#MBN"
   ]
  },
  {
   "cell_type": "code",
   "execution_count": 51,
   "metadata": {},
   "outputs": [],
   "source": [
    "browser=webdriver.Chrome('chromedriver.exe')\n",
    "browser.get('http://search.mbn.co.kr:8080/MBN/search.jsp')\n",
    "browser.find_element_by_xpath('//*[@id=\"query\"]').send_keys('부동산정책')\n",
    "browser.find_element_by_xpath('//*[@id=\"header\"]/div[2]/form/fieldset/div[1]/input[2]').click()\n",
    "browser.find_element_by_xpath('//*[@id=\"mainContent\"]/div[1]/ul[1]/li[4]/a').click()\n",
    "browser.find_element_by_xpath('//*[@id=\"mainContent\"]/div[1]/ul[2]/li[2]/input[1]').click()\n",
    "browser.find_element_by_xpath('//*[@id=\"range4\"]').click()\n",
    "browser.find_element_by_xpath('//*[@id=\"mainContent\"]/div[1]/ul[3]/li[2]/div/ul/li[6]/a/img').click()"
   ]
  },
  {
   "cell_type": "code",
   "execution_count": null,
   "metadata": {},
   "outputs": [],
   "source": [
    "browser=webdriver.Chrome('chromedriver.exe')\n",
    "browser.get('http://search.mbn.co.kr:8080/MBN/search.jsp')\n",
    "browser.find_element_by_xpath('//*[@id=\"query\"]').send_keys('의료정책')\n",
    "browser.find_element_by_xpath('//*[@id=\"header\"]/div[2]/form/fieldset/div[1]/input[2]').click()\n",
    "browser.find_element_by_xpath('//*[@id=\"mainContent\"]/div[1]/ul[1]/li[4]/a').click()\n",
    "browser.find_element_by_xpath('//*[@id=\"mainContent\"]/div[1]/ul[2]/li[2]/input[1]').click()\n",
    "browser.find_element_by_xpath('//*[@id=\"range4\"]').click()\n",
    "browser.find_element_by_xpath('//*[@id=\"mainContent\"]/div[1]/ul[3]/li[2]/div/ul/li[6]/a/img').click()"
   ]
  },
  {
   "cell_type": "code",
   "execution_count": null,
   "metadata": {},
   "outputs": [],
   "source": [
    "browser=webdriver.Chrome('chromedriver.exe')\n",
    "browser.get('http://search.mbn.co.kr:8080/MBN/search.jsp')\n",
    "browser.find_element_by_xpath('//*[@id=\"query\"]').send_keys('코로나방역')\n",
    "browser.find_element_by_xpath('//*[@id=\"header\"]/div[2]/form/fieldset/div[1]/input[2]').click()\n",
    "browser.find_element_by_xpath('//*[@id=\"mainContent\"]/div[1]/ul[1]/li[4]/a').click()\n",
    "browser.find_element_by_xpath('//*[@id=\"mainContent\"]/div[1]/ul[2]/li[2]/input[1]').click()\n",
    "browser.find_element_by_xpath('//*[@id=\"range4\"]').click()\n",
    "browser.find_element_by_xpath('//*[@id=\"mainContent\"]/div[1]/ul[3]/li[2]/div/ul/li[6]/a/img').click()"
   ]
  },
  {
   "cell_type": "code",
   "execution_count": 52,
   "metadata": {},
   "outputs": [],
   "source": [
    "url=[]\n",
    "html=browser.page_source\n",
    "soup=BeautifulSoup(html,'html.parser')\n",
    "attr=soup.select('div.collaction_news > ul > li > a') \n",
    "for urls in attr:\n",
    "    url.append(urls['href'])\n",
    "browser.find_element_by_xpath('//*[@id=\"search_result\"]/div[3]/a[2]').click()\n",
    "html=browser.page_source\n",
    "soup=BeautifulSoup(html,'html.parser')\n",
    "attr=soup.select('div.collaction_news > ul > li > a') \n",
    "for urls in attr:\n",
    "    url.append(urls['href'])\n",
    "browser.find_element_by_xpath('//*[@id=\"search_result\"]/div[3]/a[3]').click()\n",
    "html=browser.page_source\n",
    "soup=BeautifulSoup(html,'html.parser')\n",
    "attr=soup.select('div.collaction_news > ul > li > a') \n",
    "for urls in attr:\n",
    "    url.append(urls['href'])\n",
    "browser.find_element_by_xpath('//*[@id=\"search_result\"]/div[3]/a[4]').click()\n",
    "html=browser.page_source\n",
    "soup=BeautifulSoup(html,'html.parser')\n",
    "attr=soup.select('div.collaction_news > ul > li > a') \n",
    "for urls in attr:\n",
    "    url.append(urls['href'])\n",
    "browser.find_element_by_xpath('//*[@id=\"search_result\"]/div[3]/a[5]').click()\n",
    "html=browser.page_source\n",
    "soup=BeautifulSoup(html,'html.parser')\n",
    "attr=soup.select('div.collaction_news > ul > li > a') \n",
    "for urls in attr:\n",
    "    url.append(urls['href'])\n",
    "browser.find_element_by_xpath('//*[@id=\"search_result\"]/div[3]/a[6]').click()\n",
    "html=browser.page_source\n",
    "soup=BeautifulSoup(html,'html.parser')\n",
    "attr=soup.select('div.collaction_news > ul > li > a') \n",
    "for urls in attr:\n",
    "    url.append(urls['href'])"
   ]
  },
  {
   "cell_type": "code",
   "execution_count": 62,
   "metadata": {},
   "outputs": [
    {
     "data": {
      "text/plain": [
       "60"
      ]
     },
     "execution_count": 62,
     "metadata": {},
     "output_type": "execute_result"
    }
   ],
   "source": [
    "len(url)"
   ]
  },
  {
   "cell_type": "code",
   "execution_count": null,
   "metadata": {},
   "outputs": [],
   "source": [
    "len(dict)"
   ]
  },
  {
   "cell_type": "code",
   "execution_count": 60,
   "metadata": {},
   "outputs": [],
   "source": [
    "dict={}\n",
    "for i in range(len(url)):\n",
    "    browser.get(url[i])\n",
    "    time.sleep(5)\n",
    "    html=browser.page_source\n",
    "    soup=BeautifulSoup(html,'html.parser')\n",
    "    title=soup.find('div',{'class':'box01'}).text\n",
    "    title=title.replace('\\r','').replace('\\n','').replace('\\t','')\n",
    "    text=soup.find('div',{'class':'detail'}).text\n",
    "    text=text.replace('\\n','').replace('\\t','').replace('\\r','')\n",
    "    dict[title]=text"
   ]
  },
  {
   "cell_type": "code",
   "execution_count": 49,
   "metadata": {},
   "outputs": [],
   "source": [
    "with open('MBN뉴스_코로나방역.csv','w',-1,encoding='utf-8') as f:\n",
    "    w=csv.writer(f)\n",
    "    w.writerow(dict.keys())\n",
    "    w.writerow(dict.values())"
   ]
  },
  {
   "cell_type": "code",
   "execution_count": 56,
   "metadata": {},
   "outputs": [],
   "source": [
    "with open('MBN뉴스_부동산정책.csv','w',-1,encoding='utf-8') as f:\n",
    "    w=csv.writer(f)\n",
    "    w.writerow(dict.keys())\n",
    "    w.writerow(dict.values())"
   ]
  },
  {
   "cell_type": "code",
   "execution_count": null,
   "metadata": {},
   "outputs": [],
   "source": [
    "with open('MBN뉴스_의료정책.csv','w',-1,encoding='utf-8') as f:\n",
    "    w=csv.writer(f)\n",
    "    w.writerow(dict.keys())\n",
    "    w.writerow(dict.values())"
   ]
  },
  {
   "cell_type": "code",
   "execution_count": 47,
   "metadata": {
    "scrolled": true
   },
   "outputs": [],
   "source": [
    "a=pd.read_csv('C:/Users/user/MBN뉴스_의료정책.csv',encoding='utf-8')\n",
    "a=a.transpose()\n",
    "b=list\n",
    "title=b(a.index)\n",
    "c=list\n",
    "text=a[0]\n",
    "text=c(text)\n",
    "source=pd.DataFrame({'Title':title,'Text':text})\n",
    "source=source.iloc[:60]\n",
    "source['Press']='MBN뉴스'\n",
    "source=source[['Press','Title','Text']]\n",
    "source.to_csv('MBN뉴스_의료정책.csv',encoding='euc-kr')"
   ]
  },
  {
   "cell_type": "code",
   "execution_count": 57,
   "metadata": {},
   "outputs": [],
   "source": [
    "a=pd.read_csv('C:/Users/user/Downloads/MBN뉴스_부동산정책.csv',encoding='utf-8')\n",
    "a=a.transpose()\n",
    "b=list\n",
    "title=b(a.index)\n",
    "c=list\n",
    "text=a[0]\n",
    "text=c(text)\n",
    "source=pd.DataFrame({'Title':title,'Text':text})\n",
    "source=source.iloc[:60]\n",
    "source['Press']='MBN뉴스'\n",
    "source=source[['Press','Title','Text']]\n",
    "source.to_csv('MBN뉴스_부동산정책.csv',encoding='euc-kr')"
   ]
  },
  {
   "cell_type": "code",
   "execution_count": 50,
   "metadata": {},
   "outputs": [],
   "source": [
    "a=pd.read_csv('C:/Users/user/Downloads/MBN뉴스_코로나방역.csv',encoding='utf-8')\n",
    "a=a.transpose()\n",
    "b=list\n",
    "title=b(a.index)\n",
    "c=list\n",
    "text=a[0]\n",
    "text=c(text)\n",
    "source=pd.DataFrame({'Title':title,'Text':text})\n",
    "source=source.iloc[:60]\n",
    "source['Press']='MBN뉴스'\n",
    "source=source[['Press','Title','Text']]\n",
    "source.to_csv('MBN뉴스_코로나방역.csv',encoding='euc-kr')"
   ]
  },
  {
   "cell_type": "code",
   "execution_count": 54,
   "metadata": {},
   "outputs": [],
   "source": [
    "#tv조선"
   ]
  },
  {
   "cell_type": "code",
   "execution_count": 37,
   "metadata": {},
   "outputs": [],
   "source": [
    "browser=webdriver.Chrome('chromedriver.exe')\n",
    "browser.get('http://search.tvchosun.com/tvchosun/news.search?query={0}&starget=&scomplex=or&sdate=&categoryname=&categoryd2=&pageno=1&orderby=news&skind=&requery={1}&cont5=&category={2}&kind=&cont4=tab&sline=Y'.format('의료정책','의료정책','뉴스'))"
   ]
  },
  {
   "cell_type": "code",
   "execution_count": 38,
   "metadata": {},
   "outputs": [],
   "source": [
    "url=[]\n",
    "html=browser.page_source\n",
    "soup=BeautifulSoup(html,'html.parser')\n",
    "attr=soup.select('div.detail > p.article_tit > a')\n",
    "for urls in attr:\n",
    "    url.append(urls['href'])\n",
    "browser.find_element_by_xpath('//*[@id=\"wrap\"]/div[2]/div[3]/span/a[1]').click()\n",
    "html=browser.page_source\n",
    "soup=BeautifulSoup(html,'html.parser')\n",
    "attr=soup.select('div.detail > p.article_tit > a')\n",
    "for urls in attr:\n",
    "    url.append(urls['href'])\n",
    "browser.find_element_by_xpath('//*[@id=\"wrap\"]/div[2]/div[3]/span/a[2]').click()\n",
    "html=browser.page_source\n",
    "soup=BeautifulSoup(html,'html.parser')\n",
    "attr=soup.select('div.detail > p.article_tit > a')\n",
    "for urls in attr:\n",
    "    url.append(urls['href'])\n",
    "browser.find_element_by_xpath('//*[@id=\"wrap\"]/div[2]/div[3]/span/a[3]').click()\n",
    "html=browser.page_source\n",
    "soup=BeautifulSoup(html,'html.parser')\n",
    "attr=soup.select('div.detail > p.article_tit > a')\n",
    "for urls in attr:\n",
    "    url.append(urls['href'])"
   ]
  },
  {
   "cell_type": "code",
   "execution_count": 39,
   "metadata": {},
   "outputs": [
    {
     "ename": "AttributeError",
     "evalue": "'NoneType' object has no attribute 'text'",
     "output_type": "error",
     "traceback": [
      "\u001b[1;31m---------------------------------------------------------------------------\u001b[0m",
      "\u001b[1;31mAttributeError\u001b[0m                            Traceback (most recent call last)",
      "\u001b[1;32m<ipython-input-39-f098f3822020>\u001b[0m in \u001b[0;36m<module>\u001b[1;34m\u001b[0m\n\u001b[0;32m      4\u001b[0m     \u001b[0mhtml\u001b[0m\u001b[1;33m=\u001b[0m\u001b[0mbrowser\u001b[0m\u001b[1;33m.\u001b[0m\u001b[0mpage_source\u001b[0m\u001b[1;33m\u001b[0m\u001b[1;33m\u001b[0m\u001b[0m\n\u001b[0;32m      5\u001b[0m     \u001b[0msoup\u001b[0m\u001b[1;33m=\u001b[0m\u001b[0mBeautifulSoup\u001b[0m\u001b[1;33m(\u001b[0m\u001b[0mhtml\u001b[0m\u001b[1;33m,\u001b[0m\u001b[1;34m'html.parser'\u001b[0m\u001b[1;33m)\u001b[0m\u001b[1;33m\u001b[0m\u001b[1;33m\u001b[0m\u001b[0m\n\u001b[1;32m----> 6\u001b[1;33m     \u001b[0mtitle\u001b[0m\u001b[1;33m=\u001b[0m\u001b[0msoup\u001b[0m\u001b[1;33m.\u001b[0m\u001b[0mfind\u001b[0m\u001b[1;33m(\u001b[0m\u001b[1;34m'h3'\u001b[0m\u001b[1;33m,\u001b[0m\u001b[1;33m{\u001b[0m\u001b[1;34m'class'\u001b[0m\u001b[1;33m:\u001b[0m\u001b[1;34m'title'\u001b[0m\u001b[1;33m}\u001b[0m\u001b[1;33m)\u001b[0m\u001b[1;33m.\u001b[0m\u001b[0mtext\u001b[0m\u001b[1;33m\u001b[0m\u001b[1;33m\u001b[0m\u001b[0m\n\u001b[0m\u001b[0;32m      7\u001b[0m     \u001b[0mtitle\u001b[0m\u001b[1;33m=\u001b[0m\u001b[0mtitle\u001b[0m\u001b[1;33m.\u001b[0m\u001b[0mreplace\u001b[0m\u001b[1;33m(\u001b[0m\u001b[1;34m'\\r'\u001b[0m\u001b[1;33m,\u001b[0m\u001b[1;34m''\u001b[0m\u001b[1;33m)\u001b[0m\u001b[1;33m.\u001b[0m\u001b[0mreplace\u001b[0m\u001b[1;33m(\u001b[0m\u001b[1;34m'\\n'\u001b[0m\u001b[1;33m,\u001b[0m\u001b[1;34m''\u001b[0m\u001b[1;33m)\u001b[0m\u001b[1;33m.\u001b[0m\u001b[0mreplace\u001b[0m\u001b[1;33m(\u001b[0m\u001b[1;34m'\\t'\u001b[0m\u001b[1;33m,\u001b[0m\u001b[1;34m''\u001b[0m\u001b[1;33m)\u001b[0m\u001b[1;33m\u001b[0m\u001b[1;33m\u001b[0m\u001b[0m\n\u001b[0;32m      8\u001b[0m     \u001b[0mtext\u001b[0m\u001b[1;33m=\u001b[0m\u001b[0msoup\u001b[0m\u001b[1;33m.\u001b[0m\u001b[0mfind\u001b[0m\u001b[1;33m(\u001b[0m\u001b[1;34m'div'\u001b[0m\u001b[1;33m,\u001b[0m\u001b[1;33m{\u001b[0m\u001b[1;34m'class'\u001b[0m\u001b[1;33m:\u001b[0m\u001b[1;34m'article_detail_body'\u001b[0m\u001b[1;33m}\u001b[0m\u001b[1;33m)\u001b[0m\u001b[1;33m.\u001b[0m\u001b[0mtext\u001b[0m\u001b[1;33m\u001b[0m\u001b[1;33m\u001b[0m\u001b[0m\n",
      "\u001b[1;31mAttributeError\u001b[0m: 'NoneType' object has no attribute 'text'"
     ]
    }
   ],
   "source": [
    "dict={}\n",
    "for i in range(len(url)):\n",
    "    browser.get(url[i])\n",
    "    html=browser.page_source\n",
    "    soup=BeautifulSoup(html,'html.parser')\n",
    "    title=soup.find('h3',{'class':'title'}).text\n",
    "    title=title.replace('\\r','').replace('\\n','').replace('\\t','')\n",
    "    text=soup.find('div',{'class':'article_detail_body'}).text\n",
    "    text=text.replace('\\n','').replace('\\t','').replace('\\r','')\n",
    "    dict[title]=text"
   ]
  },
  {
   "cell_type": "code",
   "execution_count": null,
   "metadata": {},
   "outputs": [],
   "source": [
    "len(dict)"
   ]
  },
  {
   "cell_type": "code",
   "execution_count": null,
   "metadata": {},
   "outputs": [],
   "source": [
    "with open('TV조선_의료정책.csv','w',-1,encoding='utf-8') as f:\n",
    "    w=csv.writer(f)\n",
    "    w.writerow(dict.keys())\n",
    "    w.writerow(dict.values())"
   ]
  },
  {
   "cell_type": "code",
   "execution_count": null,
   "metadata": {},
   "outputs": [],
   "source": [
    "with open('TV조선_부동산정책.csv','w',-1,encoding='utf-8') as f:\n",
    "    w=csv.writer(f)\n",
    "    w.writerow(dict.keys())\n",
    "    w.writerow(dict.values())"
   ]
  },
  {
   "cell_type": "code",
   "execution_count": null,
   "metadata": {},
   "outputs": [],
   "source": [
    "with open('TV조선_코로나방역.csv','w',-1,encoding='utf-8') as f:\n",
    "    w=csv.writer(f)\n",
    "    w.writerow(dict.keys())\n",
    "    w.writerow(dict.values())"
   ]
  },
  {
   "cell_type": "code",
   "execution_count": null,
   "metadata": {},
   "outputs": [],
   "source": [
    "a=pd.read_csv('C:/Users/user/Downloads/TV조선_의료정책.csv',encoding='utf-8')\n",
    "a=a.transpose()\n",
    "b=list\n",
    "title=b(a.index)\n",
    "c=list\n",
    "text=a[0]\n",
    "text=c(text)\n",
    "source=pd.DataFrame({'Title':title,'Text':text})\n",
    "source=source.iloc[:60]\n",
    "source['Press']='TV조선'\n",
    "source=source[['Press','Title','Text']]\n",
    "source.to_csv('TV조선_의료정책.csv',encoding='euc-kr')"
   ]
  },
  {
   "cell_type": "code",
   "execution_count": null,
   "metadata": {},
   "outputs": [],
   "source": [
    "a=pd.read_csv('C:/Users/user/Downloads/TV조선_부동산정책.csv',encoding='utf-8')\n",
    "a=a.transpose()\n",
    "b=list\n",
    "title=b(a.index)\n",
    "c=list\n",
    "text=a[0]\n",
    "text=c(text)\n",
    "source=pd.DataFrame({'Title':title,'Text':text})\n",
    "source=source.iloc[:60]\n",
    "source['Press']='TV조선'\n",
    "source=source[['Press','Title','Text']]\n",
    "source.to_csv('TV조선_부동산정책.csv',encoding='euc-kr')"
   ]
  },
  {
   "cell_type": "code",
   "execution_count": null,
   "metadata": {},
   "outputs": [],
   "source": [
    "a=pd.read_csv('C:/Users/user/Downloads/TV조선_코로나방역.csv',encoding='utf-8')\n",
    "a=a.transpose()\n",
    "b=list\n",
    "title=b(a.index)\n",
    "c=list\n",
    "text=a[0]\n",
    "text=c(text)\n",
    "source=pd.DataFrame({'Title':title,'Text':text})\n",
    "source=source.iloc[:60]\n",
    "source['Press']='TV조선'\n",
    "source=source[['Press','Title','Text']]\n",
    "source.to_csv('TV조선_코로나방역.csv',encoding='euc-kr')"
   ]
  },
  {
   "cell_type": "code",
   "execution_count": null,
   "metadata": {},
   "outputs": [],
   "source": [
    "#mbc"
   ]
  },
  {
   "cell_type": "code",
   "execution_count": 24,
   "metadata": {},
   "outputs": [],
   "source": [
    "browser=webdriver.Chrome('chromedriver.exe')"
   ]
  },
  {
   "cell_type": "code",
   "execution_count": 18,
   "metadata": {},
   "outputs": [],
   "source": [
    "browser=webdriver.Chrome('chromedriver.exe')\n",
    "browser.get('https://imnews.imbc.com/more/search/?search_kwd={}#page=0'.format('의료정책'))\n",
    "html=browser.page_source\n",
    "soup=BeautifulSoup(html,'html.parser')\n",
    "attr=soup.select('ul.thumb_type > li > a')\n",
    "url=[]\n",
    "for urls in attr:\n",
    "    url.append(urls['href'])\n",
    "browser.get('https://imnews.imbc.com/more/search/?search_kwd={}#page=1'.format('의료정책'))\n",
    "html=browser.page_source\n",
    "soup=BeautifulSoup(html,'html.parser')\n",
    "attr=soup.select('ul.thumb_type > li > a')\n",
    "for urls in attr:\n",
    "    url.append(urls['href'])\n",
    "browser.get('https://imnews.imbc.com/more/search/?search_kwd={}#page=2'.format('의료정책'))\n",
    "html=browser.page_source\n",
    "soup=BeautifulSoup(html,'html.parser')\n",
    "attr=soup.select('ul.thumb_type > li > a')\n",
    "for urls in attr:\n",
    "    url.append(urls['href'])\n",
    "browser.get('https://imnews.imbc.com/more/search/?search_kwd={}#page=3'.format('의료정책'))\n",
    "html=browser.page_source\n",
    "soup=BeautifulSoup(html,'html.parser')\n",
    "attr=soup.select('ul.thumb_type > li > a')\n",
    "for urls in attr:\n",
    "    url.append(urls['href'])\n",
    "browser.get('https://imnews.imbc.com/more/search/?search_kwd={}#page=4'.format('의료정책'))\n",
    "html=browser.page_source\n",
    "soup=BeautifulSoup(html,'html.parser')\n",
    "attr=soup.select('ul.thumb_type > li > a')\n",
    "for urls in attr:\n",
    "    url.append(urls['href'])\n",
    "browser.get('https://imnews.imbc.com/more/search/?search_kwd={}#page=5'.format('의료정책'))\n",
    "html=browser.page_source\n",
    "soup=BeautifulSoup(html,'html.parser')\n",
    "attr=soup.select('ul.thumb_type > li > a')\n",
    "for urls in attr:\n",
    "    url.append(urls['href'])\n",
    "browser.get('https://imnews.imbc.com/more/search/?search_kwd={}#page=6'.format('의료정책'))\n",
    "html=browser.page_source\n",
    "soup=BeautifulSoup(html,'html.parser')\n",
    "attr=soup.select('ul.thumb_type > li > a')\n",
    "for urls in attr:\n",
    "    url.append(urls['href'])\n",
    "browser.get('https://imnews.imbc.com/more/search/?search_kwd={}#page=7'.format('의료정책'))\n",
    "html=browser.page_source\n",
    "soup=BeautifulSoup(html,'html.parser')\n",
    "attr=soup.select('ul.thumb_type > li > a')\n",
    "for urls in attr:\n",
    "    url.append(urls['href'])\n",
    "browser.get('https://imnews.imbc.com/more/search/?search_kwd={}#page=8'.format('의료정책'))\n",
    "html=browser.page_source\n",
    "soup=BeautifulSoup(html,'html.parser')\n",
    "attr=soup.select('ul.thumb_type > li > a')\n",
    "for urls in attr:\n",
    "    url.append(urls['href'])\n",
    "browser.get('https://imnews.imbc.com/more/search/?search_kwd={}#page=9'.format('의료정책'))\n",
    "html=browser.page_source\n",
    "soup=BeautifulSoup(html,'html.parser')\n",
    "attr=soup.select('ul.thumb_type > li > a')\n",
    "for urls in attr:\n",
    "    url.append(urls['href'])\n",
    "browser.get('https://imnews.imbc.com/more/search/?search_kwd={}#page=10'.format('의료정책'))\n",
    "html=browser.page_source\n",
    "soup=BeautifulSoup(html,'html.parser')\n",
    "attr=soup.select('ul.thumb_type > li > a')\n",
    "for urls in attr:\n",
    "    url.append(urls['href'])\n",
    "browser.get('https://imnews.imbc.com/more/search/?search_kwd={}#page=11'.format('의료정책'))\n",
    "html=browser.page_source\n",
    "soup=BeautifulSoup(html,'html.parser')\n",
    "attr=soup.select('ul.thumb_type > li > a')\n",
    "for urls in attr:\n",
    "    url.append(urls['href'])\n",
    "browser.get('https://imnews.imbc.com/more/search/?search_kwd={}#page=12'.format('의료정책'))\n",
    "html=browser.page_source\n",
    "soup=BeautifulSoup(html,'html.parser')\n",
    "attr=soup.select('ul.thumb_type > li > a')\n",
    "for urls in attr:\n",
    "    url.append(urls['href'])"
   ]
  },
  {
   "cell_type": "code",
   "execution_count": 21,
   "metadata": {
    "scrolled": true
   },
   "outputs": [
    {
     "ename": "AttributeError",
     "evalue": "'NoneType' object has no attribute 'text'",
     "output_type": "error",
     "traceback": [
      "\u001b[1;31m---------------------------------------------------------------------------\u001b[0m",
      "\u001b[1;31mAttributeError\u001b[0m                            Traceback (most recent call last)",
      "\u001b[1;32m<ipython-input-21-3e1813a2345d>\u001b[0m in \u001b[0;36m<module>\u001b[1;34m\u001b[0m\n\u001b[0;32m      6\u001b[0m     \u001b[0mhtml\u001b[0m\u001b[1;33m=\u001b[0m\u001b[0mbrowser\u001b[0m\u001b[1;33m.\u001b[0m\u001b[0mpage_source\u001b[0m\u001b[1;33m\u001b[0m\u001b[1;33m\u001b[0m\u001b[0m\n\u001b[0;32m      7\u001b[0m     \u001b[0msoup\u001b[0m\u001b[1;33m=\u001b[0m\u001b[0mBeautifulSoup\u001b[0m\u001b[1;33m(\u001b[0m\u001b[0mhtml\u001b[0m\u001b[1;33m,\u001b[0m\u001b[1;34m'html.parser'\u001b[0m\u001b[1;33m)\u001b[0m\u001b[1;33m\u001b[0m\u001b[1;33m\u001b[0m\u001b[0m\n\u001b[1;32m----> 8\u001b[1;33m     \u001b[0mtitle\u001b[0m\u001b[1;33m=\u001b[0m\u001b[0msoup\u001b[0m\u001b[1;33m.\u001b[0m\u001b[0mfind\u001b[0m\u001b[1;33m(\u001b[0m\u001b[1;34m'strong'\u001b[0m\u001b[1;33m,\u001b[0m\u001b[1;33m{\u001b[0m\u001b[1;34m'class'\u001b[0m\u001b[1;33m:\u001b[0m\u001b[1;34m'title'\u001b[0m\u001b[1;33m}\u001b[0m\u001b[1;33m)\u001b[0m\u001b[1;33m.\u001b[0m\u001b[0mtext\u001b[0m\u001b[1;33m\u001b[0m\u001b[1;33m\u001b[0m\u001b[0m\n\u001b[0m\u001b[0;32m      9\u001b[0m     \u001b[0mtitle\u001b[0m\u001b[1;33m=\u001b[0m\u001b[0mtitle\u001b[0m\u001b[1;33m.\u001b[0m\u001b[0mreplace\u001b[0m\u001b[1;33m(\u001b[0m\u001b[1;34m'\\r'\u001b[0m\u001b[1;33m,\u001b[0m\u001b[1;34m''\u001b[0m\u001b[1;33m)\u001b[0m\u001b[1;33m.\u001b[0m\u001b[0mreplace\u001b[0m\u001b[1;33m(\u001b[0m\u001b[1;34m'\\n'\u001b[0m\u001b[1;33m,\u001b[0m\u001b[1;34m''\u001b[0m\u001b[1;33m)\u001b[0m\u001b[1;33m.\u001b[0m\u001b[0mreplace\u001b[0m\u001b[1;33m(\u001b[0m\u001b[1;34m'\\t'\u001b[0m\u001b[1;33m,\u001b[0m\u001b[1;34m''\u001b[0m\u001b[1;33m)\u001b[0m\u001b[1;33m\u001b[0m\u001b[1;33m\u001b[0m\u001b[0m\n\u001b[0;32m     10\u001b[0m     \u001b[0mtext\u001b[0m\u001b[1;33m=\u001b[0m\u001b[0msoup\u001b[0m\u001b[1;33m.\u001b[0m\u001b[0mfind\u001b[0m\u001b[1;33m(\u001b[0m\u001b[1;34m'div'\u001b[0m\u001b[1;33m,\u001b[0m\u001b[1;33m{\u001b[0m\u001b[1;34m'id'\u001b[0m\u001b[1;33m:\u001b[0m\u001b[1;34m'articleBody'\u001b[0m\u001b[1;33m}\u001b[0m\u001b[1;33m)\u001b[0m\u001b[1;33m.\u001b[0m\u001b[0mtext\u001b[0m\u001b[1;33m\u001b[0m\u001b[1;33m\u001b[0m\u001b[0m\n",
      "\u001b[1;31mAttributeError\u001b[0m: 'NoneType' object has no attribute 'text'"
     ]
    }
   ],
   "source": [
    "dict={}\n",
    "\n",
    "for i in range(len(url)):\n",
    "    browser.get('https://imnews.imbc.com/'+url[i])\n",
    "    time.sleep(1)\n",
    "    html=browser.page_source\n",
    "    soup=BeautifulSoup(html,'html.parser')\n",
    "    title=soup.find('h2',{'class':'art_title'}).text\n",
    "    title=title.replace('\\r','').replace('\\n','').replace('\\t','')\n",
    "    text=soup.find('div',{'class':'news_txt'}).text\n",
    "    text=text.replace('\\n','').replace('\\t','').replace('\\r','')\n",
    "    dict[title]=text"
   ]
  },
  {
   "cell_type": "code",
   "execution_count": 27,
   "metadata": {},
   "outputs": [
    {
     "data": {
      "text/plain": [
       "{'\\'임신 14주\\'까지 낙태 허용…여성계는 \"거꾸로 후퇴\" 반발': ' 앵커 앞으로 임신 초기 낙태가 법적으로 허용됩니다.임신 14주까지는 여성의 뜻에 따라 자유롭게 낙태를 할 수 있고, 이후 24주까지는 특정 조건에 해당되는 경우 낙태가 가능해집니다.지난해 헌재가 모든 낙태를 처벌하는 형법 조항에 대해 헌법불합치 결정을 내린 뒤 정부가 개정안을 만든 겁니다.그동안 낙태죄는 완전 폐지를 요구하는 여성계와 유지를 주장하는 종교계가 팽팽하게 맞서왔는데요.그 중간에 절충적인 방안이 마련되면서, 양쪽 모두에서 반발의 목소리가 나오고 있습니다.먼저 정부의 입법 예고안을 윤수한 기자가 보도합니다. 리포트 지난해 4월 헌법재판소가 낙태죄에 \\'헌법불합치\\' 결정을 내린 건, \\'현행법이 여성의 자기 결정권을 과도하게 침해한다\\'는 취지였습니다.따라서 정부는 오늘 입법예고된 형법과 모자보건법 개정안에서 임신한 여성이 동의할 경우 14주 이내의 낙태를 무조건 허용하기로 했습니다.태아가 덜 발달한 데다 안전한 수술이 가능한 시기라는 겁니다. 15주부터 24주까지의 낙태 조건으로는 성범죄 등 현행법의 허용 범위 외에 \\'사회·경제적 이유\\'가 추가됐습니다.일이나 학업 중이거나, 소득이 불안정한 경우, 상대 남성이 육아 책임을 거부하는 상황 등이 해당됩니다.의료진의 상담과 24시간 \\'숙려 기간\\'을 거치도록 했지만, 여성이 낙태 사유를 객관적으로 입증할 의무는 없습니다.법무부 관계자는 \"상담과 숙려기간 뒤에도 낙태를 결정했다면, 임신을 유지할 수 없는 곤경에 처한 걸로 간주된다\"고 밝혀 사실상 임신 24주까지 낙태가 허용된 셈이라는 평가가 나옵니다.또 낙태 시술의 \\'배우자 동의\\' 조항이 삭제되고, 미성년자도 보호자 허락을 받을 필요가 없어졌습니다.정부는 40일간 의견 수렴을 거쳐 올해 안에 입법을 마칠 계획이지만, \\'낙태죄 전면 폐지\\'를 요구해 온 여성계 등은 벌써 반발하고 있습니다.임신 주수에 따른 처벌 조항이 유지된 점 등이 헌재의 결정 취지를 거슬렀다는 겁니다.한국여성단체연합과 민변은 각각 \"실질적 처벌만 부활시킨 참담한 입법\" \"위헌적이고 시대착오적 법안\"이라고 비판했습니다.[김엘림/법무부 양성평등정책위 민간위원장]\"여성의 자기결정권을 역시 이번에도 경시했다는 점이고요. 또 하나는 14주라는 기준이 그 처벌의 기준이 되는데 그게(임신 시점이) 명확하지가 않게 된다는 거죠.\"여성단체들은 내일부터 릴레이 기자회견과 청와대 앞 1인 시위 등에 나설 계획입니다.MBC 뉴스 윤수한입니다.(영상편집 : 이화영)[연관기사]1. \\'임신 14주\\'까지 낙태 허용…여성계는 \"거꾸로 후퇴\" 반발2. \\'먹는 낙태약\\'도 합법화…\\'24주 이후\\'는 예외없이 처벌?MBC 뉴스는 24시간 여러분의 제보를 기다립니다. ▷ 전화 02-784-4000▷ 이메일 mbcjebo@mbc.co.kr▷ 카카오톡 @mbc제보                                                                                                                                                                                                                                                                                                                                                                                                                                                                                                                                                                                                                                                                                                                                                                                                                                                                                                                                                                                                                                                                                                                                                                                                                                                                                                                                                                                                                                                                                                                                                                                                                                                                                                                                                                                                                                                                                                                                                                                                                                                                                                                                                                                                                                                                                                                                                                '}"
      ]
     },
     "execution_count": 27,
     "metadata": {},
     "output_type": "execute_result"
    }
   ],
   "source": [
    "with open('mbc_의료정책.csv','w',-1,encoding='utf-8') as f:\n",
    "    w=csv.writer(f)\n",
    "    w.writerow(dict.keys())\n",
    "    w.writerow(dict.values())"
   ]
  },
  {
   "cell_type": "code",
   "execution_count": null,
   "metadata": {},
   "outputs": [],
   "source": [
    "with open('mbc_부동산정책.csv','w',-1,encoding='utf-8') as f:\n",
    "    w=csv.writer(f)\n",
    "    w.writerow(dict.keys())\n",
    "    w.writerow(dict.values())"
   ]
  },
  {
   "cell_type": "code",
   "execution_count": null,
   "metadata": {},
   "outputs": [],
   "source": [
    "with open('mbc_코로나방역.csv','w',-1,encoding='utf-8') as f:\n",
    "    w=csv.writer(f)\n",
    "    w.writerow(dict.keys())\n",
    "    w.writerow(dict.values())"
   ]
  },
  {
   "cell_type": "code",
   "execution_count": null,
   "metadata": {},
   "outputs": [],
   "source": [
    "a=pd.read_csv('C:/Users/user/Downloads/MBC_코로나방역.csv',encoding='utf-8')\n",
    "a=a.transpose()\n",
    "b=list\n",
    "title=b(a.index)\n",
    "c=list\n",
    "text=a[0]\n",
    "text=c(text)\n",
    "source=pd.DataFrame({'Title':title,'Text':text})\n",
    "source=source.iloc[:60]\n",
    "source['Press']='MBC'\n",
    "source=source[['Press','Title','Text']]\n",
    "source.to_csv('MBC_코로나방역.csv',encoding='euc-kr')"
   ]
  },
  {
   "cell_type": "code",
   "execution_count": null,
   "metadata": {},
   "outputs": [],
   "source": [
    "a=pd.read_csv('C:/Users/user/Downloads/MBC_부동산정책.csv',encoding='utf-8')\n",
    "a=a.transpose()\n",
    "b=list\n",
    "title=b(a.index)\n",
    "c=list\n",
    "text=a[0]\n",
    "text=c(text)\n",
    "source=pd.DataFrame({'Title':title,'Text':text})\n",
    "source=source.iloc[:60]\n",
    "source['Press']='MBC'\n",
    "source=source[['Press','Title','Text']]\n",
    "source.to_csv('MBC_부동산정책.csv',encoding='euc-kr')"
   ]
  },
  {
   "cell_type": "code",
   "execution_count": null,
   "metadata": {},
   "outputs": [],
   "source": [
    "a=pd.read_csv('C:/Users/user/Downloads/MBC_의료정책.csv',encoding='utf-8')\n",
    "a=a.transpose()\n",
    "b=list\n",
    "title=b(a.index)\n",
    "c=list\n",
    "text=a[0]\n",
    "text=c(text)\n",
    "source=pd.DataFrame({'Title':title,'Text':text})\n",
    "source=source.iloc[:60]\n",
    "source['Press']='MBC'\n",
    "source=source[['Press','Title','Text']]\n",
    "source.to_csv('MBC_의료정책.csv',encoding='euc-kr')"
   ]
  },
  {
   "cell_type": "code",
   "execution_count": 44,
   "metadata": {},
   "outputs": [],
   "source": [
    "browser=webdriver.Chrome('chromedriver.exe')\n",
    "browser.get('https://www.news1.kr')\n",
    "browser.find_element_by_xpath('//*[@id=\"query\"]').send_keys('의료정책')\n",
    "browser.find_element_by_xpath('//*[@id=\"pront_top_search\"]/button').click()\n",
    "browser.find_element_by_xpath('//*[@id=\"lnb\"]/ul/li[2]/a').click()\n",
    "browser.find_element_by_xpath('//*[@id=\"lnb\"]/div/fieldset[1]/ul/li[1]/a').click()\n",
    "browser.find_element_by_xpath('//*[@id=\"range_3M\"]/a').click()\n",
    "browser.find_element_by_xpath('//*[@id=\"lnb\"]/div/fieldset[2]/div/div/a').click()"
   ]
  },
  {
   "cell_type": "code",
   "execution_count": 48,
   "metadata": {},
   "outputs": [],
   "source": [
    "url=[]\n",
    "html=browser.page_source\n",
    "soup=BeautifulSoup(html,'html.parser')\n",
    "attr=soup.select('ul > li > dl > dt >a ')\n",
    "for urls in attr:\n",
    "    url.append(urls['href'])\n",
    "browser.find_element_by_xpath('//*[@id=\"content\"]/div[3]/span/a[1]').click()\n",
    "html=browser.page_source\n",
    "soup=BeautifulSoup(html,'html.parser')\n",
    "attr=soup.select('ul > li > dl > dt >a ')\n",
    "for urls in attr:\n",
    "    url.append(urls['href'])\n",
    "browser.find_element_by_xpath('//*[@id=\"content\"]/div[3]/span/a[2]').click()\n",
    "html=browser.page_source\n",
    "soup=BeautifulSoup(html,'html.parser')\n",
    "attr=soup.select('ul > li > dl > dt >a ')\n",
    "for urls in attr:\n",
    "    url.append(urls['href'])\n",
    "browser.find_element_by_xpath('//*[@id=\"content\"]/div[3]/span/a[3]').click()  \n",
    "html=browser.page_source\n",
    "soup=BeautifulSoup(html,'html.parser')\n",
    "attr=soup.select('ul > li > dl > dt >a ')\n",
    "for urls in attr:\n",
    "    url.append(urls['href'])\n",
    "    "
   ]
  },
  {
   "cell_type": "code",
   "execution_count": 52,
   "metadata": {},
   "outputs": [],
   "source": [
    "browser=webdriver.Chrome('chromedriver.exe')"
   ]
  },
  {
   "cell_type": "code",
   "execution_count": 50,
   "metadata": {},
   "outputs": [
    {
     "ename": "NameError",
     "evalue": "name 'find_element_by_xpath' is not defined",
     "output_type": "error",
     "traceback": [
      "\u001b[1;31m---------------------------------------------------------------------------\u001b[0m",
      "\u001b[1;31mNameError\u001b[0m                                 Traceback (most recent call last)",
      "\u001b[1;32m<ipython-input-50-bb2bf91d8824>\u001b[0m in \u001b[0;36m<module>\u001b[1;34m\u001b[0m\n\u001b[0;32m      6\u001b[0m     \u001b[0mhtml\u001b[0m\u001b[1;33m=\u001b[0m\u001b[0mbrowser\u001b[0m\u001b[1;33m.\u001b[0m\u001b[0mpage_source\u001b[0m\u001b[1;33m\u001b[0m\u001b[1;33m\u001b[0m\u001b[0m\n\u001b[0;32m      7\u001b[0m     \u001b[0msoup\u001b[0m\u001b[1;33m=\u001b[0m\u001b[0mBeautifulSoup\u001b[0m\u001b[1;33m(\u001b[0m\u001b[0mhtml\u001b[0m\u001b[1;33m,\u001b[0m\u001b[1;34m'html.parser'\u001b[0m\u001b[1;33m)\u001b[0m\u001b[1;33m\u001b[0m\u001b[1;33m\u001b[0m\u001b[0m\n\u001b[1;32m----> 8\u001b[1;33m     \u001b[0mtitle\u001b[0m\u001b[1;33m=\u001b[0m\u001b[0mfind_element_by_xpath\u001b[0m\u001b[1;33m(\u001b[0m\u001b[1;34m'//*[@id=\"article_body_content\"]/div[1]/h2'\u001b[0m\u001b[1;33m)\u001b[0m\u001b[1;33m.\u001b[0m\u001b[0mtext\u001b[0m\u001b[1;33m(\u001b[0m\u001b[1;33m)\u001b[0m\u001b[1;33m\u001b[0m\u001b[1;33m\u001b[0m\u001b[0m\n\u001b[0m\u001b[0;32m      9\u001b[0m     \u001b[0mtitle\u001b[0m\u001b[1;33m=\u001b[0m\u001b[0mtitle\u001b[0m\u001b[1;33m.\u001b[0m\u001b[0mreplace\u001b[0m\u001b[1;33m(\u001b[0m\u001b[1;34m'\\r'\u001b[0m\u001b[1;33m,\u001b[0m\u001b[1;34m''\u001b[0m\u001b[1;33m)\u001b[0m\u001b[1;33m.\u001b[0m\u001b[0mreplace\u001b[0m\u001b[1;33m(\u001b[0m\u001b[1;34m'\\n'\u001b[0m\u001b[1;33m,\u001b[0m\u001b[1;34m''\u001b[0m\u001b[1;33m)\u001b[0m\u001b[1;33m.\u001b[0m\u001b[0mreplace\u001b[0m\u001b[1;33m(\u001b[0m\u001b[1;34m'\\t'\u001b[0m\u001b[1;33m,\u001b[0m\u001b[1;34m''\u001b[0m\u001b[1;33m)\u001b[0m\u001b[1;33m\u001b[0m\u001b[1;33m\u001b[0m\u001b[0m\n\u001b[0;32m     10\u001b[0m     \u001b[0mtext\u001b[0m\u001b[1;33m=\u001b[0m\u001b[0mfind_element_by_xpath\u001b[0m\u001b[1;33m(\u001b[0m\u001b[1;34m'//*[@id=\"articles_detail\"]'\u001b[0m\u001b[1;33m)\u001b[0m\u001b[1;33m.\u001b[0m\u001b[0mtext\u001b[0m\u001b[1;33m(\u001b[0m\u001b[1;33m)\u001b[0m\u001b[1;33m\u001b[0m\u001b[1;33m\u001b[0m\u001b[0m\n",
      "\u001b[1;31mNameError\u001b[0m: name 'find_element_by_xpath' is not defined"
     ]
    }
   ],
   "source": [
    "dict={}\n",
    "\n",
    "for i in range(len(url)):\n",
    "    browser.get(url[i)\n",
    "    time.sleep(1)\n",
    "    html=browser.page_source\n",
    "    soup=BeautifulSoup(html,'html.parser')\n",
    "    title=soup.find('div',{'class':'title'}).text\n",
    "    title=title.replace('\\r','').replace('\\n','').replace('\\t','')\n",
    "    text=soup.find('div',{'class':'detail sa_area'}).text\n",
    "    text=text.replace('\\n','').replace('\\t','').replace('\\r','').replace('\\xa0','')\n",
    "    dict[title]=text"
   ]
  },
  {
   "cell_type": "code",
   "execution_count": 58,
   "metadata": {
    "scrolled": true
   },
   "outputs": [],
   "source": [
    "#ktv"
   ]
  },
  {
   "cell_type": "code",
   "execution_count": null,
   "metadata": {},
   "outputs": [],
   "source": [
    "browser=webdriver.Chrome('chromedriver.exe')"
   ]
  },
  {
   "cell_type": "code",
   "execution_count": null,
   "metadata": {},
   "outputs": [],
   "source": [
    "browser.get('http://www.ktv.go.kr/')\n",
    "browser.find_element_by_xpath('//*[@id=\"header_search_btn\"]').click()\n",
    "browser.find_element_by_xpath('//*[@id=\"header_query\"]').send_keys('의료정책')\n",
    "browser.find_element_by_xpath('//*[@id=\"header\"]/div[2]/div/div[2]/div[2]/form/button').click()\n",
    "browser.find_element_by_xpath('//*[@id=\"contents\"]/div[2]/ul/li[2]/a').click()"
   ]
  },
  {
   "cell_type": "code",
   "execution_count": null,
   "metadata": {},
   "outputs": [],
   "source": [
    "url=[]\n",
    "html=browser.page_source\n",
    "soup=BeautifulSoup(html,'html.parser')\n",
    "attr=soup.select('div > ul >li > a')\n",
    "for urls in attr:\n",
    "    url.append(urls['href'])\n",
    "browser.find_element_by_xpath('//*[@id=\"contents\"]/div[6]/a[3]').click()\n",
    "html=browser.page_source\n",
    "soup=BeautifulSoup(html,'html.parser')\n",
    "attr=soup.select('div > ul >li > a')\n",
    "for urls in attr:\n",
    "    url.append(urls['href'])\n",
    "browser.find_element_by_xpath('//*[@id=\"contents\"]/div[6]/a[4]').click()\n",
    "html=browser.page_source\n",
    "soup=BeautifulSoup(html,'html.parser')\n",
    "attr=soup.select('div > ul >li > a')\n",
    "for urls in attr:\n",
    "    url.append(urls['href'])\n",
    "browser.find_element_by_xpath('//*[@id=\"contents\"]/div[6]/a[5]').click()\n",
    "html=browser.page_source\n",
    "soup=BeautifulSoup(html,'html.parser')\n",
    "attr=soup.select('div > ul >li > a')\n",
    "for urls in attr:\n",
    "    url.append(urls['href'])\n",
    "browser.find_element_by_xpath('//*[@id=\"contents\"]/div[6]/a[6]').click()\n",
    "html=browser.page_source\n",
    "soup=BeautifulSoup(html,'html.parser')\n",
    "attr=soup.select('div > ul >li > a')\n",
    "for urls in attr:\n",
    "    url.append(urls['href'])\n",
    "browser.find_element_by_xpath('//*[@id=\"contents\"]/div[6]/a[7]').click()\n",
    "html=browser.page_source\n",
    "soup=BeautifulSoup(html,'html.parser')\n",
    "attr=soup.select('div > ul >li > a')\n",
    "for urls in attr:\n",
    "    url.append(urls['href'])\n",
    "browser.find_element_by_xpath('//*[@id=\"contents\"]/div[6]/a[8]').click()\n",
    "html=browser.page_source\n",
    "soup=BeautifulSoup(html,'html.parser')\n",
    "attr=soup.select('div > ul >li > a')\n",
    "for urls in attr:\n",
    "    url.append(urls['href'])\n",
    "browser.find_element_by_xpath('//*[@id=\"contents\"]/div[6]/a[9]').click()\n",
    "html=browser.page_source\n",
    "soup=BeautifulSoup(html,'html.parser')\n",
    "attr=soup.select('div > ul >li > a')\n",
    "for urls in attr:\n",
    "    url.append(urls['href'])\n",
    "browser.find_element_by_xpath('//*[@id=\"contents\"]/div[6]/a[9]').click()"
   ]
  },
  {
   "cell_type": "code",
   "execution_count": null,
   "metadata": {},
   "outputs": [],
   "source": [
    "dict={}\n",
    "browser.get(url[0])\n",
    "time.sleep(1)\n",
    "html=browser.page_source\n",
    "soup=BeautifulSoup(html,'html.parser')\n",
    "title=soup.find('div',{'class':'title'}).text\n",
    "title=title.replace('\\r','').replace('\\n','').replace('\\t','')\n",
    "text=soup.find('div',{'class':'detail sa_area'}).text\n",
    "text=text.replace('\\n','').replace('\\t','').replace('\\r','').replace('\\xa0','')\n",
    "dict[title]=text"
   ]
  }
 ],
 "metadata": {
  "kernelspec": {
   "display_name": "Python 3",
   "language": "python",
   "name": "python3"
  },
  "language_info": {
   "codemirror_mode": {
    "name": "ipython",
    "version": 3
   },
   "file_extension": ".py",
   "mimetype": "text/x-python",
   "name": "python",
   "nbconvert_exporter": "python",
   "pygments_lexer": "ipython3",
   "version": "3.6.8"
  }
 },
 "nbformat": 4,
 "nbformat_minor": 4
}
